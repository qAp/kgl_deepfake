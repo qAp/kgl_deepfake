{
 "cells": [
  {
   "cell_type": "code",
   "execution_count": null,
   "metadata": {},
   "outputs": [],
   "source": [
    "# Install facenet-pytorch, from : https://www.kaggle.com/timesler/facial-recognition-model-in-pytorch/data\n",
    "\n",
    "!pip install /kaggle/input/facenetpytorch/facenet_pytorch-2.0.1-py3-none-any.whl\n",
    "\n",
    "from facenet_pytorch.models.inception_resnet_v1 import get_torch_home\n",
    "\n",
    "torch_home = get_torch_home()"
   ]
  },
  {
   "cell_type": "code",
   "execution_count": null,
   "metadata": {},
   "outputs": [],
   "source": [
    "\n",
    "# Copy model checkpoints to torch cache so they are loaded automatically by the package\n",
    "\n",
    "!mkdir -p $torch_home/checkpoints/\n",
    "\n",
    "!cp /kaggle/input/facenetpytorch/20180402-114759-vggface2-logits.pth $torch_home/checkpoints/vggface2_DG3kwML46X.pt\n",
    "\n",
    "!cp /kaggle/input/facenetpytorch/20180402-114759-vggface2-features.pth $torch_home/checkpoints/vggface2_G5aNV2VSMn.pt"
   ]
  },
  {
   "cell_type": "code",
   "execution_count": null,
   "metadata": {},
   "outputs": [],
   "source": [
    "import numpy as np # linear algebra\n",
    "import pandas as pd # data processing, CSV file I/O (e.g. pd.read_csv)\n",
    "from fastai.core import *\n",
    "from fastai.vision import *\n",
    "import os\n",
    "import glob\n",
    "import time\n",
    "from tqdm import tqdm\n",
    "import cv2\n",
    "\n",
    "for dirname, _, filenames in os.walk('/kaggle/input'):\n",
    "\n",
    "    for filename in filenames:\n",
    "\n",
    "        print(os.path.join(dirname, filename))\n",
    "\n",
    "from facenet_pytorch import MTCNN"
   ]
  },
  {
   "cell_type": "code",
   "execution_count": null,
   "metadata": {},
   "outputs": [],
   "source": [
    "device = 'cuda:0' if torch.cuda.is_available() else 'cpu'"
   ]
  },
  {
   "cell_type": "code",
   "execution_count": null,
   "metadata": {},
   "outputs": [],
   "source": [
    "class DetectionPipeline:\n",
    "\n",
    "    \"\"\"Pipeline class for detecting faces in the frames of a video file.\"\"\"\n",
    "\n",
    "    def __init__(self, detector, n_frames=None, batch_size=60, resize=None):\n",
    "\n",
    "        \"\"\"Constructor for DetectionPipeline class.\n",
    "\n",
    "        Keyword Arguments:\n",
    "\n",
    "            n_frames {int} -- Total number of frames to load. These will be evenly spaced\n",
    "\n",
    "                throughout the video. If not specified (i.e., None), all frames will be loaded.\n",
    "\n",
    "                (default: {None})\n",
    "\n",
    "            batch_size {int} -- Batch size to use with MTCNN face detector. (default: {32})\n",
    "\n",
    "            resize {float} -- Fraction by which to resize frames from original prior to face\n",
    "\n",
    "                detection. A value less than 1 results in downsampling and a value greater than\n",
    "\n",
    "                1 result in upsampling. (default: {None})\n",
    "        \"\"\"\n",
    "\n",
    "        self.detector = detector\n",
    "        self.n_frames, self.batch_size, self.resize = n_frames, batch_size, resize\n",
    "\n",
    "\n",
    "    def __call__(self, filename, label=None, save_dir=None):\n",
    "        \"\"\"Load frames from an MP4 video and detect faces.\n",
    "        Arguments:\n",
    "            filename {str} -- Path to video.\n",
    "        \"\"\"\n",
    "        v_cap = cv2.VideoCapture(filename)\n",
    "        v_len = int(v_cap.get(cv2.CAP_PROP_FRAME_COUNT))\n",
    "\n",
    "        if self.n_frames is None: sample = np.arange(0, v_len)\n",
    "        else: sample = np.linspace(0, v_len - 1, self.n_frames).astype(int)\n",
    "\n",
    "        faces = []\n",
    "        idxs, frames = [], []\n",
    "        for j in range(v_len):\n",
    "            success = v_cap.grab()\n",
    "            if j in sample:\n",
    "                success, frame = v_cap.retrieve()\n",
    "                if not success: continue\n",
    "                frame = cv2.cvtColor(frame, cv2.COLOR_BGR2RGB)\n",
    "                frame = PIL.Image.fromarray(frame)  \n",
    "\n",
    "                if self.resize is not None:\n",
    "                    frame = frame.resize([int(d * self.resize) for d in frame.size])\n",
    "                idxs.append(j); frames.append(frame)\n",
    "\n",
    "                if len(frames) % self.batch_size == 0 or j == sample[-1]:\n",
    "                    if save_dir is not None:\n",
    "                        save_paths = self.get_savepaths(filename, idxs, label, save_dir)\n",
    "                        faces.extend(self.detector(frames, save_path=save_paths))\n",
    "                    else: faces.extend(self.detector(frames))\n",
    "                    idxs, frames = [], []\n",
    "        v_cap.release()\n",
    "        return faces\n",
    "\n",
    "    def get_savepaths(self, filename, idxs, label=None, save_dir=None):\n",
    "        if isinstance(filename, str): filename = Path(filename)\n",
    "        if save_dir is None: save_dir = Path('./')\n",
    "        if label is None: save_paths = [save_dir/f'{filename.stem}_{i:03d}.png' for i in idxs]\n",
    "        else: save_paths = [save_dir/f'{filename.stem}_{i:03d}_{label}.png' for i in idxs]\n",
    "        return [str(o) for o in save_paths]"
   ]
  },
  {
   "cell_type": "code",
   "execution_count": null,
   "metadata": {},
   "outputs": [],
   "source": [
    "def process_faces(faces, net):\n",
    "    # Filter out frames without faces\n",
    "    faces = [f for f in faces if f is not None]\n",
    "    faces = torch.cat(faces).to(device)\n",
    "\n",
    "    # Generate facial feature vectors using a pretrained model\n",
    "    embeddings = net(faces)\n",
    "\n",
    "    # Calculate centroid for video and distance of each face's feature vector from centroid\n",
    "    centroid = embeddings.mean(dim=0)\n",
    "    x = (embeddings - centroid).norm(dim=1).cpu().numpy()\n",
    "\n",
    "    return x"
   ]
  },
  {
   "cell_type": "code",
   "execution_count": null,
   "metadata": {},
   "outputs": [],
   "source": [
    "detector = MTCNN(device=device, post_process=False)\n",
    "\n",
    "facepipe = DetectionPipeline(detector, batch_size=60, n_frames=1, resize=1/2)"
   ]
  },
  {
   "cell_type": "code",
   "execution_count": null,
   "metadata": {},
   "outputs": [],
   "source": [
    "# Get all test videos\n",
    "\n",
    "filenames = glob.glob('/kaggle/input/deepfake-detection-challenge/test_videos/*.mp4')"
   ]
  },
  {
   "cell_type": "code",
   "execution_count": null,
   "metadata": {},
   "outputs": [],
   "source": [
    "sample_filenames = filenames[:10]"
   ]
  },
  {
   "cell_type": "code",
   "execution_count": null,
   "metadata": {},
   "outputs": [],
   "source": [
    "!mkdir /kaggle/working/test_faces"
   ]
  },
  {
   "cell_type": "code",
   "execution_count": null,
   "metadata": {},
   "outputs": [],
   "source": [
    "DIR_FACE = Path('/kaggle/working/test_faces/')"
   ]
  },
  {
   "cell_type": "code",
   "execution_count": null,
   "metadata": {},
   "outputs": [],
   "source": [
    "for i, filename in tqdm(enumerate(sample_filenames), total=len(sample_filenames)):\n",
    "    faces = facepipe(str(filename), save_dir=DIR_FACE)"
   ]
  },
  {
   "cell_type": "code",
   "execution_count": null,
   "metadata": {},
   "outputs": [],
   "source": []
  },
  {
   "cell_type": "code",
   "execution_count": null,
   "metadata": {},
   "outputs": [],
   "source": [
    "WEIGHTS = Path('/kaggle/input/weight/')"
   ]
  },
  {
   "cell_type": "code",
   "execution_count": null,
   "metadata": {},
   "outputs": [],
   "source": [
    "test = ImageList.from_folder(DIR_FACE)\n",
    "learner = load_learner(WEIGHTS, fname='export.pkl', test=test)"
   ]
  },
  {
   "cell_type": "code",
   "execution_count": null,
   "metadata": {},
   "outputs": [],
   "source": [
    "preds,_ = learn.get_preds(DatasetType.Test)"
   ]
  },
  {
   "cell_type": "code",
   "execution_count": null,
   "metadata": {},
   "outputs": [],
   "source": [
    "#submission = pd.DataFrame(preds, columns=['filename', 'label'])\n",
    "#submission.sort_values('filename').to_csv('submission.csv', index=False)"
   ]
  }
 ],
 "metadata": {
  "kernelspec": {
   "display_name": "Python 3",
   "language": "python",
   "name": "python3"
  },
  "language_info": {
   "codemirror_mode": {
    "name": "ipython",
    "version": 3
   },
   "file_extension": ".py",
   "mimetype": "text/x-python",
   "name": "python",
   "nbconvert_exporter": "python",
   "pygments_lexer": "ipython3",
   "version": "3.7.4"
  }
 },
 "nbformat": 4,
 "nbformat_minor": 1
}
