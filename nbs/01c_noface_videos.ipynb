{
 "cells": [
  {
   "cell_type": "markdown",
   "metadata": {},
   "source": [
    "# Looking at videos with no detected faces"
   ]
  },
  {
   "cell_type": "code",
   "execution_count": 7,
   "metadata": {},
   "outputs": [],
   "source": [
    "#export\n",
    "from fastai.vision import *\n",
    "from IPython.display import HTML\n",
    "import cv2\n",
    "import pandas as pd\n",
    "from facenet_pytorch import MTCNN\n",
    "\n",
    "from kgl_deepfake.nb_00 import *"
   ]
  },
  {
   "cell_type": "markdown",
   "metadata": {
    "heading_collapsed": true
   },
   "source": [
    "### Data"
   ]
  },
  {
   "cell_type": "code",
   "execution_count": 2,
   "metadata": {
    "hidden": true
   },
   "outputs": [],
   "source": [
    "SOURCE = Path('../data/train_sample_videos/')"
   ]
  },
  {
   "cell_type": "code",
   "execution_count": 3,
   "metadata": {
    "hidden": true
   },
   "outputs": [],
   "source": [
    "annots = pd.read_csv('annots_noface.csv')"
   ]
  },
  {
   "cell_type": "code",
   "execution_count": 4,
   "metadata": {
    "hidden": true
   },
   "outputs": [
    {
     "data": {
      "text/html": [
       "<div>\n",
       "<style scoped>\n",
       "    .dataframe tbody tr th:only-of-type {\n",
       "        vertical-align: middle;\n",
       "    }\n",
       "\n",
       "    .dataframe tbody tr th {\n",
       "        vertical-align: top;\n",
       "    }\n",
       "\n",
       "    .dataframe thead th {\n",
       "        text-align: right;\n",
       "    }\n",
       "</style>\n",
       "<table border=\"1\" class=\"dataframe\">\n",
       "  <thead>\n",
       "    <tr style=\"text-align: right;\">\n",
       "      <th></th>\n",
       "      <th>fname</th>\n",
       "      <th>label</th>\n",
       "      <th>split</th>\n",
       "      <th>original</th>\n",
       "    </tr>\n",
       "  </thead>\n",
       "  <tbody>\n",
       "    <tr>\n",
       "      <td>0</td>\n",
       "      <td>adhsbajydo.mp4</td>\n",
       "      <td>FAKE</td>\n",
       "      <td>train</td>\n",
       "      <td>fysyrqfguw.mp4</td>\n",
       "    </tr>\n",
       "    <tr>\n",
       "      <td>1</td>\n",
       "      <td>agrmhtjdlk.mp4</td>\n",
       "      <td>REAL</td>\n",
       "      <td>train</td>\n",
       "      <td>NaN</td>\n",
       "    </tr>\n",
       "    <tr>\n",
       "      <td>2</td>\n",
       "      <td>andaxzscny.mp4</td>\n",
       "      <td>FAKE</td>\n",
       "      <td>train</td>\n",
       "      <td>fysyrqfguw.mp4</td>\n",
       "    </tr>\n",
       "    <tr>\n",
       "      <td>3</td>\n",
       "      <td>aorjvbyxhw.mp4</td>\n",
       "      <td>FAKE</td>\n",
       "      <td>train</td>\n",
       "      <td>bulkxhhknf.mp4</td>\n",
       "    </tr>\n",
       "    <tr>\n",
       "      <td>4</td>\n",
       "      <td>atvmxvwyns.mp4</td>\n",
       "      <td>REAL</td>\n",
       "      <td>train</td>\n",
       "      <td>NaN</td>\n",
       "    </tr>\n",
       "  </tbody>\n",
       "</table>\n",
       "</div>"
      ],
      "text/plain": [
       "            fname label  split        original\n",
       "0  adhsbajydo.mp4  FAKE  train  fysyrqfguw.mp4\n",
       "1  agrmhtjdlk.mp4  REAL  train             NaN\n",
       "2  andaxzscny.mp4  FAKE  train  fysyrqfguw.mp4\n",
       "3  aorjvbyxhw.mp4  FAKE  train  bulkxhhknf.mp4\n",
       "4  atvmxvwyns.mp4  REAL  train             NaN"
      ]
     },
     "execution_count": 4,
     "metadata": {},
     "output_type": "execute_result"
    }
   ],
   "source": [
    "annots.head()"
   ]
  },
  {
   "cell_type": "code",
   "execution_count": 5,
   "metadata": {
    "hidden": true
   },
   "outputs": [],
   "source": [
    "fnames = [SOURCE/o for o in annots.fname]\n",
    "labels = [f'{o.fname} {o.label}' for i, o in annots.iterrows()]"
   ]
  },
  {
   "cell_type": "code",
   "execution_count": 8,
   "metadata": {
    "hidden": true,
    "scrolled": false
   },
   "outputs": [
    {
     "data": {
      "text/html": [
       "<table><tr><td><div><p>adhsbajydo.mp4 FAKE</p><br>\n",
       "    <video width=\"300\" height=\"250\" controls>\n",
       "    <source src=\"../data/train_sample_videos/adhsbajydo.mp4\" type=\"video/mp4\">\n",
       "    </video>\n",
       "    </div></td><td><div><p>agrmhtjdlk.mp4 REAL</p><br>\n",
       "    <video width=\"300\" height=\"250\" controls>\n",
       "    <source src=\"../data/train_sample_videos/agrmhtjdlk.mp4\" type=\"video/mp4\">\n",
       "    </video>\n",
       "    </div></td><td><div><p>andaxzscny.mp4 FAKE</p><br>\n",
       "    <video width=\"300\" height=\"250\" controls>\n",
       "    <source src=\"../data/train_sample_videos/andaxzscny.mp4\" type=\"video/mp4\">\n",
       "    </video>\n",
       "    </div></td></tr><tr><td><div><p>aorjvbyxhw.mp4 FAKE</p><br>\n",
       "    <video width=\"300\" height=\"250\" controls>\n",
       "    <source src=\"../data/train_sample_videos/aorjvbyxhw.mp4\" type=\"video/mp4\">\n",
       "    </video>\n",
       "    </div></td><td><div><p>atvmxvwyns.mp4 REAL</p><br>\n",
       "    <video width=\"300\" height=\"250\" controls>\n",
       "    <source src=\"../data/train_sample_videos/atvmxvwyns.mp4\" type=\"video/mp4\">\n",
       "    </video>\n",
       "    </div></td><td><div><p>avvdgsennp.mp4 FAKE</p><br>\n",
       "    <video width=\"300\" height=\"250\" controls>\n",
       "    <source src=\"../data/train_sample_videos/avvdgsennp.mp4\" type=\"video/mp4\">\n",
       "    </video>\n",
       "    </div></td></tr><tr><td><div><p>axwgcsyphv.mp4 FAKE</p><br>\n",
       "    <video width=\"300\" height=\"250\" controls>\n",
       "    <source src=\"../data/train_sample_videos/axwgcsyphv.mp4\" type=\"video/mp4\">\n",
       "    </video>\n",
       "    </div></td><td><div><p>bbvgxeczei.mp4 FAKE</p><br>\n",
       "    <video width=\"300\" height=\"250\" controls>\n",
       "    <source src=\"../data/train_sample_videos/bbvgxeczei.mp4\" type=\"video/mp4\">\n",
       "    </video>\n",
       "    </div></td><td><div><p>bqkdbcqjvb.mp4 FAKE</p><br>\n",
       "    <video width=\"300\" height=\"250\" controls>\n",
       "    <source src=\"../data/train_sample_videos/bqkdbcqjvb.mp4\" type=\"video/mp4\">\n",
       "    </video>\n",
       "    </div></td></tr><tr><td><div><p>cdyakrxkia.mp4 FAKE</p><br>\n",
       "    <video width=\"300\" height=\"250\" controls>\n",
       "    <source src=\"../data/train_sample_videos/cdyakrxkia.mp4\" type=\"video/mp4\">\n",
       "    </video>\n",
       "    </div></td><td><div><p>cwqlvzefpg.mp4 FAKE</p><br>\n",
       "    <video width=\"300\" height=\"250\" controls>\n",
       "    <source src=\"../data/train_sample_videos/cwqlvzefpg.mp4\" type=\"video/mp4\">\n",
       "    </video>\n",
       "    </div></td><td><div><p>cyboodqqyr.mp4 FAKE</p><br>\n",
       "    <video width=\"300\" height=\"250\" controls>\n",
       "    <source src=\"../data/train_sample_videos/cyboodqqyr.mp4\" type=\"video/mp4\">\n",
       "    </video>\n",
       "    </div></td></tr><tr><td><div><p>cycacemkmt.mp4 FAKE</p><br>\n",
       "    <video width=\"300\" height=\"250\" controls>\n",
       "    <source src=\"../data/train_sample_videos/cycacemkmt.mp4\" type=\"video/mp4\">\n",
       "    </video>\n",
       "    </div></td><td><div><p>czmqpxrqoh.mp4 FAKE</p><br>\n",
       "    <video width=\"300\" height=\"250\" controls>\n",
       "    <source src=\"../data/train_sample_videos/czmqpxrqoh.mp4\" type=\"video/mp4\">\n",
       "    </video>\n",
       "    </div></td><td><div><p>dhoqofwoxa.mp4 FAKE</p><br>\n",
       "    <video width=\"300\" height=\"250\" controls>\n",
       "    <source src=\"../data/train_sample_videos/dhoqofwoxa.mp4\" type=\"video/mp4\">\n",
       "    </video>\n",
       "    </div></td></tr><tr><td><div><p>djvutyvaio.mp4 FAKE</p><br>\n",
       "    <video width=\"300\" height=\"250\" controls>\n",
       "    <source src=\"../data/train_sample_videos/djvutyvaio.mp4\" type=\"video/mp4\">\n",
       "    </video>\n",
       "    </div></td><td><div><p>dkhlttuvmx.mp4 FAKE</p><br>\n",
       "    <video width=\"300\" height=\"250\" controls>\n",
       "    <source src=\"../data/train_sample_videos/dkhlttuvmx.mp4\" type=\"video/mp4\">\n",
       "    </video>\n",
       "    </div></td><td><div><p>dqnyszdong.mp4 FAKE</p><br>\n",
       "    <video width=\"300\" height=\"250\" controls>\n",
       "    <source src=\"../data/train_sample_videos/dqnyszdong.mp4\" type=\"video/mp4\">\n",
       "    </video>\n",
       "    </div></td></tr><tr><td><div><p>eoewqcpbgt.mp4 FAKE</p><br>\n",
       "    <video width=\"300\" height=\"250\" controls>\n",
       "    <source src=\"../data/train_sample_videos/eoewqcpbgt.mp4\" type=\"video/mp4\">\n",
       "    </video>\n",
       "    </div></td><td><div><p>esyhwdfnxs.mp4 FAKE</p><br>\n",
       "    <video width=\"300\" height=\"250\" controls>\n",
       "    <source src=\"../data/train_sample_videos/esyhwdfnxs.mp4\" type=\"video/mp4\">\n",
       "    </video>\n",
       "    </div></td></tr></table>"
      ],
      "text/plain": [
       "<IPython.core.display.HTML object>"
      ]
     },
     "execution_count": 8,
     "metadata": {},
     "output_type": "execute_result"
    }
   ],
   "source": [
    "HTML(html_vids(fnames, titles=labels))"
   ]
  },
  {
   "cell_type": "markdown",
   "metadata": {},
   "source": [
    "### Darkish videos"
   ]
  },
  {
   "cell_type": "markdown",
   "metadata": {},
   "source": [
    "Many of these videos have poor lighting.  Let's consider these in this section."
   ]
  },
  {
   "cell_type": "code",
   "execution_count": 201,
   "metadata": {},
   "outputs": [],
   "source": [
    "fn = 'atvmxvwyns.mp4'"
   ]
  },
  {
   "cell_type": "code",
   "execution_count": 202,
   "metadata": {},
   "outputs": [],
   "source": [
    "vcap = cv2.VideoCapture(str(SOURCE/fn))"
   ]
  },
  {
   "cell_type": "code",
   "execution_count": 203,
   "metadata": {},
   "outputs": [],
   "source": [
    "success, frame = vcap.read()"
   ]
  },
  {
   "cell_type": "code",
   "execution_count": 204,
   "metadata": {},
   "outputs": [
    {
     "data": {
      "text/plain": [
       "True"
      ]
     },
     "execution_count": 204,
     "metadata": {},
     "output_type": "execute_result"
    }
   ],
   "source": [
    "success"
   ]
  },
  {
   "cell_type": "code",
   "execution_count": 205,
   "metadata": {},
   "outputs": [],
   "source": [
    "vcap.release()"
   ]
  },
  {
   "cell_type": "code",
   "execution_count": 206,
   "metadata": {},
   "outputs": [],
   "source": [
    "frame = cv2.cvtColor(frame, cv2.COLOR_BGR2RGB)\n",
    "#frame = PIL.Image.fromarray(frame)"
   ]
  },
  {
   "cell_type": "code",
   "execution_count": 207,
   "metadata": {},
   "outputs": [],
   "source": [
    "pilimg = PIL.Image.fromarray(frame)\n",
    "img = tensor(frame).permute(2, 0, 1)"
   ]
  },
  {
   "cell_type": "markdown",
   "metadata": {},
   "source": [
    "Scale up all values increases the brightness of the image.  (Don't know if there is a better way to increase brightness.)"
   ]
  },
  {
   "cell_type": "code",
   "execution_count": 208,
   "metadata": {},
   "outputs": [],
   "source": [
    "img_brighter = (2 * img.float()).clamp_max(255).clamp_min(0).type(torch.uint8)"
   ]
  },
  {
   "cell_type": "code",
   "execution_count": 209,
   "metadata": {},
   "outputs": [],
   "source": [
    "pilimg_brighter = PIL.Image.fromarray(img_brighter.permute(1, 2, 0).numpy())"
   ]
  },
  {
   "cell_type": "code",
   "execution_count": 210,
   "metadata": {},
   "outputs": [
    {
     "data": {
      "text/plain": [
       "tensor([44.7277, 32.8818, 23.9042])"
      ]
     },
     "execution_count": 210,
     "metadata": {},
     "output_type": "execute_result"
    },
    {
     "data": {
      "image/png": "[encoded data removed]",
      "text/plain": [
       "<Figure size 216x216 with 1 Axes>"
      ]
     },
     "metadata": {
      "needs_background": "light"
     },
     "output_type": "display_data"
    }
   ],
   "source": [
    "Image(img).show(); img.float().mean(dim=[1, 2])"
   ]
  },
  {
   "cell_type": "code",
   "execution_count": 211,
   "metadata": {},
   "outputs": [
    {
     "data": {
      "text/plain": [
       "tensor([89.4554, 65.7637, 47.8085])"
      ]
     },
     "execution_count": 211,
     "metadata": {},
     "output_type": "execute_result"
    },
    {
     "data": {
      "image/png": "[encoded data removed]",
      "text/plain": [
       "<Figure size 216x216 with 1 Axes>"
      ]
     },
     "metadata": {
      "needs_background": "light"
     },
     "output_type": "display_data"
    }
   ],
   "source": [
    "Image(img_brighter).show(); img_brighter.float().mean(dim=[1, 2])"
   ]
  },
  {
   "cell_type": "code",
   "execution_count": 212,
   "metadata": {},
   "outputs": [],
   "source": [
    "device = 'cuda:0' if torch.cuda.is_available() else 'cpu'"
   ]
  },
  {
   "cell_type": "code",
   "execution_count": 213,
   "metadata": {},
   "outputs": [],
   "source": [
    "detector = MTCNN(device=device, post_process=False)"
   ]
  },
  {
   "cell_type": "code",
   "execution_count": 214,
   "metadata": {},
   "outputs": [],
   "source": [
    "face = detector(pilimg)"
   ]
  },
  {
   "cell_type": "code",
   "execution_count": 215,
   "metadata": {},
   "outputs": [
    {
     "data": {
      "text/plain": [
       "True"
      ]
     },
     "execution_count": 215,
     "metadata": {},
     "output_type": "execute_result"
    }
   ],
   "source": [
    "face is None"
   ]
  },
  {
   "cell_type": "code",
   "execution_count": 216,
   "metadata": {},
   "outputs": [],
   "source": [
    "face_brighter = detector(pilimg_brighter)"
   ]
  },
  {
   "cell_type": "code",
   "execution_count": 219,
   "metadata": {},
   "outputs": [
    {
     "data": {
      "image/png": "[encoded data removed]",
      "text/plain": [
       "<Figure size 216x216 with 1 Axes>"
      ]
     },
     "metadata": {
      "needs_background": "light"
     },
     "output_type": "display_data"
    }
   ],
   "source": [
    "Image(face_brighter.type(torch.uint8)).show()"
   ]
  },
  {
   "cell_type": "markdown",
   "metadata": {},
   "source": [
    "By increasing the brightness, a face from the first frame of the following videos is detected:\n",
    "\n",
    "* esyhwdfnxs.mp4 2x  \n",
    "* eoewqcpbgt.mp4 2x\n",
    "* atvmxvwyns.mp4 2x\n",
    "\n",
    "'2x' indicates that the image array was multiplied by 2.  Multiplying by 1.5 didn't work, at least not for the first video listed here."
   ]
  },
  {
   "cell_type": "markdown",
   "metadata": {},
   "source": [
    "# - fin"
   ]
  },
  {
   "cell_type": "code",
   "execution_count": null,
   "metadata": {},
   "outputs": [],
   "source": []
  }
 ],
 "metadata": {
  "kernelspec": {
   "display_name": "Python 3",
   "language": "python",
   "name": "python3"
  },
  "language_info": {
   "codemirror_mode": {
    "name": "ipython",
    "version": 3
   },
   "file_extension": ".py",
   "mimetype": "text/x-python",
   "name": "python",
   "nbconvert_exporter": "python",
   "pygments_lexer": "ipython3",
   "version": "3.7.4"
  }
 },
 "nbformat": 4,
 "nbformat_minor": 2
}
