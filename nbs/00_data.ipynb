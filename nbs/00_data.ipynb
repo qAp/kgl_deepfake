{
 "cells": [
  {
   "cell_type": "markdown",
   "metadata": {},
   "source": [
    "# Look at some samples"
   ]
  },
  {
   "cell_type": "code",
   "execution_count": 1,
   "metadata": {},
   "outputs": [],
   "source": [
    "%reload_ext autoreload\n",
    "%autoreload 2"
   ]
  },
  {
   "cell_type": "code",
   "execution_count": 19,
   "metadata": {},
   "outputs": [],
   "source": [
    "#default_exp data"
   ]
  },
  {
   "cell_type": "code",
   "execution_count": 3,
   "metadata": {},
   "outputs": [],
   "source": [
    "#export\n",
    "from fastai.vision import *\n",
    "import pandas as pd\n",
    "from IPython.display import display, Video, HTML"
   ]
  },
  {
   "cell_type": "code",
   "execution_count": 4,
   "metadata": {},
   "outputs": [],
   "source": [
    "SOURCE = Path('../data/train_sample_videos//')"
   ]
  },
  {
   "cell_type": "markdown",
   "metadata": {},
   "source": [
    "### Displyaing videos"
   ]
  },
  {
   "cell_type": "code",
   "execution_count": 5,
   "metadata": {},
   "outputs": [
    {
     "data": {
      "text/plain": [
       "([PosixPath('../data/train_sample_videos/bxzakyopjf.mp4'),\n",
       "  PosixPath('../data/train_sample_videos/axwgcsyphv.mp4'),\n",
       "  PosixPath('../data/train_sample_videos/akvmwkdyuv.mp4')],\n",
       " 400)"
      ]
     },
     "execution_count": 5,
     "metadata": {},
     "output_type": "execute_result"
    }
   ],
   "source": [
    "fnames = get_files(SOURCE, extensions=['.mp4'])\n",
    "fnames[:3], len(fnames)"
   ]
  },
  {
   "cell_type": "code",
   "execution_count": null,
   "metadata": {},
   "outputs": [],
   "source": []
  },
  {
   "cell_type": "code",
   "execution_count": 38,
   "metadata": {},
   "outputs": [],
   "source": [
    "#export\n",
    "def html_vid(fname):\n",
    "    \"Return HTML for video.\"\n",
    "    return f'''\n",
    "    <video width=\"300\" height=\"250\" controls>\n",
    "    <source src=\"{fname}\" type=\"video/mp4\">\n",
    "    </video>\n",
    "    '''"
   ]
  },
  {
   "cell_type": "code",
   "execution_count": null,
   "metadata": {},
   "outputs": [
    {
     "data": {
      "text/html": [
       "\n",
       "    <video width=\"300\" height=\"250\" controls>\n",
       "    <source src=\"../data/train_sample_videos/cuzrgrbvil.mp4\" type=\"video/mp4\">\n",
       "    </video>\n",
       "    "
      ],
      "text/plain": [
       "<IPython.core.display.HTML object>"
      ]
     },
     "execution_count": null,
     "metadata": {},
     "output_type": "execute_result"
    }
   ],
   "source": [
    "HTML(html_vid(fnames[9]))"
   ]
  },
  {
   "cell_type": "code",
   "execution_count": 39,
   "metadata": {},
   "outputs": [],
   "source": [
    "#export\n",
    "def html_titled_vid(fname, title):\n",
    "    \"Return HTML for titled video.\"\n",
    "    return f'<div><p>{title}</p><br>{html_vid(fname)}</div>'"
   ]
  },
  {
   "cell_type": "code",
   "execution_count": 40,
   "metadata": {},
   "outputs": [],
   "source": [
    "#export\n",
    "def html_vids(fnames, titles=None, ncols=3):\n",
    "    \"Return HTML for table of (titled) videos.\"\n",
    "    n = len(fnames)\n",
    "    if titles is None: titles = n * ['']\n",
    "    assert len(titles) == n\n",
    "    rs = []\n",
    "    for i in range(0, n, ncols):\n",
    "        fs, ts = fnames[i:i+ncols], titles[i:i+ncols]\n",
    "        xs = (html_titled_vid(f, t) for f,t in zip(fs, ts))\n",
    "        xs = (f'<td>{x}</td>' for x in xs)\n",
    "        r = f\"<tr>{''.join(xs)}</tr>\"\n",
    "        rs.append(r)\n",
    "    return f\"<table>{''.join(rs)}</table>\""
   ]
  },
  {
   "cell_type": "code",
   "execution_count": null,
   "metadata": {},
   "outputs": [
    {
     "data": {
      "text/html": [
       "<table><tr><td><div><p>fake</p><br>\n",
       "    <video width=\"300\" height=\"250\" controls>\n",
       "    <source src=\"../data/train_sample_videos/atyntldecu.mp4\" type=\"video/mp4\">\n",
       "    </video>\n",
       "    </div></td><td><div><p>real</p><br>\n",
       "    <video width=\"300\" height=\"250\" controls>\n",
       "    <source src=\"../data/train_sample_videos/bggsurpgpr.mp4\" type=\"video/mp4\">\n",
       "    </video>\n",
       "    </div></td><td><div><p>fake</p><br>\n",
       "    <video width=\"300\" height=\"250\" controls>\n",
       "    <source src=\"../data/train_sample_videos/eckvhdusax.mp4\" type=\"video/mp4\">\n",
       "    </video>\n",
       "    </div></td></tr><tr><td><div><p>carrot</p><br>\n",
       "    <video width=\"300\" height=\"250\" controls>\n",
       "    <source src=\"../data/train_sample_videos/dvakowbgbt.mp4\" type=\"video/mp4\">\n",
       "    </video>\n",
       "    </div></td><td><div><p>muffin</p><br>\n",
       "    <video width=\"300\" height=\"250\" controls>\n",
       "    <source src=\"../data/train_sample_videos/dqqtjcryjv.mp4\" type=\"video/mp4\">\n",
       "    </video>\n",
       "    </div></td></tr></table>"
      ],
      "text/plain": [
       "<IPython.core.display.HTML object>"
      ]
     },
     "execution_count": null,
     "metadata": {},
     "output_type": "execute_result"
    }
   ],
   "source": [
    "HTML(html_vids(fnames[10:15], ['fake', 'real', 'fake', 'carrot', 'muffin'], ncols=3))"
   ]
  },
  {
   "cell_type": "markdown",
   "metadata": {},
   "source": [
    "## Annotations"
   ]
  },
  {
   "cell_type": "markdown",
   "metadata": {
    "heading_collapsed": true
   },
   "source": [
    "### FAKE video's original video"
   ]
  },
  {
   "cell_type": "code",
   "execution_count": null,
   "metadata": {
    "hidden": true
   },
   "outputs": [],
   "source": [
    "f = get_files(SOURCE, extensions=['.json'])[0]\n",
    "annots = pd.read_json(f).T"
   ]
  },
  {
   "cell_type": "markdown",
   "metadata": {
    "hidden": true
   },
   "source": [
    "Note that FAKE videos have the additional annotation field *original*, which indicates the original, real video from which the fake was generated, perhaps.  For real videos, this field is `NaN`."
   ]
  },
  {
   "cell_type": "code",
   "execution_count": null,
   "metadata": {
    "hidden": true
   },
   "outputs": [
    {
     "data": {
      "text/html": [
       "<div>\n",
       "<style scoped>\n",
       "    .dataframe tbody tr th:only-of-type {\n",
       "        vertical-align: middle;\n",
       "    }\n",
       "\n",
       "    .dataframe tbody tr th {\n",
       "        vertical-align: top;\n",
       "    }\n",
       "\n",
       "    .dataframe thead th {\n",
       "        text-align: right;\n",
       "    }\n",
       "</style>\n",
       "<table border=\"1\" class=\"dataframe\">\n",
       "  <thead>\n",
       "    <tr style=\"text-align: right;\">\n",
       "      <th></th>\n",
       "      <th>label</th>\n",
       "      <th>split</th>\n",
       "      <th>original</th>\n",
       "    </tr>\n",
       "  </thead>\n",
       "  <tbody>\n",
       "    <tr>\n",
       "      <td>abarnvbtwb.mp4</td>\n",
       "      <td>REAL</td>\n",
       "      <td>train</td>\n",
       "      <td>None</td>\n",
       "    </tr>\n",
       "    <tr>\n",
       "      <td>aelfnikyqj.mp4</td>\n",
       "      <td>REAL</td>\n",
       "      <td>train</td>\n",
       "      <td>None</td>\n",
       "    </tr>\n",
       "    <tr>\n",
       "      <td>afoovlsmtx.mp4</td>\n",
       "      <td>REAL</td>\n",
       "      <td>train</td>\n",
       "      <td>None</td>\n",
       "    </tr>\n",
       "    <tr>\n",
       "      <td>agrmhtjdlk.mp4</td>\n",
       "      <td>REAL</td>\n",
       "      <td>train</td>\n",
       "      <td>None</td>\n",
       "    </tr>\n",
       "    <tr>\n",
       "      <td>ahqqqilsxt.mp4</td>\n",
       "      <td>REAL</td>\n",
       "      <td>train</td>\n",
       "      <td>None</td>\n",
       "    </tr>\n",
       "  </tbody>\n",
       "</table>\n",
       "</div>"
      ],
      "text/plain": [
       "               label  split original\n",
       "abarnvbtwb.mp4  REAL  train     None\n",
       "aelfnikyqj.mp4  REAL  train     None\n",
       "afoovlsmtx.mp4  REAL  train     None\n",
       "agrmhtjdlk.mp4  REAL  train     None\n",
       "ahqqqilsxt.mp4  REAL  train     None"
      ]
     },
     "execution_count": null,
     "metadata": {},
     "output_type": "execute_result"
    }
   ],
   "source": [
    "annots[annots.label=='REAL'].head()"
   ]
  },
  {
   "cell_type": "code",
   "execution_count": null,
   "metadata": {
    "hidden": true
   },
   "outputs": [
    {
     "data": {
      "text/html": [
       "<div>\n",
       "<style scoped>\n",
       "    .dataframe tbody tr th:only-of-type {\n",
       "        vertical-align: middle;\n",
       "    }\n",
       "\n",
       "    .dataframe tbody tr th {\n",
       "        vertical-align: top;\n",
       "    }\n",
       "\n",
       "    .dataframe thead th {\n",
       "        text-align: right;\n",
       "    }\n",
       "</style>\n",
       "<table border=\"1\" class=\"dataframe\">\n",
       "  <thead>\n",
       "    <tr style=\"text-align: right;\">\n",
       "      <th></th>\n",
       "      <th>label</th>\n",
       "      <th>split</th>\n",
       "      <th>original</th>\n",
       "    </tr>\n",
       "  </thead>\n",
       "  <tbody>\n",
       "    <tr>\n",
       "      <td>aagfhgtpmv.mp4</td>\n",
       "      <td>FAKE</td>\n",
       "      <td>train</td>\n",
       "      <td>vudstovrck.mp4</td>\n",
       "    </tr>\n",
       "    <tr>\n",
       "      <td>aapnvogymq.mp4</td>\n",
       "      <td>FAKE</td>\n",
       "      <td>train</td>\n",
       "      <td>jdubbvfswz.mp4</td>\n",
       "    </tr>\n",
       "    <tr>\n",
       "      <td>abofeumbvv.mp4</td>\n",
       "      <td>FAKE</td>\n",
       "      <td>train</td>\n",
       "      <td>atvmxvwyns.mp4</td>\n",
       "    </tr>\n",
       "    <tr>\n",
       "      <td>abqwwspghj.mp4</td>\n",
       "      <td>FAKE</td>\n",
       "      <td>train</td>\n",
       "      <td>qzimuostzz.mp4</td>\n",
       "    </tr>\n",
       "    <tr>\n",
       "      <td>acifjvzvpm.mp4</td>\n",
       "      <td>FAKE</td>\n",
       "      <td>train</td>\n",
       "      <td>kbvibjhfzo.mp4</td>\n",
       "    </tr>\n",
       "  </tbody>\n",
       "</table>\n",
       "</div>"
      ],
      "text/plain": [
       "               label  split        original\n",
       "aagfhgtpmv.mp4  FAKE  train  vudstovrck.mp4\n",
       "aapnvogymq.mp4  FAKE  train  jdubbvfswz.mp4\n",
       "abofeumbvv.mp4  FAKE  train  atvmxvwyns.mp4\n",
       "abqwwspghj.mp4  FAKE  train  qzimuostzz.mp4\n",
       "acifjvzvpm.mp4  FAKE  train  kbvibjhfzo.mp4"
      ]
     },
     "execution_count": null,
     "metadata": {},
     "output_type": "execute_result"
    }
   ],
   "source": [
    "annots[annots.label=='FAKE'].head()"
   ]
  },
  {
   "cell_type": "markdown",
   "metadata": {
    "hidden": true
   },
   "source": [
    "This checks that all the fake videos' original video are also videos in this dataset."
   ]
  },
  {
   "cell_type": "code",
   "execution_count": null,
   "metadata": {
    "hidden": true
   },
   "outputs": [
    {
     "ename": "AssertionError",
     "evalue": "",
     "output_type": "error",
     "traceback": [
      "\u001b[0;31m---------------------------------------------------------------------------\u001b[0m",
      "\u001b[0;31mAssertionError\u001b[0m                            Traceback (most recent call last)",
      "\u001b[0;32m<ipython-input-44-20fb18b8444f>\u001b[0m in \u001b[0;36m<module>\u001b[0;34m\u001b[0m\n\u001b[0;32m----> 1\u001b[0;31m \u001b[0;32massert\u001b[0m \u001b[0mset\u001b[0m\u001b[0;34m(\u001b[0m\u001b[0mannots\u001b[0m\u001b[0;34m.\u001b[0m\u001b[0moriginal\u001b[0m\u001b[0;34m[\u001b[0m\u001b[0mannots\u001b[0m\u001b[0;34m.\u001b[0m\u001b[0moriginal\u001b[0m\u001b[0;34m.\u001b[0m\u001b[0mnotna\u001b[0m\u001b[0;34m(\u001b[0m\u001b[0;34m)\u001b[0m\u001b[0;34m]\u001b[0m\u001b[0;34m.\u001b[0m\u001b[0munique\u001b[0m\u001b[0;34m(\u001b[0m\u001b[0;34m)\u001b[0m\u001b[0;34m)\u001b[0m  \u001b[0;34m-\u001b[0m \u001b[0mset\u001b[0m\u001b[0;34m(\u001b[0m\u001b[0mannots\u001b[0m\u001b[0;34m.\u001b[0m\u001b[0mindex\u001b[0m\u001b[0;34m.\u001b[0m\u001b[0munique\u001b[0m\u001b[0;34m(\u001b[0m\u001b[0;34m)\u001b[0m\u001b[0;34m)\u001b[0m \u001b[0;34m==\u001b[0m \u001b[0mset\u001b[0m\u001b[0;34m(\u001b[0m\u001b[0;34m)\u001b[0m\u001b[0;34m\u001b[0m\u001b[0;34m\u001b[0m\u001b[0m\n\u001b[0m",
      "\u001b[0;31mAssertionError\u001b[0m: "
     ]
    }
   ],
   "source": [
    "assert set(annots.original[annots.original.notna()].unique())  - set(annots.index.unique()) == set()"
   ]
  },
  {
   "cell_type": "markdown",
   "metadata": {
    "hidden": true
   },
   "source": [
    "Display some fake videos next to their original video."
   ]
  },
  {
   "cell_type": "code",
   "execution_count": null,
   "metadata": {
    "hidden": true
   },
   "outputs": [
    {
     "data": {
      "text/html": [
       "<table><tr><td><div><p></p><br>\n",
       "    <video width=\"300\" height=\"250\" controls>\n",
       "    <source src=\"../data/train_sample_videos/amaivqofda.mp4\" type=\"video/mp4\">\n",
       "    </video>\n",
       "    </div></td><td><div><p></p><br>\n",
       "    <video width=\"300\" height=\"250\" controls>\n",
       "    <source src=\"../data/train_sample_videos/xobhsemxmv.mp4\" type=\"video/mp4\">\n",
       "    </video>\n",
       "    </div></td></tr><tr><td><div><p></p><br>\n",
       "    <video width=\"300\" height=\"250\" controls>\n",
       "    <source src=\"../data/train_sample_videos/ctzmavwror.mp4\" type=\"video/mp4\">\n",
       "    </video>\n",
       "    </div></td><td><div><p></p><br>\n",
       "    <video width=\"300\" height=\"250\" controls>\n",
       "    <source src=\"../data/train_sample_videos/lkdlzpkukw.mp4\" type=\"video/mp4\">\n",
       "    </video>\n",
       "    </div></td></tr><tr><td><div><p></p><br>\n",
       "    <video width=\"300\" height=\"250\" controls>\n",
       "    <source src=\"../data/train_sample_videos/dbzpcjntve.mp4\" type=\"video/mp4\">\n",
       "    </video>\n",
       "    </div></td><td><div><p></p><br>\n",
       "    <video width=\"300\" height=\"250\" controls>\n",
       "    <source src=\"../data/train_sample_videos/ellavthztb.mp4\" type=\"video/mp4\">\n",
       "    </video>\n",
       "    </div></td></tr><tr><td><div><p></p><br>\n",
       "    <video width=\"300\" height=\"250\" controls>\n",
       "    <source src=\"../data/train_sample_videos/akvmwkdyuv.mp4\" type=\"video/mp4\">\n",
       "    </video>\n",
       "    </div></td><td><div><p></p><br>\n",
       "    <video width=\"300\" height=\"250\" controls>\n",
       "    <source src=\"../data/train_sample_videos/xlbnmndmku.mp4\" type=\"video/mp4\">\n",
       "    </video>\n",
       "    </div></td></tr><tr><td><div><p></p><br>\n",
       "    <video width=\"300\" height=\"250\" controls>\n",
       "    <source src=\"../data/train_sample_videos/bmioepcpsx.mp4\" type=\"video/mp4\">\n",
       "    </video>\n",
       "    </div></td><td><div><p></p><br>\n",
       "    <video width=\"300\" height=\"250\" controls>\n",
       "    <source src=\"../data/train_sample_videos/vmospzljws.mp4\" type=\"video/mp4\">\n",
       "    </video>\n",
       "    </div></td></tr></table>"
      ],
      "text/plain": [
       "<IPython.core.display.HTML object>"
      ]
     },
     "execution_count": null,
     "metadata": {},
     "output_type": "execute_result"
    }
   ],
   "source": [
    "n = 5\n",
    "s = annots[annots.label == 'FAKE'].sample(n)\n",
    "fs, rs = s.index.values, s.original.values\n",
    "vids = np.stack([fs, rs], axis=1).reshape(-1)\n",
    "vids = [SOURCE/o for o in vids]\n",
    "HTML(html_vids(vids, ncols=2))"
   ]
  },
  {
   "cell_type": "markdown",
   "metadata": {},
   "source": [
    "### Loading annotation from multiple dataset directories"
   ]
  },
  {
   "cell_type": "code",
   "execution_count": 58,
   "metadata": {},
   "outputs": [],
   "source": [
    "#export\n",
    "def get_annots(SOURCE):\n",
    "    \"\"\"\n",
    "    extract the metadata from all the folders contained in SOURCE.\n",
    "    \"\"\"\n",
    "    \n",
    "    files = []\n",
    "    annots = []\n",
    "    \n",
    "    for i in SOURCE.iterdir(): # iterate over the files in SOURCE\n",
    "        if i.is_dir() and (i/'metadata.json').is_file(): # Get only the directories\n",
    "            print(f'Extracting data from the {i.name} folder')\n",
    "            f = get_files(i, extensions=['.json']) # Extract the metadata\n",
    "            files.append(f) \n",
    "            \n",
    "            a = pd.read_json(f[0]).T\n",
    "            a.reset_index(inplace=True)\n",
    "            a.rename({'index':'fname'}, axis=1, inplace=True)\n",
    "            a.fname = i.name + '/' + a.fname.astype(str)\n",
    "            a.loc[a.label=='FAKE', 'original'] = i.name + '/' + a.original[a.label=='FAKE']\n",
    "            \n",
    "            annots.append(a)\n",
    "    return pd.concat(annots).reset_index(drop=True)"
   ]
  },
  {
   "cell_type": "code",
   "execution_count": 59,
   "metadata": {},
   "outputs": [],
   "source": [
    "SOURCE = Path('../data/')"
   ]
  },
  {
   "cell_type": "code",
   "execution_count": 60,
   "metadata": {},
   "outputs": [
    {
     "name": "stdout",
     "output_type": "stream",
     "text": [
      "Extracting data from the dfdc_train_part_0 folder\n",
      "Extracting data from the train_sample_videos folder\n",
      "Extracting data from the dfdc_train_part_40 folder\n",
      "Extracting data from the dfdc_train_part_45 folder\n",
      "Extracting data from the dfdc_train_part_10 folder\n",
      "Extracting data from the dfdc_train_part_5 folder\n"
     ]
    }
   ],
   "source": [
    "annots = get_annots(SOURCE)"
   ]
  },
  {
   "cell_type": "code",
   "execution_count": 63,
   "metadata": {},
   "outputs": [
    {
     "data": {
      "text/plain": [
       "(12175, 4)"
      ]
     },
     "execution_count": 63,
     "metadata": {},
     "output_type": "execute_result"
    }
   ],
   "source": [
    "annots_fake = annots[annots.label=='FAKE']\n",
    "annots.shape"
   ]
  },
  {
   "cell_type": "code",
   "execution_count": 67,
   "metadata": {},
   "outputs": [
    {
     "data": {
      "text/html": [
       "<table><tr><td><div><p>FAKE</p><br>\n",
       "    <video width=\"300\" height=\"250\" controls>\n",
       "    <source src=\"../data/dfdc_train_part_0/juzjntqofi.mp4\" type=\"video/mp4\">\n",
       "    </video>\n",
       "    </div></td><td><div><p>REAL</p><br>\n",
       "    <video width=\"300\" height=\"250\" controls>\n",
       "    <source src=\"../data/dfdc_train_part_0/nhsijqpoda.mp4\" type=\"video/mp4\">\n",
       "    </video>\n",
       "    </div></td></tr></table>"
      ],
      "text/plain": [
       "<IPython.core.display.HTML object>"
      ]
     },
     "execution_count": 67,
     "metadata": {},
     "output_type": "execute_result"
    }
   ],
   "source": [
    "idx = 218\n",
    "\n",
    "fns = [SOURCE/f[idx] for f in (annots_fake.fname, annots_fake.original)]\n",
    "HTML(html_vids(fns, titles=['FAKE', 'REAL']))"
   ]
  },
  {
   "cell_type": "markdown",
   "metadata": {},
   "source": [
    "# -fin"
   ]
  },
  {
   "cell_type": "code",
   "execution_count": 1,
   "metadata": {},
   "outputs": [],
   "source": [
    "from nbdev.export import *"
   ]
  },
  {
   "cell_type": "code",
   "execution_count": 2,
   "metadata": {},
   "outputs": [
    {
     "name": "stdout",
     "output_type": "stream",
     "text": [
      "Converted 00_data-Copy1.ipynb.\n",
      "Converted 00_data.ipynb.\n",
      "Converted 01_face_detection.ipynb.\n",
      "Converted 01a_faces_probs_examples-Copy1.ipynb.\n",
      "Converted 01a_faces_probs_examples.ipynb.\n",
      "Converted 02_fix_luminosity.ipynb.\n",
      "Converted 02a_create_faceimage_dataset.ipynb.\n",
      "Converted 02bis_Create_Dataset.ipynb.\n",
      "Converted 02c_faces_different_dfdc_zips.ipynb.\n",
      "Converted 03_models.ipynb.\n",
      "Converted 04_Baseline_Classification.ipynb.\n",
      "Converted 04_Classification.ipynb.\n",
      "Converted 04a_classification_videolist.ipynb.\n",
      "Converted 05_Class_Imbalance.ipynb.\n",
      "Converted 06_Focal_Loss.ipynb.\n",
      "Converted 07_full_classification.ipynb.\n",
      "This cell doesn't have an export destination and was ignored:\n",
      "e\n",
      "Converted 07a_classify_video_margin.ipynb.\n",
      "Converted 07b_classify_resize.ipynb.\n",
      "Converted deepfake_submission.ipynb.\n",
      "Converted export_kernel_module.ipynb.\n",
      "Converted test_submission.ipynb.\n"
     ]
    }
   ],
   "source": [
    "notebook2script()"
   ]
  },
  {
   "cell_type": "code",
   "execution_count": null,
   "metadata": {},
   "outputs": [],
   "source": []
  }
 ],
 "metadata": {
  "kernelspec": {
   "display_name": "Python 3",
   "language": "python",
   "name": "python3"
  },
  "language_info": {
   "codemirror_mode": {
    "name": "ipython",
    "version": 3
   },
   "file_extension": ".py",
   "mimetype": "text/x-python",
   "name": "python",
   "nbconvert_exporter": "python",
   "pygments_lexer": "ipython3",
   "version": "3.7.6"
  }
 },
 "nbformat": 4,
 "nbformat_minor": 2
}
