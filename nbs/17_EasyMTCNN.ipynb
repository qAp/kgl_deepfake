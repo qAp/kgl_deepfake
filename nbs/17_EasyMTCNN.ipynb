{
 "cells": [
  {
   "cell_type": "code",
   "execution_count": null,
   "metadata": {},
   "outputs": [],
   "source": [
    "#default_exp EasyMTCNN"
   ]
  },
  {
   "cell_type": "code",
   "execution_count": null,
   "metadata": {},
   "outputs": [],
   "source": [
    "#export\n",
    "\n",
    "# %load ../face_detection/EasyMTCNN.py\n",
    "import cv2\n",
    "import PIL\n",
    "import torch\n",
    "import numpy as np\n",
    "import matplotlib.pyplot as plt\n",
    "\n",
    "from pathlib import Path\n",
    "from kgl_deepfake.facenet_pytorch.models.mtcnn import MTCNN\n",
    "from kgl_deepfake.video_utils import read_frame\n",
    "\n",
    "\n",
    "class EasyMTCNN:\n",
    "\n",
    "    def __init__(self, path_pnet='pnet.pt', path_rnet='rnet.pt', path_onet='onet.pt'):\n",
    "        device = torch.device('cuda:0' if torch.cuda.is_available() else 'cpu')\n",
    "        self.detector = MTCNN(device=device, post_process=False,\n",
    "                              path_pnet=path_pnet, path_rnet=path_rnet, path_onet=path_onet)\n",
    "\n",
    "    def detect(self, frame):\n",
    "        img = PIL.Image.fromarray(frame)\n",
    "        detections, probabilities = self.detector.detect(img)\n",
    "        if detections is None or len(detections) == 0:\n",
    "            return np.array([]).reshape(0, 5)\n",
    "        dets_with_probs = np.append(detections, np.expand_dims(probabilities, axis=1), axis=1)\n",
    "        return dets_with_probs\n",
    "    \n",
    "    def detect_on_multiple_frames(self, frames):\n",
    "        detections = []\n",
    "        for frame in frames:\n",
    "            current_detections = self.detect(frame)\n",
    "            detections.append(current_detections)\n",
    "        return detections"
   ]
  },
  {
   "cell_type": "code",
   "execution_count": null,
   "metadata": {},
   "outputs": [],
   "source": []
  }
 ],
 "metadata": {
  "kernelspec": {
   "display_name": "Python 3",
   "language": "python",
   "name": "python3"
  }
 },
 "nbformat": 4,
 "nbformat_minor": 4
}
