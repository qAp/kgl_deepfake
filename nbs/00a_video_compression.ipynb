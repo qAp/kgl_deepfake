{
 "cells": [
  {
   "cell_type": "markdown",
   "metadata": {},
   "source": [
    "# Video compression"
   ]
  },
  {
   "cell_type": "markdown",
   "metadata": {},
   "source": [
    "According to the dataset paper, \n",
    "\n",
    "> However, for each target video in the test set, we randomly selected two clips out of three and applied augmentations that\n",
    "approximate actual degradations seen in real-life video distributions. Specifically, these augmentations were\n",
    "> 1. reduce the FPS of the video to 15\n",
    "> 2. reduce the resolution of the video to 1/4 of its original size\n",
    "> 3. reduce the overall encoding quality"
   ]
  },
  {
   "cell_type": "markdown",
   "metadata": {},
   "source": [
    "In this notebook we look at how to compress videos using `ffmpeg`.  Based on the above list, a quick search returns several useful examples:\n",
    "\n",
    "* General compression for the web 1: https://dev.to/benjaminblack/use-ffmpeg-to-compress-and-convert-videos-458l  \n",
    "* General compression for the web 2: https://trac.ffmpeg.org/wiki/Encode/YouTube   \n",
    "* Frame rate change: https://trac.ffmpeg.org/wiki/ChangingFrameRate  \n",
    "* Scaling: https://trac.ffmpeg.org/wiki/Scaling  \n",
    "\n",
    "The latest `ffmpeg` can be obtained at https://johnvansickle.com/ffmpeg/.  See the FAQ for how to install."
   ]
  },
  {
   "cell_type": "code",
   "execution_count": null,
   "metadata": {},
   "outputs": [],
   "source": [
    "from IPython.display import HTML\n",
    "import cv2\n",
    "from fastai.core import *\n",
    "from fastai.vision import *\n",
    "from kgl_deepfake.data import *"
   ]
  },
  {
   "cell_type": "code",
   "execution_count": null,
   "metadata": {},
   "outputs": [],
   "source": [
    "SOURCE = Path('../data/dfdc_train_part_0/')"
   ]
  },
  {
   "cell_type": "code",
   "execution_count": null,
   "metadata": {},
   "outputs": [],
   "source": [
    "fnames = get_files(SOURCE, extensions=['.mp4'])"
   ]
  },
  {
   "cell_type": "code",
   "execution_count": null,
   "metadata": {},
   "outputs": [
    {
     "data": {
      "text/plain": [
       "PosixPath('../data/dfdc_train_part_0/bfktkdugru.mp4')"
      ]
     },
     "execution_count": null,
     "metadata": {},
     "output_type": "execute_result"
    }
   ],
   "source": [
    "fn = fnames[159]\n",
    "fn"
   ]
  },
  {
   "cell_type": "code",
   "execution_count": null,
   "metadata": {},
   "outputs": [
    {
     "data": {
      "text/html": [
       "\n",
       "    <video width=\"300\" height=\"250\" controls>\n",
       "    <source src=\"../data/dfdc_train_part_0/bfktkdugru.mp4\" type=\"video/mp4\">\n",
       "    </video>\n",
       "    "
      ],
      "text/plain": [
       "<IPython.core.display.HTML object>"
      ]
     },
     "execution_count": null,
     "metadata": {},
     "output_type": "execute_result"
    }
   ],
   "source": [
    "HTML(html_vid(fn))"
   ]
  },
  {
   "cell_type": "markdown",
   "metadata": {},
   "source": [
    "Use `mediainfo` to show video properties"
   ]
  },
  {
   "cell_type": "code",
   "execution_count": null,
   "metadata": {},
   "outputs": [
    {
     "name": "stdout",
     "output_type": "stream",
     "text": [
      "General\r\n",
      "Complete name                            : ../data/dfdc_train_part_0/bfktkdugru.mp4\r\n",
      "Format                                   : MPEG-4\r\n",
      "Format profile                           : Base Media\r\n",
      "Codec ID                                 : isom (isom/iso2/avc1/mp41)\r\n",
      "File size                                : 15.2 MiB\r\n",
      "Duration                                 : 10 s 24 ms\r\n",
      "Overall bit rate                         : 12.7 Mb/s\r\n",
      "Writing application                      : Lavf57.71.100\r\n",
      "\r\n",
      "Video\r\n",
      "ID                                       : 1\r\n",
      "Format                                   : AVC\r\n",
      "Format/Info                              : Advanced Video Codec\r\n",
      "Format profile                           : High@L4\r\n",
      "Format settings                          : CABAC / 4 Ref Frames\r\n",
      "Format settings, CABAC                   : Yes\r\n",
      "Format settings, Reference frames        : 4 frames\r\n",
      "Codec ID                                 : avc1\r\n",
      "Codec ID/Info                            : Advanced Video Coding\r\n",
      "Duration                                 : 10 s 11 ms\r\n",
      "Bit rate                                 : 12.7 Mb/s\r\n",
      "Width                                    : 1 080 pixels\r\n",
      "Height                                   : 1 920 pixels\r\n",
      "Display aspect ratio                     : 0.562\r\n",
      "Frame rate mode                          : Constant\r\n",
      "Frame rate                               : 29.970 (29970/1000) FPS\r\n",
      "Color space                              : YUV\r\n",
      "Chroma subsampling                       : 4:2:0\r\n",
      "Bit depth                                : 8 bits\r\n",
      "Scan type                                : Progressive\r\n",
      "Bits/(Pixel*Frame)                       : 0.204\r\n",
      "Stream size                              : 15.1 MiB (99%)\r\n",
      "Writing library                          : x264 core 157\r\n",
      "Encoding settings                        : cabac=1 / ref=3 / deblock=1:0:0 / analyse=0x3:0x113 / me=hex / subme=7 / psy=1 / psy_rd=1.00:0.00 / mixed_ref=1 / me_range=16 / chroma_me=1 / trellis=1 / 8x8dct=1 / cqm=0 / deadzone=21,11 / fast_pskip=1 / chroma_qp_offset=-2 / threads=60 / lookahead_threads=10 / sliced_threads=0 / nr=0 / decimate=1 / interlaced=0 / bluray_compat=0 / constrained_intra=0 / bframes=3 / b_pyramid=2 / b_adapt=1 / b_bias=0 / direct=1 / weightb=1 / open_gop=0 / weightp=2 / keyint=250 / keyint_min=25 / scenecut=40 / intra_refresh=0 / rc_lookahead=40 / rc=crf / mbtree=1 / crf=23.0 / qcomp=0.60 / qpmin=0 / qpmax=69 / qpstep=4 / ip_ratio=1.40 / aq=1:1.00\r\n",
      "Codec configuration box                  : avcC\r\n",
      "\r\n",
      "Audio\r\n",
      "ID                                       : 2\r\n",
      "Format                                   : AAC LC\r\n",
      "Format/Info                              : Advanced Audio Codec Low Complexity\r\n",
      "Codec ID                                 : mp4a-40-2\r\n",
      "Duration                                 : 10 s 24 ms\r\n",
      "Duration_LastFrame                       : -8 ms\r\n",
      "Bit rate mode                            : Constant\r\n",
      "Bit rate                                 : 69.3 kb/s\r\n",
      "Channel(s)                               : 1 channel\r\n",
      "Channel layout                           : C\r\n",
      "Sampling rate                            : 44.1 kHz\r\n",
      "Frame rate                               : 43.066 FPS (1024 SPF)\r\n",
      "Compression mode                         : Lossy\r\n",
      "Stream size                              : 84.8 KiB (1%)\r\n",
      "Default                                  : Yes\r\n",
      "Alternate group                          : 1\r\n",
      "\r\n",
      "\r\n"
     ]
    }
   ],
   "source": [
    "! mediainfo {fn}"
   ]
  },
  {
   "cell_type": "markdown",
   "metadata": {},
   "source": [
    "### File size"
   ]
  },
  {
   "cell_type": "markdown",
   "metadata": {},
   "source": [
    "To conveniently check the file size of compressed videos:"
   ]
  },
  {
   "cell_type": "code",
   "execution_count": null,
   "metadata": {},
   "outputs": [],
   "source": [
    "def get_file_size(fpath):\n",
    "    assert fpath.is_file()\n",
    "    p = subprocess.run(f\"du -hs {fpath}\".split(), stdout=subprocess.PIPE)\n",
    "    return p.stdout.decode().split('\\t')[0]"
   ]
  },
  {
   "cell_type": "code",
   "execution_count": null,
   "metadata": {},
   "outputs": [],
   "source": [
    "Path.file_size = get_file_size"
   ]
  },
  {
   "cell_type": "markdown",
   "metadata": {},
   "source": [
    "Original file size"
   ]
  },
  {
   "cell_type": "code",
   "execution_count": null,
   "metadata": {},
   "outputs": [
    {
     "data": {
      "text/plain": [
       "' 15M'"
      ]
     },
     "execution_count": null,
     "metadata": {},
     "output_type": "execute_result"
    }
   ],
   "source": [
    "fn.file_size()"
   ]
  },
  {
   "cell_type": "markdown",
   "metadata": {},
   "source": [
    "### Decorator to run command in terminal"
   ]
  },
  {
   "cell_type": "code",
   "execution_count": null,
   "metadata": {},
   "outputs": [],
   "source": [
    "def runnit(f):\n",
    "    def _func(*args, **kwargs):\n",
    "        command = f(*args, **kwargs)\n",
    "        p = subprocess.run(command.split(), stdout=subprocess.PIPE, stderr=subprocess.PIPE)\n",
    "        return p\n",
    "    return _func"
   ]
  },
  {
   "cell_type": "markdown",
   "metadata": {},
   "source": [
    "### Are these videos HDR?"
   ]
  },
  {
   "cell_type": "markdown",
   "metadata": {},
   "source": [
    "The following checks whether the video is HDR or not."
   ]
  },
  {
   "cell_type": "code",
   "execution_count": null,
   "metadata": {},
   "outputs": [],
   "source": [
    "@runnit\n",
    "def vid_colour_primaries(fpath):\n",
    "    \"Use `mediainfo` to get video's colour primaries.\"\n",
    "    return f'''\n",
    "    mediainfo f'{fpath}' --Inform=\"Video;%colour_primaries%\"\n",
    "    '''\n",
    "\n",
    "def vid_is_HDR(fpath):\n",
    "    \"Is video HDR or not?\"\n",
    "    p = vid_colour_primaries(fpath)\n",
    "    res = p.stdout.decode()\n",
    "    return True if 'BT.2020' in res else False"
   ]
  },
  {
   "cell_type": "code",
   "execution_count": null,
   "metadata": {},
   "outputs": [
    {
     "data": {
      "text/plain": [
       "False"
      ]
     },
     "execution_count": null,
     "metadata": {},
     "output_type": "execute_result"
    }
   ],
   "source": [
    "vid_is_HDR(fn)"
   ]
  },
  {
   "cell_type": "markdown",
   "metadata": {},
   "source": [
    "### Show video properties using `mediainfo`"
   ]
  },
  {
   "cell_type": "code",
   "execution_count": null,
   "metadata": {},
   "outputs": [],
   "source": [
    "def get_mediainfo(fpath=None): \n",
    "    @runnit\n",
    "    def _func(fpath=None):\n",
    "        return f'''mediainfo {fpath}'''\n",
    "    p = _func(fpath=fpath)\n",
    "    return p.stdout.decode()"
   ]
  },
  {
   "cell_type": "markdown",
   "metadata": {},
   "source": [
    "### Encoding"
   ]
  },
  {
   "cell_type": "markdown",
   "metadata": {},
   "source": [
    "Each of the URLs above does something different: encoding, scaling, fps.  These are combined into a single function.  Note that probably not all combinations of input parameters will run, but the main parameters to adjust are:\n",
    "\n",
    "* **crf** \"The range of the CRF scale is 0–51, where 0 is lossless, 23 is the default, and 51 is worst quality possible. A lower value generally leads to higher quality, and a subjectively sane range is 17–28. Consider 17 or 18 to be visually lossless or nearly so; it should look the same or nearly the same as the input but it isn't technically lossless.\" > 23 recommended.\n",
    "* **fps** \"Changing frame rates requires the video to be re-encoded. Without setting appropriate output quality or bit rate, the video quality may be degraded. Please look at the respective encoding guides for the codec you've chosen.\"\n",
    "* **scale** Value between 0 and 1 to scale the original lengths."
   ]
  },
  {
   "cell_type": "markdown",
   "metadata": {},
   "source": [
    "To display the video and its properties after it's been compressed"
   ]
  },
  {
   "cell_type": "code",
   "execution_count": null,
   "metadata": {},
   "outputs": [],
   "source": [
    "def show_vid_info(f):\n",
    "    \"Display video and its properties after it's been processed.\"\n",
    "    def _f(*args, **kwargs):\n",
    "        p = f(*args, **kwargs)\n",
    "        fpath = Path(kwargs['fpath_to'])\n",
    "        display(HTML(html_vid(fpath)))\n",
    "        print(get_mediainfo(fpath))\n",
    "    return _f"
   ]
  },
  {
   "cell_type": "markdown",
   "metadata": {},
   "source": [
    "Function for donig the encoding using `ffmpeg`, with default arguments defined."
   ]
  },
  {
   "cell_type": "code",
   "execution_count": null,
   "metadata": {},
   "outputs": [],
   "source": [
    "def _ffmpeg_web_defaults():\n",
    "    '''\n",
    "    These are some reasonable values for uploading. i.e. YouTube, etc.\n",
    "    '''\n",
    "    return dict(video_encoder='libx264', video_bitrate='1.5M', fps=30, scale=.5, crf=23, #17-28\n",
    "                audio_encoder='aac', audio_bitrate='128k')\n",
    "\n",
    "def _ffmpeg_defaults():\n",
    "    return dict(video_encoder=None, video_bitrate=None, fps=None, scale=None, crf=None,\n",
    "                audio_encoder=None, audio_bitrate=None)\n",
    "\n",
    "def _ffmpeg_fmts():\n",
    "    \"ffmpeg options syntax\"\n",
    "    return dict(video_encoder='-c:v {video_encoder:s}', \n",
    "                video_bitrate='-b:v {video_bitrate:s}', \n",
    "                fps='-r {fps:d}', \n",
    "                scale='-vf scale=iw*{scale:.2f}:ih*{scale:.2f}', \n",
    "                crf='-crf {crf:d}',\n",
    "                audio_bitrate='-b:a {audio_bitrate}', \n",
    "                audio_encoder='-c:a {audio_encoder}')\n",
    "\n",
    "@show_vid_info\n",
    "@runnit\n",
    "def run_ffmpeg(fpath_from=None, fpath_to=None, **kwargs):\n",
    "    '''\n",
    "    Run ffmpeg\n",
    "    '''\n",
    "    ps = _ffmpeg_defaults()\n",
    "    ps.update(kwargs)\n",
    "    pstr = []\n",
    "    for n, s in _ffmpeg_fmts().items():\n",
    "        if ps[n] is None: pstr.append('')\n",
    "        else:\n",
    "            pstr.append(s.format(**ps))\n",
    "    pstr = ' '.join(pstr)\n",
    "    print(f'ffmpeg -i {fpath_from} {pstr} {fpath_to}')\n",
    "    return f'ffmpeg -i {fpath_from} {pstr} {fpath_to}'"
   ]
  },
  {
   "cell_type": "markdown",
   "metadata": {},
   "source": [
    "Apply to the original:"
   ]
  },
  {
   "cell_type": "code",
   "execution_count": null,
   "metadata": {},
   "outputs": [
    {
     "name": "stdout",
     "output_type": "stream",
     "text": [
      "ffmpeg -i ../data/dfdc_train_part_0/bfktkdugru.mp4   -r 15 -vf scale=iw*0.25:ih*0.25 -crf 60   enc_bfktkdugru.mp4\n"
     ]
    },
    {
     "data": {
      "text/html": [
       "\n",
       "    <video width=\"300\" height=\"250\" controls>\n",
       "    <source src=\"enc_bfktkdugru.mp4\" type=\"video/mp4\">\n",
       "    </video>\n",
       "    "
      ],
      "text/plain": [
       "<IPython.core.display.HTML object>"
      ]
     },
     "metadata": {},
     "output_type": "display_data"
    },
    {
     "name": "stdout",
     "output_type": "stream",
     "text": [
      "General\n",
      "Complete name                            : enc_bfktkdugru.mp4\n",
      "Format                                   : MPEG-4\n",
      "Format profile                           : Base Media\n",
      "Codec ID                                 : isom (isom/iso2/avc1/mp41)\n",
      "File size                                : 101 KiB\n",
      "Duration                                 : 10 s 134 ms\n",
      "Overall bit rate                         : 81.6 kb/s\n",
      "Writing application                      : Lavf58.29.100\n",
      "\n",
      "Video\n",
      "ID                                       : 1\n",
      "Format                                   : AVC\n",
      "Format/Info                              : Advanced Video Codec\n",
      "Format profile                           : High@L2.1\n",
      "Format settings                          : CABAC / 4 Ref Frames\n",
      "Format settings, CABAC                   : Yes\n",
      "Format settings, Reference frames        : 4 frames\n",
      "Codec ID                                 : avc1\n",
      "Codec ID/Info                            : Advanced Video Coding\n",
      "Duration                                 : 10 s 134 ms\n",
      "Bit rate                                 : 7 621 b/s\n",
      "Width                                    : 270 pixels\n",
      "Height                                   : 480 pixels\n",
      "Display aspect ratio                     : 0.562\n",
      "Frame rate mode                          : Constant\n",
      "Frame rate                               : 15.000 FPS\n",
      "Color space                              : YUV\n",
      "Chroma subsampling                       : 4:2:0\n",
      "Bit depth                                : 8 bits\n",
      "Scan type                                : Progressive\n",
      "Bits/(Pixel*Frame)                       : 0.004\n",
      "Stream size                              : 9.43 KiB (9%)\n",
      "Writing library                          : x264 core 155 r2917 0a84d98\n",
      "Encoding settings                        : cabac=1 / ref=3 / deblock=1:0:0 / analyse=0x3:0x113 / me=hex / subme=7 / psy=1 / psy_rd=1.00:0.00 / mixed_ref=1 / me_range=16 / chroma_me=1 / trellis=1 / 8x8dct=1 / cqm=0 / deadzone=21,11 / fast_pskip=1 / chroma_qp_offset=-2 / threads=6 / lookahead_threads=1 / sliced_threads=0 / nr=0 / decimate=1 / interlaced=0 / bluray_compat=0 / constrained_intra=0 / bframes=3 / b_pyramid=2 / b_adapt=1 / b_bias=0 / direct=1 / weightb=1 / open_gop=0 / weightp=2 / keyint=250 / keyint_min=15 / scenecut=40 / intra_refresh=0 / rc_lookahead=40 / rc=crf / mbtree=1 / crf=51.0 / qcomp=0.60 / qpmin=0 / qpmax=69 / qpstep=4 / ip_ratio=1.40 / aq=1:1.00\n",
      "Codec configuration box                  : avcC\n",
      "\n",
      "Audio\n",
      "ID                                       : 2\n",
      "Format                                   : AAC LC\n",
      "Format/Info                              : Advanced Audio Codec Low Complexity\n",
      "Codec ID                                 : mp4a-40-2\n",
      "Duration                                 : 10 s 32 ms\n",
      "Bit rate mode                            : Constant\n",
      "Bit rate                                 : 69.5 kb/s\n",
      "Channel(s)                               : 1 channel\n",
      "Channel layout                           : C\n",
      "Sampling rate                            : 44.1 kHz\n",
      "Frame rate                               : 43.066 FPS (1024 SPF)\n",
      "Compression mode                         : Lossy\n",
      "Stream size                              : 85.1 KiB (84%)\n",
      "Default                                  : Yes\n",
      "Alternate group                          : 1\n",
      "\n",
      "\n",
      "\n"
     ]
    }
   ],
   "source": [
    "f = Path(f'enc_{fn.name}')\n",
    "if f.exists(): os.remove(f)\n",
    "run_ffmpeg(fpath_from=fn, fpath_to=f, crf=60, scale=.25, fps=15)"
   ]
  },
  {
   "cell_type": "markdown",
   "metadata": {},
   "source": [
    "Double check the properties using `cv2`"
   ]
  },
  {
   "cell_type": "code",
   "execution_count": null,
   "metadata": {},
   "outputs": [
    {
     "data": {
      "text/plain": [
       "(152, (480, 270, 3))"
      ]
     },
     "execution_count": null,
     "metadata": {},
     "output_type": "execute_result"
    }
   ],
   "source": [
    "vcap = cv2.VideoCapture(str(f))\n",
    "vlen = int(vcap.get(cv2.CAP_PROP_FRAME_COUNT))\n",
    "ret, frame = vcap.read()\n",
    "vcap.release()\n",
    "vlen, frame.shape"
   ]
  },
  {
   "cell_type": "markdown",
   "metadata": {},
   "source": [
    "# -fin"
   ]
  },
  {
   "cell_type": "code",
   "execution_count": null,
   "metadata": {},
   "outputs": [],
   "source": []
  }
 ],
 "metadata": {
  "kernelspec": {
   "display_name": "Python 3",
   "language": "python",
   "name": "python3"
  }
 },
 "nbformat": 4,
 "nbformat_minor": 2
}
