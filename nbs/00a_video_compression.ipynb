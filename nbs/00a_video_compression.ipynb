{
 "cells": [
  {
   "cell_type": "markdown",
   "metadata": {},
   "source": [
    "# Video compression"
   ]
  },
  {
   "cell_type": "markdown",
   "metadata": {},
   "source": [
    "The following use `ffmpeg`:\n",
    "* General compression for the web 1: https://dev.to/benjaminblack/use-ffmpeg-to-compress-and-convert-videos-458l  \n",
    "* General compression for the web 2: https://trac.ffmpeg.org/wiki/Encode/YouTube   \n",
    "* Frame rate change: https://trac.ffmpeg.org/wiki/ChangingFrameRate  \n",
    "* Scaling: https://trac.ffmpeg.org/wiki/Scaling  "
   ]
  },
  {
   "cell_type": "code",
   "execution_count": null,
   "metadata": {},
   "outputs": [],
   "source": [
    "from IPython.display import HTML\n",
    "from fastai.core import *\n",
    "from fastai.vision import *\n",
    "from kgl_deepfake.data import *"
   ]
  },
  {
   "cell_type": "code",
   "execution_count": null,
   "metadata": {},
   "outputs": [],
   "source": [
    "SOURCE = Path('../data/dfdc_train_part_0/')"
   ]
  },
  {
   "cell_type": "code",
   "execution_count": null,
   "metadata": {},
   "outputs": [],
   "source": [
    "fnames = get_files(SOURCE, extensions=['.mp4'])"
   ]
  },
  {
   "cell_type": "code",
   "execution_count": null,
   "metadata": {},
   "outputs": [
    {
     "data": {
      "text/plain": [
       "PosixPath('../data/dfdc_train_part_0/goxbkycgkg.mp4')"
      ]
     },
     "execution_count": null,
     "metadata": {},
     "output_type": "execute_result"
    }
   ],
   "source": [
    "fn = fnames[19]\n",
    "fn"
   ]
  },
  {
   "cell_type": "code",
   "execution_count": null,
   "metadata": {},
   "outputs": [],
   "source": [
    "def get_file_size(fpath):\n",
    "    assert fpath.is_file()\n",
    "    p = subprocess.run(f\"du -hs {fpath}\".split(), stdout=subprocess.PIPE)\n",
    "    return p.stdout.decode().split('\\t')[0]"
   ]
  },
  {
   "cell_type": "code",
   "execution_count": null,
   "metadata": {},
   "outputs": [],
   "source": [
    "Path.file_size = get_file_size"
   ]
  },
  {
   "cell_type": "markdown",
   "metadata": {},
   "source": [
    "Original file size"
   ]
  },
  {
   "cell_type": "code",
   "execution_count": null,
   "metadata": {},
   "outputs": [
    {
     "data": {
      "text/plain": [
       "'8.6M'"
      ]
     },
     "execution_count": null,
     "metadata": {},
     "output_type": "execute_result"
    }
   ],
   "source": [
    "fn.file_size()"
   ]
  },
  {
   "cell_type": "code",
   "execution_count": null,
   "metadata": {},
   "outputs": [],
   "source": [
    "def runnit(f):\n",
    "    def _func(*args):\n",
    "        _, fpath = args\n",
    "        if fpath.exists(): os.remove(fpath)\n",
    "        command = f(*args)\n",
    "        p = subprocess.run(command.split(), stdout=subprocess.PIPE, stderr=subprocess.PIPE)\n",
    "        return p\n",
    "    return _func"
   ]
  },
  {
   "cell_type": "code",
   "execution_count": null,
   "metadata": {},
   "outputs": [],
   "source": [
    "def show_vid_info(f):\n",
    "    def _f(*args):\n",
    "        p = f(*args)\n",
    "        _, fpath = args\n",
    "        print(fpath.file_size())\n",
    "        display(HTML(html_vid(fpath)))\n",
    "    return _f"
   ]
  },
  {
   "cell_type": "code",
   "execution_count": null,
   "metadata": {},
   "outputs": [],
   "source": [
    "@show_vid_info\n",
    "@runnit\n",
    "def general_compress_1(fpath_from, fpath_to):\n",
    "    \"General compression for the web\"\n",
    "    return f\"ffmpeg -i {fpath_from} -c:v libx264 -b:v 1.5M -c:a aac -b:a 128k {fpath_to}\"\n",
    "\n",
    "@show_vid_info\n",
    "@runnit\n",
    "def general_compress_2(fpath_from, fpath_to):\n",
    "    \"General compression for the web\"\n",
    "    return f\"ffmpeg -i {fpath_from} -c:v libx264 -preset slow -crf 18 -c:a aac -b:a 192k -pix_fmt yuv420p {fpath_to}\"\n",
    "\n",
    "@show_vid_info\n",
    "@runnit\n",
    "def change_fps(fpath_from, fpath_to):\n",
    "    \"Change FPS (frames per second)\"\n",
    "    return f\"ffmpeg -i {fpath_from} -filter:v fps=fps=15 {fpath_to}\"\n",
    "\n",
    "def scaling(fpath_from, fpath_to):\n",
    "    \"Scaleling.\"\n",
    "    return f'''ffmpeg -i {fpath_from} -vf \"scale=iw/4:ih/4\" {fpath_to}'''"
   ]
  },
  {
   "cell_type": "code",
   "execution_count": null,
   "metadata": {},
   "outputs": [],
   "source": [
    "fpath_from = fn"
   ]
  },
  {
   "cell_type": "markdown",
   "metadata": {},
   "source": [
    "### Compression results"
   ]
  },
  {
   "cell_type": "markdown",
   "metadata": {},
   "source": [
    "General compression 1"
   ]
  },
  {
   "cell_type": "code",
   "execution_count": null,
   "metadata": {},
   "outputs": [
    {
     "name": "stdout",
     "output_type": "stream",
     "text": [
      "2.0M\n"
     ]
    },
    {
     "data": {
      "text/html": [
       "\n",
       "    <video width=\"300\" height=\"250\" controls>\n",
       "    <source src=\"cmp1_goxbkycgkg.mp4\" type=\"video/mp4\">\n",
       "    </video>\n",
       "    "
      ],
      "text/plain": [
       "<IPython.core.display.HTML object>"
      ]
     },
     "metadata": {},
     "output_type": "display_data"
    },
    {
     "name": "stdout",
     "output_type": "stream",
     "text": [
      "CPU times: user 6.19 ms, sys: 12.7 ms, total: 18.9 ms\n",
      "Wall time: 11.8 s\n"
     ]
    }
   ],
   "source": [
    "%%time\n",
    "fpath_cmp1 = Path(f'cmp1_{fn.name}')\n",
    "general_compress_1(fpath_from, fpath_cmp1)"
   ]
  },
  {
   "cell_type": "markdown",
   "metadata": {},
   "source": [
    "General compression 2"
   ]
  },
  {
   "cell_type": "code",
   "execution_count": null,
   "metadata": {},
   "outputs": [
    {
     "name": "stdout",
     "output_type": "stream",
     "text": [
      "2.0M\n"
     ]
    },
    {
     "data": {
      "text/html": [
       "\n",
       "    <video width=\"300\" height=\"250\" controls>\n",
       "    <source src=\"cmp2_goxbkycgkg.mp4\" type=\"video/mp4\">\n",
       "    </video>\n",
       "    "
      ],
      "text/plain": [
       "<IPython.core.display.HTML object>"
      ]
     },
     "metadata": {},
     "output_type": "display_data"
    },
    {
     "name": "stdout",
     "output_type": "stream",
     "text": [
      "CPU times: user 5.61 ms, sys: 10.3 ms, total: 15.9 ms\n",
      "Wall time: 12.3 s\n"
     ]
    }
   ],
   "source": [
    "%%time\n",
    "fpath_cmp2 = Path(f'cmp2_{fn.name}')\n",
    "general_compress_1(fpath_from, fpath_cmp2)"
   ]
  },
  {
   "cell_type": "markdown",
   "metadata": {},
   "source": [
    "FPS reduced to 15"
   ]
  },
  {
   "cell_type": "code",
   "execution_count": null,
   "metadata": {},
   "outputs": [
    {
     "name": "stdout",
     "output_type": "stream",
     "text": [
      "6.0M\n"
     ]
    },
    {
     "data": {
      "text/html": [
       "\n",
       "    <video width=\"300\" height=\"250\" controls>\n",
       "    <source src=\"fps15_goxbkycgkg.mp4\" type=\"video/mp4\">\n",
       "    </video>\n",
       "    "
      ],
      "text/plain": [
       "<IPython.core.display.HTML object>"
      ]
     },
     "metadata": {},
     "output_type": "display_data"
    },
    {
     "name": "stdout",
     "output_type": "stream",
     "text": [
      "CPU times: user 5.92 ms, sys: 11.4 ms, total: 17.3 ms\n",
      "Wall time: 12.2 s\n"
     ]
    }
   ],
   "source": [
    "%%time\n",
    "fpath_fps15 = Path(f'fps15_{fn.name}')\n",
    "change_fps(fpath_from, fpath_fps15)"
   ]
  },
  {
   "cell_type": "markdown",
   "metadata": {},
   "source": [
    "lengths ---> lengths / 4"
   ]
  },
  {
   "cell_type": "code",
   "execution_count": null,
   "metadata": {},
   "outputs": [
    {
     "name": "stdout",
     "output_type": "stream",
     "text": [
      "6.0M\n"
     ]
    },
    {
     "data": {
      "text/html": [
       "\n",
       "    <video width=\"300\" height=\"250\" controls>\n",
       "    <source src=\"smll_goxbkycgkg.mp4\" type=\"video/mp4\">\n",
       "    </video>\n",
       "    "
      ],
      "text/plain": [
       "<IPython.core.display.HTML object>"
      ]
     },
     "metadata": {},
     "output_type": "display_data"
    },
    {
     "name": "stdout",
     "output_type": "stream",
     "text": [
      "CPU times: user 7.34 ms, sys: 11.6 ms, total: 18.9 ms\n",
      "Wall time: 13 s\n"
     ]
    }
   ],
   "source": [
    "%%time\n",
    "fpath_smll = Path(f'smll_{fn.name}')\n",
    "change_fps(fpath_from, fpath_smll)"
   ]
  },
  {
   "cell_type": "markdown",
   "metadata": {},
   "source": [
    "# -fin"
   ]
  },
  {
   "cell_type": "code",
   "execution_count": null,
   "metadata": {},
   "outputs": [],
   "source": []
  }
 ],
 "metadata": {
  "kernelspec": {
   "display_name": "Python 3",
   "language": "python",
   "name": "python3"
  }
 },
 "nbformat": 4,
 "nbformat_minor": 2
}
