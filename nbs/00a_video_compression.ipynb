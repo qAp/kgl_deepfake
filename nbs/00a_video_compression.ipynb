{
 "cells": [
  {
   "cell_type": "markdown",
   "metadata": {},
   "source": [
    "# Video compression"
   ]
  },
  {
   "cell_type": "markdown",
   "metadata": {},
   "source": [
    "According to the dataset paper, \n",
    "\n",
    "> However, for each target video in the test set, we randomly selected two clips out of three and applied augmentations that\n",
    "approximate actual degradations seen in real-life video distributions. Specifically, these augmentations were\n",
    "> 1. reduce the FPS of the video to 15\n",
    "> 2. reduce the resolution of the video to 1/4 of its original size\n",
    "> 3. reduce the overall encoding quality"
   ]
  },
  {
   "cell_type": "markdown",
   "metadata": {},
   "source": [
    "In this notebook we look at how to compress videos using `ffmpeg`.  Based on the above list, a quick search returns several useful examples:\n",
    "\n",
    "* General compression for the web 1: https://dev.to/benjaminblack/use-ffmpeg-to-compress-and-convert-videos-458l  \n",
    "* General compression for the web 2: https://trac.ffmpeg.org/wiki/Encode/YouTube   \n",
    "* Frame rate change: https://trac.ffmpeg.org/wiki/ChangingFrameRate  \n",
    "* Scaling: https://trac.ffmpeg.org/wiki/Scaling  \n",
    "\n",
    "The latest `ffmpeg` can be obtained at https://johnvansickle.com/ffmpeg/.  See the FAQ for how to install."
   ]
  },
  {
   "cell_type": "code",
   "execution_count": null,
   "metadata": {},
   "outputs": [],
   "source": [
    "#default_exp video_processing"
   ]
  },
  {
   "cell_type": "code",
   "execution_count": null,
   "metadata": {},
   "outputs": [],
   "source": [
    "#export\n",
    "from IPython.display import HTML\n",
    "import cv2\n",
    "from fastai.core import *\n",
    "from fastai.vision import *\n",
    "from kgl_deepfake.data import *"
   ]
  },
  {
   "cell_type": "code",
   "execution_count": null,
   "metadata": {},
   "outputs": [],
   "source": [
    "SOURCE = Path('../data/dfdc_train_part_0/')"
   ]
  },
  {
   "cell_type": "code",
   "execution_count": null,
   "metadata": {},
   "outputs": [],
   "source": [
    "fnames = get_files(SOURCE, extensions=['.mp4'])"
   ]
  },
  {
   "cell_type": "code",
   "execution_count": null,
   "metadata": {},
   "outputs": [
    {
     "data": {
      "text/plain": [
       "PosixPath('../data/dfdc_train_part_0/bfktkdugru.mp4')"
      ]
     },
     "execution_count": null,
     "metadata": {},
     "output_type": "execute_result"
    }
   ],
   "source": [
    "fn = fnames[159]\n",
    "fn"
   ]
  },
  {
   "cell_type": "code",
   "execution_count": null,
   "metadata": {},
   "outputs": [
    {
     "data": {
      "text/html": [
       "\n",
       "    <video width=\"300\" height=\"250\" controls>\n",
       "    <source src=\"../data/dfdc_train_part_0/bfktkdugru.mp4\" type=\"video/mp4\">\n",
       "    </video>\n",
       "    "
      ],
      "text/plain": [
       "<IPython.core.display.HTML object>"
      ]
     },
     "execution_count": null,
     "metadata": {},
     "output_type": "execute_result"
    }
   ],
   "source": [
    "HTML(html_vid(fn))"
   ]
  },
  {
   "cell_type": "markdown",
   "metadata": {},
   "source": [
    "Use `mediainfo` to show video properties"
   ]
  },
  {
   "cell_type": "code",
   "execution_count": null,
   "metadata": {},
   "outputs": [
    {
     "name": "stdout",
     "output_type": "stream",
     "text": [
      "General\r\n",
      "Complete name                            : ../data/dfdc_train_part_0/bfktkdugru.mp4\r\n",
      "Format                                   : MPEG-4\r\n",
      "Format profile                           : Base Media\r\n",
      "Codec ID                                 : isom (isom/iso2/avc1/mp41)\r\n",
      "File size                                : 15.2 MiB\r\n",
      "Duration                                 : 10 s 24 ms\r\n",
      "Overall bit rate                         : 12.7 Mb/s\r\n",
      "Writing application                      : Lavf57.71.100\r\n",
      "\r\n",
      "Video\r\n",
      "ID                                       : 1\r\n",
      "Format                                   : AVC\r\n",
      "Format/Info                              : Advanced Video Codec\r\n",
      "Format profile                           : High@L4\r\n",
      "Format settings                          : CABAC / 4 Ref Frames\r\n",
      "Format settings, CABAC                   : Yes\r\n",
      "Format settings, Reference frames        : 4 frames\r\n",
      "Codec ID                                 : avc1\r\n",
      "Codec ID/Info                            : Advanced Video Coding\r\n",
      "Duration                                 : 10 s 11 ms\r\n",
      "Bit rate                                 : 12.7 Mb/s\r\n",
      "Width                                    : 1 080 pixels\r\n",
      "Height                                   : 1 920 pixels\r\n",
      "Display aspect ratio                     : 0.562\r\n",
      "Frame rate mode                          : Constant\r\n",
      "Frame rate                               : 29.970 (29970/1000) FPS\r\n",
      "Color space                              : YUV\r\n",
      "Chroma subsampling                       : 4:2:0\r\n",
      "Bit depth                                : 8 bits\r\n",
      "Scan type                                : Progressive\r\n",
      "Bits/(Pixel*Frame)                       : 0.204\r\n",
      "Stream size                              : 15.1 MiB (99%)\r\n",
      "Writing library                          : x264 core 157\r\n",
      "Encoding settings                        : cabac=1 / ref=3 / deblock=1:0:0 / analyse=0x3:0x113 / me=hex / subme=7 / psy=1 / psy_rd=1.00:0.00 / mixed_ref=1 / me_range=16 / chroma_me=1 / trellis=1 / 8x8dct=1 / cqm=0 / deadzone=21,11 / fast_pskip=1 / chroma_qp_offset=-2 / threads=60 / lookahead_threads=10 / sliced_threads=0 / nr=0 / decimate=1 / interlaced=0 / bluray_compat=0 / constrained_intra=0 / bframes=3 / b_pyramid=2 / b_adapt=1 / b_bias=0 / direct=1 / weightb=1 / open_gop=0 / weightp=2 / keyint=250 / keyint_min=25 / scenecut=40 / intra_refresh=0 / rc_lookahead=40 / rc=crf / mbtree=1 / crf=23.0 / qcomp=0.60 / qpmin=0 / qpmax=69 / qpstep=4 / ip_ratio=1.40 / aq=1:1.00\r\n",
      "Codec configuration box                  : avcC\r\n",
      "\r\n",
      "Audio\r\n",
      "ID                                       : 2\r\n",
      "Format                                   : AAC LC\r\n",
      "Format/Info                              : Advanced Audio Codec Low Complexity\r\n",
      "Codec ID                                 : mp4a-40-2\r\n",
      "Duration                                 : 10 s 24 ms\r\n",
      "Duration_LastFrame                       : -8 ms\r\n",
      "Bit rate mode                            : Constant\r\n",
      "Bit rate                                 : 69.3 kb/s\r\n",
      "Channel(s)                               : 1 channel\r\n",
      "Channel layout                           : C\r\n",
      "Sampling rate                            : 44.1 kHz\r\n",
      "Frame rate                               : 43.066 FPS (1024 SPF)\r\n",
      "Compression mode                         : Lossy\r\n",
      "Stream size                              : 84.8 KiB (1%)\r\n",
      "Default                                  : Yes\r\n",
      "Alternate group                          : 1\r\n",
      "\r\n",
      "\r\n"
     ]
    }
   ],
   "source": [
    "! mediainfo {fn}"
   ]
  },
  {
   "cell_type": "markdown",
   "metadata": {},
   "source": [
    "### File size"
   ]
  },
  {
   "cell_type": "markdown",
   "metadata": {},
   "source": [
    "To conveniently check the file size of compressed videos:"
   ]
  },
  {
   "cell_type": "code",
   "execution_count": null,
   "metadata": {},
   "outputs": [],
   "source": [
    "#export\n",
    "def get_file_size(fpath):\n",
    "    assert fpath.is_file()\n",
    "    p = subprocess.run(f\"du -hs {fpath}\".split(), stdout=subprocess.PIPE)\n",
    "    return p.stdout.decode().split('\\t')[0]"
   ]
  },
  {
   "cell_type": "code",
   "execution_count": null,
   "metadata": {},
   "outputs": [],
   "source": [
    "#export\n",
    "Path.file_size = get_file_size"
   ]
  },
  {
   "cell_type": "markdown",
   "metadata": {},
   "source": [
    "Original file size"
   ]
  },
  {
   "cell_type": "code",
   "execution_count": null,
   "metadata": {},
   "outputs": [
    {
     "data": {
      "text/plain": [
       "' 15M'"
      ]
     },
     "execution_count": null,
     "metadata": {},
     "output_type": "execute_result"
    }
   ],
   "source": [
    "fn.file_size()"
   ]
  },
  {
   "cell_type": "markdown",
   "metadata": {},
   "source": [
    "### Decorator to run command in terminal"
   ]
  },
  {
   "cell_type": "code",
   "execution_count": null,
   "metadata": {},
   "outputs": [],
   "source": [
    "#export\n",
    "def runnit(f):\n",
    "    def _func(*args, **kwargs):\n",
    "        command = f(*args, **kwargs)\n",
    "        p = subprocess.run(command.split(), stdout=subprocess.PIPE, stderr=subprocess.PIPE)\n",
    "        return p\n",
    "    return _func"
   ]
  },
  {
   "cell_type": "markdown",
   "metadata": {},
   "source": [
    "### Are these videos HDR?"
   ]
  },
  {
   "cell_type": "markdown",
   "metadata": {},
   "source": [
    "The following checks whether the video is HDR or not."
   ]
  },
  {
   "cell_type": "code",
   "execution_count": null,
   "metadata": {},
   "outputs": [],
   "source": [
    "#export\n",
    "@runnit\n",
    "def vid_colour_primaries(fpath):\n",
    "    \"Use `mediainfo` to get video's colour primaries.\"\n",
    "    return f'''\n",
    "    mediainfo f'{fpath}' --Inform=\"Video;%colour_primaries%\"\n",
    "    '''\n",
    "\n",
    "def vid_is_HDR(fpath):\n",
    "    \"Is video HDR or not?\"\n",
    "    p = vid_colour_primaries(fpath)\n",
    "    res = p.stdout.decode()\n",
    "    return True if 'BT.2020' in res else False"
   ]
  },
  {
   "cell_type": "code",
   "execution_count": null,
   "metadata": {},
   "outputs": [
    {
     "data": {
      "text/plain": [
       "False"
      ]
     },
     "execution_count": null,
     "metadata": {},
     "output_type": "execute_result"
    }
   ],
   "source": [
    "vid_is_HDR(fn)"
   ]
  },
  {
   "cell_type": "markdown",
   "metadata": {},
   "source": [
    "### Show video properties using `mediainfo`"
   ]
  },
  {
   "cell_type": "code",
   "execution_count": null,
   "metadata": {},
   "outputs": [],
   "source": [
    "#export\n",
    "def get_mediainfo(fpath=None): \n",
    "    @runnit\n",
    "    def _func(fpath=None):\n",
    "        return f'''mediainfo {fpath}'''\n",
    "    p = _func(fpath=fpath)\n",
    "    return p.stdout.decode()"
   ]
  },
  {
   "cell_type": "markdown",
   "metadata": {},
   "source": [
    "### Encoding"
   ]
  },
  {
   "cell_type": "markdown",
   "metadata": {},
   "source": [
    "Each of the URLs above does something different: encoding, scaling, fps.  These are combined into a single function.  Note that probably not all combinations of input parameters will run, but the main parameters to adjust are:\n",
    "\n",
    "* **crf** \"The range of the CRF scale is 0–51, where 0 is lossless, 23 is the default, and 51 is worst quality possible. A lower value generally leads to higher quality, and a subjectively sane range is 17–28. Consider 17 or 18 to be visually lossless or nearly so; it should look the same or nearly the same as the input but it isn't technically lossless.\" > 23 recommended.\n",
    "* **fps** \"Changing frame rates requires the video to be re-encoded. Without setting appropriate output quality or bit rate, the video quality may be degraded. Please look at the respective encoding guides for the codec you've chosen.\"\n",
    "* **scale** Value between 0 and 1 to scale the original lengths."
   ]
  },
  {
   "cell_type": "markdown",
   "metadata": {},
   "source": [
    "To display the video and its properties after it's been compressed"
   ]
  },
  {
   "cell_type": "code",
   "execution_count": null,
   "metadata": {},
   "outputs": [],
   "source": [
    "#export\n",
    "def show_vid_info(f):\n",
    "    \"Display video and its properties after it's been processed.\"\n",
    "    def _f(*args, **kwargs):\n",
    "        p = f(*args, **kwargs)\n",
    "        fpath = Path(kwargs['fpath_to'])\n",
    "        display(HTML(html_vid(fpath)))\n",
    "        print(get_mediainfo(fpath))\n",
    "    return _f"
   ]
  },
  {
   "cell_type": "markdown",
   "metadata": {},
   "source": [
    "Function for donig the encoding using `ffmpeg`, with default arguments defined."
   ]
  },
  {
   "cell_type": "code",
   "execution_count": null,
   "metadata": {},
   "outputs": [],
   "source": [
    "#export\n",
    "def _ffmpeg_web_defaults():\n",
    "    '''\n",
    "    These are some reasonable values for uploading. i.e. YouTube, etc.\n",
    "    '''\n",
    "    return dict(video_encoder='libx264', video_bitrate='1.5M', fps=30, scale=.5, crf=23, #17-28\n",
    "                audio_encoder='aac', audio_bitrate='128k')\n",
    "\n",
    "def _ffmpeg_defaults():\n",
    "    return dict(video_encoder=None, video_bitrate=None, fps=None, scale=None, crf=None,\n",
    "                audio_encoder=None, audio_bitrate=None)\n",
    "\n",
    "def _ffmpeg_fmts():\n",
    "    \"ffmpeg options syntax\"\n",
    "    return dict(video_encoder='-c:v {video_encoder:s}', \n",
    "                video_bitrate='-b:v {video_bitrate:s}', \n",
    "                fps='-r {fps:d}', \n",
    "                scale='-vf scale=iw*{scale:.2f}:ih*{scale:.2f}', \n",
    "                crf='-crf {crf:d}',\n",
    "                audio_bitrate='-b:a {audio_bitrate}', \n",
    "                audio_encoder='-c:a {audio_encoder}')\n",
    "\n",
    "#@show_vid_info\n",
    "@runnit\n",
    "def run_ffmpeg(fpath_from=None, fpath_to=None, **kwargs):\n",
    "    '''\n",
    "    Run ffmpeg\n",
    "    '''\n",
    "    ps = _ffmpeg_defaults()\n",
    "    ps.update(kwargs)\n",
    "    pstr = []\n",
    "    for n, s in _ffmpeg_fmts().items():\n",
    "        if ps[n] is None: pstr.append('')\n",
    "        else: pstr.append(s.format(**ps))\n",
    "    pstr = ' '.join(pstr)\n",
    "    print(f'ffmpeg -i {fpath_from} {pstr} {fpath_to}')\n",
    "    return f'ffmpeg -i {fpath_from} {pstr} {fpath_to}'"
   ]
  },
  {
   "cell_type": "markdown",
   "metadata": {},
   "source": [
    "Apply to the original:"
   ]
  },
  {
   "cell_type": "code",
   "execution_count": null,
   "metadata": {},
   "outputs": [
    {
     "name": "stdout",
     "output_type": "stream",
     "text": [
      "ffmpeg -i ../data/dfdc_train_part_0/bfktkdugru.mp4     -crf 28   enc_bfktkdugru.mp4\n"
     ]
    },
    {
     "data": {
      "text/html": [
       "\n",
       "    <video width=\"300\" height=\"250\" controls>\n",
       "    <source src=\"enc_bfktkdugru.mp4\" type=\"video/mp4\">\n",
       "    </video>\n",
       "    "
      ],
      "text/plain": [
       "<IPython.core.display.HTML object>"
      ]
     },
     "metadata": {},
     "output_type": "display_data"
    },
    {
     "name": "stdout",
     "output_type": "stream",
     "text": [
      "General\n",
      "Complete name                            : enc_bfktkdugru.mp4\n",
      "Format                                   : MPEG-4\n",
      "Format profile                           : Base Media\n",
      "Codec ID                                 : isom (isom/iso2/avc1/mp41)\n",
      "File size                                : 5.95 MiB\n",
      "Duration                                 : 10 s 32 ms\n",
      "Overall bit rate                         : 4 972 kb/s\n",
      "Writing application                      : Lavf58.29.100\n",
      "\n",
      "Video\n",
      "ID                                       : 1\n",
      "Format                                   : AVC\n",
      "Format/Info                              : Advanced Video Codec\n",
      "Format profile                           : High@L4\n",
      "Format settings                          : CABAC / 4 Ref Frames\n",
      "Format settings, CABAC                   : Yes\n",
      "Format settings, Reference frames        : 4 frames\n",
      "Codec ID                                 : avc1\n",
      "Codec ID/Info                            : Advanced Video Coding\n",
      "Duration                                 : 10 s 11 ms\n",
      "Bit rate                                 : 4 903 kb/s\n",
      "Width                                    : 1 080 pixels\n",
      "Height                                   : 1 920 pixels\n",
      "Display aspect ratio                     : 0.562\n",
      "Frame rate mode                          : Constant\n",
      "Frame rate                               : 29.970 (29970/1000) FPS\n",
      "Color space                              : YUV\n",
      "Chroma subsampling                       : 4:2:0\n",
      "Bit depth                                : 8 bits\n",
      "Scan type                                : Progressive\n",
      "Bits/(Pixel*Frame)                       : 0.079\n",
      "Stream size                              : 5.85 MiB (98%)\n",
      "Writing library                          : x264 core 155 r2917 0a84d98\n",
      "Encoding settings                        : cabac=1 / ref=3 / deblock=1:0:0 / analyse=0x3:0x113 / me=hex / subme=7 / psy=1 / psy_rd=1.00:0.00 / mixed_ref=1 / me_range=16 / chroma_me=1 / trellis=1 / 8x8dct=1 / cqm=0 / deadzone=21,11 / fast_pskip=1 / chroma_qp_offset=-2 / threads=6 / lookahead_threads=1 / sliced_threads=0 / nr=0 / decimate=1 / interlaced=0 / bluray_compat=0 / constrained_intra=0 / bframes=3 / b_pyramid=2 / b_adapt=1 / b_bias=0 / direct=1 / weightb=1 / open_gop=0 / weightp=2 / keyint=250 / keyint_min=25 / scenecut=40 / intra_refresh=0 / rc_lookahead=40 / rc=crf / mbtree=1 / crf=28.0 / qcomp=0.60 / qpmin=0 / qpmax=69 / qpstep=4 / ip_ratio=1.40 / aq=1:1.00\n",
      "Codec configuration box                  : avcC\n",
      "\n",
      "Audio\n",
      "ID                                       : 2\n",
      "Format                                   : AAC LC\n",
      "Format/Info                              : Advanced Audio Codec Low Complexity\n",
      "Codec ID                                 : mp4a-40-2\n",
      "Duration                                 : 10 s 32 ms\n",
      "Bit rate mode                            : Constant\n",
      "Bit rate                                 : 69.5 kb/s\n",
      "Channel(s)                               : 1 channel\n",
      "Channel layout                           : C\n",
      "Sampling rate                            : 44.1 kHz\n",
      "Frame rate                               : 43.066 FPS (1024 SPF)\n",
      "Compression mode                         : Lossy\n",
      "Stream size                              : 85.1 KiB (1%)\n",
      "Default                                  : Yes\n",
      "Alternate group                          : 1\n",
      "\n",
      "\n",
      "\n"
     ]
    }
   ],
   "source": [
    "f = Path(f'enc_{fn.name}')\n",
    "if f.exists(): os.remove(f)\n",
    "run_ffmpeg(fpath_from=fn, fpath_to=f, crf=28)"
   ]
  },
  {
   "cell_type": "markdown",
   "metadata": {},
   "source": [
    "Double check the properties using `cv2`"
   ]
  },
  {
   "cell_type": "code",
   "execution_count": null,
   "metadata": {},
   "outputs": [
    {
     "data": {
      "text/plain": [
       "(152, (480, 270, 3))"
      ]
     },
     "execution_count": null,
     "metadata": {},
     "output_type": "execute_result"
    }
   ],
   "source": [
    "vcap = cv2.VideoCapture(str(f))\n",
    "vlen = int(vcap.get(cv2.CAP_PROP_FRAME_COUNT))\n",
    "ret, frame = vcap.read()\n",
    "vcap.release()\n",
    "vlen, frame.shape"
   ]
  },
  {
   "cell_type": "markdown",
   "metadata": {},
   "source": [
    "## Generate compressed sets"
   ]
  },
  {
   "cell_type": "markdown",
   "metadata": {},
   "source": [
    "Use this section to generate sets of compressed videos.  To keep things simple to begin with, for each directory of original videos, generate 3 compressed sets: one at `fps=15`, one at quarter the size, `scale=.5`, and one with poorer encoding quality, `crf=28`."
   ]
  },
  {
   "cell_type": "code",
   "execution_count": null,
   "metadata": {},
   "outputs": [],
   "source": [
    "SOURCE = Path('../data')"
   ]
  },
  {
   "cell_type": "code",
   "execution_count": null,
   "metadata": {},
   "outputs": [],
   "source": [
    "DFDC = Path('dfdc_train_part_0')"
   ]
  },
  {
   "cell_type": "code",
   "execution_count": null,
   "metadata": {},
   "outputs": [],
   "source": [
    "ENC_DICT = dict(fps15={'fps':15}, quartersize={'scale':.5}, crf28={'crf':28})"
   ]
  },
  {
   "cell_type": "code",
   "execution_count": null,
   "metadata": {},
   "outputs": [],
   "source": [
    "def origfake_exist(row):\n",
    "    fake_exists = row.fname.exists() \n",
    "    orig_exists = True if pd.isna(row.original) else row.original.exists()\n",
    "    return (fake_exists and orig_exists)\n",
    "\n",
    "def load_dfdc_json(path, dfdc, fpath=False, drop_missing=False):\n",
    "    a = get_files(path/dfdc, extensions=['.json'])[0]\n",
    "    a = pd.read_json(a).T\n",
    "    a.reset_index(inplace=True)\n",
    "    a.rename({'index':'fname'}, axis=1, inplace=True)\n",
    "    if fpath or drop_missing:\n",
    "        a.fname = a.fname.apply(lambda o: path/dfdc/o)\n",
    "        a.original = a.original.apply(lambda o: np.nan if pd.isna(o) else path/dfdc/o)\n",
    "    if drop_missing: \n",
    "        exists = a.apply(origfake_exist, axis=1)\n",
    "        return a[exists]\n",
    "    return a\n",
    "    \n",
    "def compress_dataset(path, dfdc, enc, copy_json=True):\n",
    "    annots = load_dfdc_json(path, dfdc, drop_missing=True)\n",
    "    fn_froms = annots.fname\n",
    "    fn_froms = fn_froms[:3]\n",
    "    dir_to = path/f'{dfdc}_{enc}'\n",
    "    os.makedirs(dir_to, exist_ok=True)\n",
    "    fn_tos = [dir_to/o.name for o in fn_froms]\n",
    "    for i in progress_bar(range(len(fn_froms))):\n",
    "        if fpath_to.exists(): os.remove(fpath_to)\n",
    "        run_ffmpeg(fpath_from=fn_froms[i], fpath_to=fn_tos[i], **ENC_DICT[enc])\n",
    "    if copy_json: shutil.copy(path/dfdc/'metadata.json', dir_to/'metadata.json')\n",
    "    return dir_to"
   ]
  },
  {
   "cell_type": "code",
   "execution_count": null,
   "metadata": {},
   "outputs": [
    {
     "data": {
      "text/html": [
       "\n",
       "    <div>\n",
       "        <style>\n",
       "            /* Turns off some styling */\n",
       "            progress {\n",
       "                /* gets rid of default border in Firefox and Opera. */\n",
       "                border: none;\n",
       "                /* Needs to be in here for Safari polyfill so background images work as expected. */\n",
       "                background-size: auto;\n",
       "            }\n",
       "            .progress-bar-interrupted, .progress-bar-interrupted::-webkit-progress-bar {\n",
       "                background: #F44336;\n",
       "            }\n",
       "        </style>\n",
       "      <progress value='3' class='' max='3', style='width:300px; height:20px; vertical-align: middle;'></progress>\n",
       "      100.00% [3/3 00:00<00:00]\n",
       "    </div>\n",
       "    "
      ],
      "text/plain": [
       "<IPython.core.display.HTML object>"
      ]
     },
     "metadata": {},
     "output_type": "display_data"
    },
    {
     "name": "stdout",
     "output_type": "stream",
     "text": [
      "ffmpeg -i ../data/dfdc_train_part_0/owxbbpjpch.mp4    -vf scale=iw*0.50:ih*0.50    ../data/dfdc_train_part_0_quartersize/owxbbpjpch.mp4\n",
      "ffmpeg -i ../data/dfdc_train_part_0/vpmyeepbep.mp4    -vf scale=iw*0.50:ih*0.50    ../data/dfdc_train_part_0_quartersize/vpmyeepbep.mp4\n",
      "ffmpeg -i ../data/dfdc_train_part_0/fzvpbrzssi.mp4    -vf scale=iw*0.50:ih*0.50    ../data/dfdc_train_part_0_quartersize/fzvpbrzssi.mp4\n"
     ]
    }
   ],
   "source": [
    "dir_to = compress_dataset(SOURCE, DFDC, 'quartersize', copy_json=True)"
   ]
  },
  {
   "cell_type": "code",
   "execution_count": null,
   "metadata": {},
   "outputs": [
    {
     "data": {
      "text/plain": [
       "[PosixPath('../data/dfdc_train_part_0_quartersize/vpmyeepbep.mp4'),\n",
       " PosixPath('../data/dfdc_train_part_0_quartersize/metadata.json'),\n",
       " PosixPath('../data/dfdc_train_part_0_quartersize/owxbbpjpch.mp4'),\n",
       " PosixPath('../data/dfdc_train_part_0_quartersize/fzvpbrzssi.mp4')]"
      ]
     },
     "execution_count": null,
     "metadata": {},
     "output_type": "execute_result"
    }
   ],
   "source": [
    "dir_to.ls()"
   ]
  },
  {
   "cell_type": "code",
   "execution_count": null,
   "metadata": {},
   "outputs": [
    {
     "data": {
      "text/html": [
       "<div>\n",
       "<style scoped>\n",
       "    .dataframe tbody tr th:only-of-type {\n",
       "        vertical-align: middle;\n",
       "    }\n",
       "\n",
       "    .dataframe tbody tr th {\n",
       "        vertical-align: top;\n",
       "    }\n",
       "\n",
       "    .dataframe thead th {\n",
       "        text-align: right;\n",
       "    }\n",
       "</style>\n",
       "<table border=\"1\" class=\"dataframe\">\n",
       "  <thead>\n",
       "    <tr style=\"text-align: right;\">\n",
       "      <th></th>\n",
       "      <th>fname</th>\n",
       "      <th>label</th>\n",
       "      <th>split</th>\n",
       "      <th>original</th>\n",
       "    </tr>\n",
       "  </thead>\n",
       "  <tbody>\n",
       "    <tr>\n",
       "      <th>0</th>\n",
       "      <td>owxbbpjpch.mp4</td>\n",
       "      <td>FAKE</td>\n",
       "      <td>train</td>\n",
       "      <td>wynotylpnm.mp4</td>\n",
       "    </tr>\n",
       "    <tr>\n",
       "      <th>1</th>\n",
       "      <td>vpmyeepbep.mp4</td>\n",
       "      <td>REAL</td>\n",
       "      <td>train</td>\n",
       "      <td>NaN</td>\n",
       "    </tr>\n",
       "    <tr>\n",
       "      <th>2</th>\n",
       "      <td>fzvpbrzssi.mp4</td>\n",
       "      <td>REAL</td>\n",
       "      <td>train</td>\n",
       "      <td>NaN</td>\n",
       "    </tr>\n",
       "    <tr>\n",
       "      <th>3</th>\n",
       "      <td>htorvhbcae.mp4</td>\n",
       "      <td>FAKE</td>\n",
       "      <td>train</td>\n",
       "      <td>wclvkepakb.mp4</td>\n",
       "    </tr>\n",
       "    <tr>\n",
       "      <th>4</th>\n",
       "      <td>fckxaqjbxk.mp4</td>\n",
       "      <td>FAKE</td>\n",
       "      <td>train</td>\n",
       "      <td>vpmyeepbep.mp4</td>\n",
       "    </tr>\n",
       "  </tbody>\n",
       "</table>\n",
       "</div>"
      ],
      "text/plain": [
       "            fname label  split        original\n",
       "0  owxbbpjpch.mp4  FAKE  train  wynotylpnm.mp4\n",
       "1  vpmyeepbep.mp4  REAL  train             NaN\n",
       "2  fzvpbrzssi.mp4  REAL  train             NaN\n",
       "3  htorvhbcae.mp4  FAKE  train  wclvkepakb.mp4\n",
       "4  fckxaqjbxk.mp4  FAKE  train  vpmyeepbep.mp4"
      ]
     },
     "execution_count": null,
     "metadata": {},
     "output_type": "execute_result"
    }
   ],
   "source": [
    "load_dfdc_json(dir_to.parent, dir_to.name).head()"
   ]
  },
  {
   "cell_type": "markdown",
   "metadata": {},
   "source": [
    "# -fin"
   ]
  },
  {
   "cell_type": "code",
   "execution_count": null,
   "metadata": {},
   "outputs": [],
   "source": [
    "from nbdev.export import *"
   ]
  },
  {
   "cell_type": "code",
   "execution_count": null,
   "metadata": {},
   "outputs": [
    {
     "name": "stdout",
     "output_type": "stream",
     "text": [
      "Converted 00_data.ipynb.\n",
      "Converted 00a_video_compression-Copy1.ipynb.\n",
      "Converted 00a_video_compression-Copy2.ipynb.\n",
      "Converted 00a_video_compression.ipynb.\n",
      "Converted 01_face_detection-Copy1.ipynb.\n",
      "Converted 01_face_detection.ipynb.\n",
      "Converted 01a_faces_probs_examples.ipynb.\n",
      "Converted 01a_faces_probs_examples_hv.ipynb.\n",
      "Converted 02_fix_luminosity.ipynb.\n",
      "Converted 02a_create_faceimage_dataset.ipynb.\n",
      "Converted 02bis_Create_Dataset.ipynb.\n",
      "Converted 02c_faces_different_dfdc_zips.ipynb.\n",
      "Converted 03_models.ipynb.\n",
      "Converted 04_Baseline_Classification.ipynb.\n",
      "Converted 04_Classification.ipynb.\n",
      "Converted 04a_classification_videolist.ipynb.\n",
      "Converted 05_Class_Imbalance.ipynb.\n",
      "Converted 06_Focal_Loss.ipynb.\n",
      "Converted 07_full_classification.ipynb.\n",
      "This cell doesn't have an export destination and was ignored:\n",
      "e\n",
      "Converted 07a_classify_video_margin.ipynb.\n",
      "Converted 07b_classify_resize.ipynb.\n",
      "Converted 08_Validation.ipynb.\n",
      "Converted 09_JPG_Compression_Augmentation.ipynb.\n",
      "Converted Untitled.ipynb.\n",
      "Converted deepfake_submission.ipynb.\n",
      "Converted export_kernel_module.ipynb.\n",
      "Converted test_submission.ipynb.\n"
     ]
    }
   ],
   "source": [
    "notebook2script()"
   ]
  },
  {
   "cell_type": "code",
   "execution_count": null,
   "metadata": {},
   "outputs": [],
   "source": []
  }
 ],
 "metadata": {
  "kernelspec": {
   "display_name": "Python 3",
   "language": "python",
   "name": "python3"
  }
 },
 "nbformat": 4,
 "nbformat_minor": 2
}
