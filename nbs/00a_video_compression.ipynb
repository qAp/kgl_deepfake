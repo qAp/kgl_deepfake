{
 "cells": [
  {
   "cell_type": "markdown",
   "metadata": {},
   "source": [
    "# Video compression"
   ]
  },
  {
   "cell_type": "markdown",
   "metadata": {},
   "source": [
    "According to the dataset paper, \n",
    "\n",
    "> However, for each target video in the test set, we randomly selected two clips out of three and applied augmentations that\n",
    "approximate actual degradations seen in real-life video distributions. Specifically, these augmentations were\n",
    "> 1. reduce the FPS of the video to 15\n",
    "> 2. reduce the resolution of the video to 1/4 of its original size\n",
    "> 3. reduce the overall encoding quality"
   ]
  },
  {
   "cell_type": "markdown",
   "metadata": {},
   "source": [
    "In this notebook we look at how to compress videos using `ffmpeg`.  Based on the above list, a quick search returns several useful examples:\n",
    "\n",
    "* General compression for the web 1: https://dev.to/benjaminblack/use-ffmpeg-to-compress-and-convert-videos-458l  \n",
    "* General compression for the web 2: https://trac.ffmpeg.org/wiki/Encode/YouTube   \n",
    "* Frame rate change: https://trac.ffmpeg.org/wiki/ChangingFrameRate  \n",
    "* Scaling: https://trac.ffmpeg.org/wiki/Scaling  \n",
    "\n",
    "The latest `ffmpeg` can be obtained at https://johnvansickle.com/ffmpeg/.  See the FAQ for how to install."
   ]
  },
  {
   "cell_type": "code",
   "execution_count": 1,
   "metadata": {},
   "outputs": [],
   "source": [
    "from IPython.display import HTML\n",
    "from fastai.core import *\n",
    "from fastai.vision import *\n",
    "from kgl_deepfake.data import *"
   ]
  },
  {
   "cell_type": "code",
   "execution_count": 63,
   "metadata": {},
   "outputs": [],
   "source": [
    "SOURCE = Path('../data/dfdc_train_part_10/')"
   ]
  },
  {
   "cell_type": "code",
   "execution_count": 64,
   "metadata": {},
   "outputs": [],
   "source": [
    "fnames = get_files(SOURCE, extensions=['.mp4'])"
   ]
  },
  {
   "cell_type": "code",
   "execution_count": 68,
   "metadata": {},
   "outputs": [
    {
     "data": {
      "text/plain": [
       "PosixPath('../data/dfdc_train_part_10/rilulssouy.mp4')"
      ]
     },
     "execution_count": 68,
     "metadata": {},
     "output_type": "execute_result"
    }
   ],
   "source": [
    "fn = fnames[1390]\n",
    "fn"
   ]
  },
  {
   "cell_type": "code",
   "execution_count": 69,
   "metadata": {},
   "outputs": [
    {
     "data": {
      "text/html": [
       "\n",
       "    <video width=\"300\" height=\"250\" controls>\n",
       "    <source src=\"../data/dfdc_train_part_10/rilulssouy.mp4\" type=\"video/mp4\">\n",
       "    </video>\n",
       "    "
      ],
      "text/plain": [
       "<IPython.core.display.HTML object>"
      ]
     },
     "execution_count": 69,
     "metadata": {},
     "output_type": "execute_result"
    }
   ],
   "source": [
    "HTML(html_vid(fn))"
   ]
  },
  {
   "cell_type": "markdown",
   "metadata": {},
   "source": [
    "### File size"
   ]
  },
  {
   "cell_type": "markdown",
   "metadata": {},
   "source": [
    "To conveniently check the file size of compressed videos:"
   ]
  },
  {
   "cell_type": "code",
   "execution_count": 59,
   "metadata": {},
   "outputs": [],
   "source": [
    "def get_file_size(fpath):\n",
    "    assert fpath.is_file()\n",
    "    p = subprocess.run(f\"du -hs {fpath}\".split(), stdout=subprocess.PIPE)\n",
    "    return p.stdout.decode().split('\\t')[0]"
   ]
  },
  {
   "cell_type": "code",
   "execution_count": 60,
   "metadata": {},
   "outputs": [],
   "source": [
    "Path.file_size = get_file_size"
   ]
  },
  {
   "cell_type": "markdown",
   "metadata": {},
   "source": [
    "Original file size"
   ]
  },
  {
   "cell_type": "code",
   "execution_count": 70,
   "metadata": {},
   "outputs": [
    {
     "data": {
      "text/plain": [
       "'3.3M'"
      ]
     },
     "execution_count": 70,
     "metadata": {},
     "output_type": "execute_result"
    }
   ],
   "source": [
    "fn.file_size()"
   ]
  },
  {
   "cell_type": "markdown",
   "metadata": {},
   "source": [
    "### Decorator to run command in terminal"
   ]
  },
  {
   "cell_type": "code",
   "execution_count": 10,
   "metadata": {},
   "outputs": [],
   "source": [
    "def runnit(f):\n",
    "    def _func(*args, **kwargs):\n",
    "        command = f(*args, **kwargs)\n",
    "        p = subprocess.run(command.split(), stdout=subprocess.PIPE, stderr=subprocess.PIPE)\n",
    "        return p\n",
    "    return _func"
   ]
  },
  {
   "cell_type": "markdown",
   "metadata": {
    "heading_collapsed": true
   },
   "source": [
    "### Are these videos HDR?"
   ]
  },
  {
   "cell_type": "markdown",
   "metadata": {
    "hidden": true
   },
   "source": [
    "The following checks whether the video is HDR or not."
   ]
  },
  {
   "cell_type": "code",
   "execution_count": 11,
   "metadata": {
    "hidden": true
   },
   "outputs": [],
   "source": [
    "@runnit\n",
    "def vid_colour_primaries(fpath):\n",
    "    \"Use `mediainfo` to get video's colour primaries.\"\n",
    "    return f'''\n",
    "    mediainfo f'{fpath}' --Inform=\"Video;%colour_primaries%\"\n",
    "    '''\n",
    "\n",
    "def vid_is_HDR(fpath):\n",
    "    \"Is video HDR or not?\"\n",
    "    p = vid_colour_primaries(fpath)\n",
    "    res = p.stdout.decode()\n",
    "    return True if 'BT.2020' in res else False"
   ]
  },
  {
   "cell_type": "code",
   "execution_count": 13,
   "metadata": {
    "hidden": true
   },
   "outputs": [
    {
     "data": {
      "text/plain": [
       "False"
      ]
     },
     "execution_count": 13,
     "metadata": {},
     "output_type": "execute_result"
    }
   ],
   "source": [
    "vid_is_HDR(fn)"
   ]
  },
  {
   "cell_type": "markdown",
   "metadata": {},
   "source": [
    "### Encoding"
   ]
  },
  {
   "cell_type": "markdown",
   "metadata": {},
   "source": [
    "Each of the URLs above does something different: encoding, scaling, fps.  These are combined into a single function.  Note that probably not all combinations of input parameters will run, but the main parameters to adjust are:\n",
    "\n",
    "* **crf** \"The range of the CRF scale is 0–51, where 0 is lossless, 23 is the default, and 51 is worst quality possible. A lower value generally leads to higher quality, and a subjectively sane range is 17–28. Consider 17 or 18 to be visually lossless or nearly so; it should look the same or nearly the same as the input but it isn't technically lossless.\" > 23 recommended.\n",
    "* **fps** \"Changing frame rates requires the video to be re-encoded. Without setting appropriate output quality or bit rate, the video quality may be degraded. Please look at the respective encoding guides for the codec you've chosen.\"\n",
    "* **height**/**wdith** Value between 0 and 1 to scale the original lengths."
   ]
  },
  {
   "cell_type": "markdown",
   "metadata": {},
   "source": [
    "To show a video's info after it's been compressed"
   ]
  },
  {
   "cell_type": "code",
   "execution_count": 40,
   "metadata": {},
   "outputs": [],
   "source": [
    "def show_vid_info(f):\n",
    "    def _f(*args, **kwargs):\n",
    "        p = f(*args, **kwargs)\n",
    "        fpath = Path(kwargs['fpath_to'])\n",
    "        print(fpath.file_size())\n",
    "        display(HTML(html_vid(fpath)))\n",
    "    return _f"
   ]
  },
  {
   "cell_type": "markdown",
   "metadata": {},
   "source": [
    "Function for donig the encoding using `ffmpeg`, with default arguments defined."
   ]
  },
  {
   "cell_type": "code",
   "execution_count": 57,
   "metadata": {},
   "outputs": [],
   "source": [
    "def _ffmpeg_defaults():\n",
    "    return dict(video_encoder='libx264', video_bitrate='1.5M', preset='medium', \n",
    "                fps=30, width=1., height=1, crf=23, #17-28\n",
    "                audio_encoder='aac', audio_bitrate='128k')\n",
    "\n",
    "def _ffmpeg_opts():\n",
    "    return dict(video_encoder='-c:v {video_encoder:s}', \n",
    "                video_bitrate='-b:v {video_bitrate:s}', \n",
    "                fps='-vf fps=fps={fps:d}', \n",
    "                scale='''-vf scale=iw*{width:.2f}:ih*{height:.2f}''', \n",
    "                crf='-crf {crf:d}',\n",
    "                audio_bitrate='-b:a {audio_bitrate}', \n",
    "                audio_encoder='-c:a {audio_encoder}')\n",
    "\n",
    "@show_vid_info\n",
    "@runnit\n",
    "def run_ffmpeg(fpath_from=None, fpath_to=None, **kwargs):\n",
    "    opts_values = _ffmpeg_defaults()\n",
    "    opts_values.update(kwargs)\n",
    "    opts_str = ' '.join([s.format(**opts_values) for n, s in _ffmpeg_opts().items()])\n",
    "    return f'ffmpeg -i {fpath_from} {opts_str} {fpath_to}'"
   ]
  },
  {
   "cell_type": "markdown",
   "metadata": {},
   "source": [
    "Apply to the original:"
   ]
  },
  {
   "cell_type": "code",
   "execution_count": 71,
   "metadata": {},
   "outputs": [
    {
     "name": "stdout",
     "output_type": "stream",
     "text": [
      "208K\n"
     ]
    },
    {
     "data": {
      "text/html": [
       "\n",
       "    <video width=\"300\" height=\"250\" controls>\n",
       "    <source src=\"enc_rilulssouy.mp4\" type=\"video/mp4\">\n",
       "    </video>\n",
       "    "
      ],
      "text/plain": [
       "<IPython.core.display.HTML object>"
      ]
     },
     "metadata": {},
     "output_type": "display_data"
    }
   ],
   "source": [
    "f = Path(f'enc_{fn.name}')\n",
    "if f.exists(): os.remove(f)\n",
    "run_ffmpeg(fpath_from=fn, fpath_to=f, fps=15, width=.25, height=.25, crf=28)"
   ]
  },
  {
   "cell_type": "markdown",
   "metadata": {},
   "source": [
    "# -fin"
   ]
  },
  {
   "cell_type": "code",
   "execution_count": null,
   "metadata": {},
   "outputs": [],
   "source": []
  }
 ],
 "metadata": {
  "kernelspec": {
   "display_name": "Python 3",
   "language": "python",
   "name": "python3"
  },
  "language_info": {
   "codemirror_mode": {
    "name": "ipython",
    "version": 3
   },
   "file_extension": ".py",
   "mimetype": "text/x-python",
   "name": "python",
   "nbconvert_exporter": "python",
   "pygments_lexer": "ipython3",
   "version": "3.7.6"
  }
 },
 "nbformat": 4,
 "nbformat_minor": 2
}
