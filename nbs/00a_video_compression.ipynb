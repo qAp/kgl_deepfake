{
 "cells": [
  {
   "cell_type": "markdown",
   "metadata": {},
   "source": [
    "# Video compression"
   ]
  },
  {
   "cell_type": "markdown",
   "metadata": {},
   "source": [
    "According to the dataset paper, \n",
    "\n",
    "> However, for each target video in the test set, we randomly selected two clips out of three and applied augmentations that\n",
    "approximate actual degradations seen in real-life video distributions. Specifically, these augmentations were\n",
    "> 1. reduce the FPS of the video to 15\n",
    "> 2. reduce the resolution of the video to 1/4 of its original size\n",
    "> 3. reduce the overall encoding quality"
   ]
  },
  {
   "cell_type": "markdown",
   "metadata": {},
   "source": [
    "In this notebook we look at how to compress videos using `ffmpeg`.  Based on the above list, a quick search returns several useful examples:\n",
    "\n",
    "* General compression for the web 1: https://dev.to/benjaminblack/use-ffmpeg-to-compress-and-convert-videos-458l  \n",
    "* General compression for the web 2: https://trac.ffmpeg.org/wiki/Encode/YouTube   \n",
    "* Frame rate change: https://trac.ffmpeg.org/wiki/ChangingFrameRate  \n",
    "* Scaling: https://trac.ffmpeg.org/wiki/Scaling  \n",
    "\n",
    "The latest `ffmpeg` can be obtained at https://johnvansickle.com/ffmpeg/.  See the FAQ for how to install."
   ]
  },
  {
   "cell_type": "code",
   "execution_count": null,
   "metadata": {},
   "outputs": [],
   "source": [
    "#default_exp video_compress"
   ]
  },
  {
   "cell_type": "code",
   "execution_count": null,
   "metadata": {},
   "outputs": [],
   "source": [
    "#export\n",
    "from IPython.display import HTML\n",
    "import cv2\n",
    "from fastai.core import *\n",
    "from fastai.vision import *\n",
    "from kgl_deepfake.data import *"
   ]
  },
  {
   "cell_type": "code",
   "execution_count": null,
   "metadata": {},
   "outputs": [],
   "source": [
    "SOURCE = Path('../data/dfdc_train_part_0/')"
   ]
  },
  {
   "cell_type": "code",
   "execution_count": null,
   "metadata": {},
   "outputs": [],
   "source": [
    "fnames = get_files(SOURCE, extensions=['.mp4'])"
   ]
  },
  {
   "cell_type": "code",
   "execution_count": null,
   "metadata": {},
   "outputs": [
    {
     "data": {
      "text/plain": [
       "PosixPath('../data/dfdc_train_part_0/bfktkdugru.mp4')"
      ]
     },
     "execution_count": null,
     "metadata": {},
     "output_type": "execute_result"
    }
   ],
   "source": [
    "fn = fnames[159]\n",
    "fn"
   ]
  },
  {
   "cell_type": "code",
   "execution_count": null,
   "metadata": {},
   "outputs": [
    {
     "data": {
      "text/html": [
       "\n",
       "    <video width=\"300\" height=\"250\" controls>\n",
       "    <source src=\"../data/dfdc_train_part_0/bfktkdugru.mp4\" type=\"video/mp4\">\n",
       "    </video>\n",
       "    "
      ],
      "text/plain": [
       "<IPython.core.display.HTML object>"
      ]
     },
     "execution_count": null,
     "metadata": {},
     "output_type": "execute_result"
    }
   ],
   "source": [
    "HTML(html_vid(fn))"
   ]
  },
  {
   "cell_type": "markdown",
   "metadata": {},
   "source": [
    "Use `mediainfo` to show video properties"
   ]
  },
  {
   "cell_type": "code",
   "execution_count": null,
   "metadata": {},
   "outputs": [
    {
     "name": "stdout",
     "output_type": "stream",
     "text": [
      "General\r\n",
      "Complete name                            : ../data/dfdc_train_part_0/bfktkdugru.mp4\r\n",
      "Format                                   : MPEG-4\r\n",
      "Format profile                           : Base Media\r\n",
      "Codec ID                                 : isom (isom/iso2/avc1/mp41)\r\n",
      "File size                                : 15.2 MiB\r\n",
      "Duration                                 : 10 s 24 ms\r\n",
      "Overall bit rate                         : 12.7 Mb/s\r\n",
      "Writing application                      : Lavf57.71.100\r\n",
      "\r\n",
      "Video\r\n",
      "ID                                       : 1\r\n",
      "Format                                   : AVC\r\n",
      "Format/Info                              : Advanced Video Codec\r\n",
      "Format profile                           : High@L4\r\n",
      "Format settings                          : CABAC / 4 Ref Frames\r\n",
      "Format settings, CABAC                   : Yes\r\n",
      "Format settings, Reference frames        : 4 frames\r\n",
      "Codec ID                                 : avc1\r\n",
      "Codec ID/Info                            : Advanced Video Coding\r\n",
      "Duration                                 : 10 s 11 ms\r\n",
      "Bit rate                                 : 12.7 Mb/s\r\n",
      "Width                                    : 1 080 pixels\r\n",
      "Height                                   : 1 920 pixels\r\n",
      "Display aspect ratio                     : 0.562\r\n",
      "Frame rate mode                          : Constant\r\n",
      "Frame rate                               : 29.970 (29970/1000) FPS\r\n",
      "Color space                              : YUV\r\n",
      "Chroma subsampling                       : 4:2:0\r\n",
      "Bit depth                                : 8 bits\r\n",
      "Scan type                                : Progressive\r\n",
      "Bits/(Pixel*Frame)                       : 0.204\r\n",
      "Stream size                              : 15.1 MiB (99%)\r\n",
      "Writing library                          : x264 core 157\r\n",
      "Encoding settings                        : cabac=1 / ref=3 / deblock=1:0:0 / analyse=0x3:0x113 / me=hex / subme=7 / psy=1 / psy_rd=1.00:0.00 / mixed_ref=1 / me_range=16 / chroma_me=1 / trellis=1 / 8x8dct=1 / cqm=0 / deadzone=21,11 / fast_pskip=1 / chroma_qp_offset=-2 / threads=60 / lookahead_threads=10 / sliced_threads=0 / nr=0 / decimate=1 / interlaced=0 / bluray_compat=0 / constrained_intra=0 / bframes=3 / b_pyramid=2 / b_adapt=1 / b_bias=0 / direct=1 / weightb=1 / open_gop=0 / weightp=2 / keyint=250 / keyint_min=25 / scenecut=40 / intra_refresh=0 / rc_lookahead=40 / rc=crf / mbtree=1 / crf=23.0 / qcomp=0.60 / qpmin=0 / qpmax=69 / qpstep=4 / ip_ratio=1.40 / aq=1:1.00\r\n",
      "Codec configuration box                  : avcC\r\n",
      "\r\n",
      "Audio\r\n",
      "ID                                       : 2\r\n",
      "Format                                   : AAC LC\r\n",
      "Format/Info                              : Advanced Audio Codec Low Complexity\r\n",
      "Codec ID                                 : mp4a-40-2\r\n",
      "Duration                                 : 10 s 24 ms\r\n",
      "Duration_LastFrame                       : -8 ms\r\n",
      "Bit rate mode                            : Constant\r\n",
      "Bit rate                                 : 69.3 kb/s\r\n",
      "Channel(s)                               : 1 channel\r\n",
      "Channel layout                           : C\r\n",
      "Sampling rate                            : 44.1 kHz\r\n",
      "Frame rate                               : 43.066 FPS (1024 SPF)\r\n",
      "Compression mode                         : Lossy\r\n",
      "Stream size                              : 84.8 KiB (1%)\r\n",
      "Default                                  : Yes\r\n",
      "Alternate group                          : 1\r\n",
      "\r\n",
      "\r\n"
     ]
    }
   ],
   "source": [
    "! mediainfo {fn}"
   ]
  },
  {
   "cell_type": "markdown",
   "metadata": {},
   "source": [
    "### File size"
   ]
  },
  {
   "cell_type": "markdown",
   "metadata": {},
   "source": [
    "To conveniently check the file size of compressed videos:"
   ]
  },
  {
   "cell_type": "code",
   "execution_count": null,
   "metadata": {},
   "outputs": [],
   "source": [
    "#export\n",
    "def get_file_size(fpath):\n",
    "    assert fpath.is_file()\n",
    "    p = subprocess.run(f\"du -hs {fpath}\".split(), stdout=subprocess.PIPE)\n",
    "    return p.stdout.decode().split('\\t')[0]"
   ]
  },
  {
   "cell_type": "code",
   "execution_count": null,
   "metadata": {},
   "outputs": [],
   "source": [
    "#export\n",
    "Path.file_size = get_file_size"
   ]
  },
  {
   "cell_type": "markdown",
   "metadata": {},
   "source": [
    "Original file size"
   ]
  },
  {
   "cell_type": "code",
   "execution_count": null,
   "metadata": {},
   "outputs": [
    {
     "data": {
      "text/plain": [
       "' 15M'"
      ]
     },
     "execution_count": null,
     "metadata": {},
     "output_type": "execute_result"
    }
   ],
   "source": [
    "fn.file_size()"
   ]
  },
  {
   "cell_type": "markdown",
   "metadata": {},
   "source": [
    "### Decorator to run command in terminal"
   ]
  },
  {
   "cell_type": "code",
   "execution_count": null,
   "metadata": {},
   "outputs": [],
   "source": [
    "#export\n",
    "def runnit(f):\n",
    "    def _func(*args, **kwargs):\n",
    "        command = f(*args, **kwargs)\n",
    "        p = subprocess.run(command.split(), stdout=subprocess.PIPE, stderr=subprocess.PIPE)\n",
    "        return p\n",
    "    return _func"
   ]
  },
  {
   "cell_type": "markdown",
   "metadata": {},
   "source": [
    "### Are these videos HDR?"
   ]
  },
  {
   "cell_type": "markdown",
   "metadata": {},
   "source": [
    "The following checks whether the video is HDR or not."
   ]
  },
  {
   "cell_type": "code",
   "execution_count": null,
   "metadata": {},
   "outputs": [],
   "source": [
    "#export\n",
    "@runnit\n",
    "def vid_colour_primaries(fpath):\n",
    "    \"Use `mediainfo` to get video's colour primaries.\"\n",
    "    return f'''\n",
    "    mediainfo f'{fpath}' --Inform=\"Video;%colour_primaries%\"\n",
    "    '''\n",
    "\n",
    "def vid_is_HDR(fpath):\n",
    "    \"Is video HDR or not?\"\n",
    "    p = vid_colour_primaries(fpath)\n",
    "    res = p.stdout.decode()\n",
    "    return True if 'BT.2020' in res else False"
   ]
  },
  {
   "cell_type": "code",
   "execution_count": null,
   "metadata": {},
   "outputs": [
    {
     "data": {
      "text/plain": [
       "False"
      ]
     },
     "execution_count": null,
     "metadata": {},
     "output_type": "execute_result"
    }
   ],
   "source": [
    "vid_is_HDR(fn)"
   ]
  },
  {
   "cell_type": "markdown",
   "metadata": {},
   "source": [
    "### Show video properties using `mediainfo`"
   ]
  },
  {
   "cell_type": "code",
   "execution_count": null,
   "metadata": {},
   "outputs": [],
   "source": [
    "#export\n",
    "def get_mediainfo(fpath=None): \n",
    "    @runnit\n",
    "    def _func(fpath=None):\n",
    "        return f'''mediainfo {fpath}'''\n",
    "    p = _func(fpath=fpath)\n",
    "    return p.stdout.decode()"
   ]
  },
  {
   "cell_type": "markdown",
   "metadata": {},
   "source": [
    "### Encoding"
   ]
  },
  {
   "cell_type": "markdown",
   "metadata": {},
   "source": [
    "Each of the URLs above does something different: encoding, scaling, fps.  These are combined into a single function.  Note that probably not all combinations of input parameters will run, but the main parameters to adjust are:\n",
    "\n",
    "* **crf** \"The range of the CRF scale is 0–51, where 0 is lossless, 23 is the default, and 51 is worst quality possible. A lower value generally leads to higher quality, and a subjectively sane range is 17–28. Consider 17 or 18 to be visually lossless or nearly so; it should look the same or nearly the same as the input but it isn't technically lossless.\" > 23 recommended.\n",
    "* **fps** \"Changing frame rates requires the video to be re-encoded. Without setting appropriate output quality or bit rate, the video quality may be degraded. Please look at the respective encoding guides for the codec you've chosen.\"\n",
    "* **scale** Value between 0 and 1 to scale the original lengths."
   ]
  },
  {
   "cell_type": "markdown",
   "metadata": {},
   "source": [
    "To display the video and its properties after it's been compressed"
   ]
  },
  {
   "cell_type": "code",
   "execution_count": null,
   "metadata": {},
   "outputs": [],
   "source": [
    "#export\n",
    "def show_vid_info(f):\n",
    "    \"Display video and its properties after it's been processed.\"\n",
    "    def _f(*args, **kwargs):\n",
    "        p = f(*args, **kwargs)\n",
    "        fpath = Path(kwargs['fpath_to'])\n",
    "        display(HTML(html_vid(fpath)))\n",
    "        print(get_mediainfo(fpath))\n",
    "    return _f"
   ]
  },
  {
   "cell_type": "markdown",
   "metadata": {},
   "source": [
    "Function for donig the encoding using `ffmpeg`, with default arguments defined."
   ]
  },
  {
   "cell_type": "code",
   "execution_count": null,
   "metadata": {},
   "outputs": [],
   "source": [
    "#export\n",
    "def _ffmpeg_web_defaults():\n",
    "    '''\n",
    "    These are some reasonable values for uploading. i.e. YouTube, etc.\n",
    "    '''\n",
    "    return dict(video_encoder='libx264', video_bitrate='1.5M', fps=30, scale=.5, crf=23, #17-28\n",
    "                audio_encoder='aac', audio_bitrate='128k')\n",
    "\n",
    "def _ffmpeg_defaults():\n",
    "    return dict(video_encoder=None, video_bitrate=None, fps=None, scale=None, crf=None,\n",
    "                audio_encoder=None, audio_bitrate=None)\n",
    "\n",
    "def _ffmpeg_fmts():\n",
    "    \"ffmpeg options syntax\"\n",
    "    return dict(video_encoder='-c:v {video_encoder:s}', \n",
    "                video_bitrate='-b:v {video_bitrate:s}', \n",
    "                fps='-r {fps:d}', \n",
    "                scale='-vf scale=iw*{scale:.2f}:ih*{scale:.2f}', \n",
    "                crf='-crf {crf:d}',\n",
    "                audio_bitrate='-b:a {audio_bitrate}', \n",
    "                audio_encoder='-c:a {audio_encoder}')\n",
    "\n",
    "#@show_vid_info\n",
    "@runnit\n",
    "def run_ffmpeg(fpath_from=None, fpath_to=None, **kwargs):\n",
    "    '''\n",
    "    Run ffmpeg\n",
    "    '''\n",
    "    ps = _ffmpeg_defaults()\n",
    "    ps.update(kwargs)\n",
    "    pstr = []\n",
    "    for n, s in _ffmpeg_fmts().items():\n",
    "        if ps[n] is None: pstr.append('')\n",
    "        else: pstr.append(s.format(**ps))\n",
    "    pstr = ' '.join(pstr)\n",
    "    return f'ffmpeg -i {fpath_from} {pstr} {fpath_to}'"
   ]
  },
  {
   "cell_type": "markdown",
   "metadata": {},
   "source": [
    "Apply to the original (uncomment the `@show_vid_info` above `run_ffmpeg` to display legible output in the next cell):"
   ]
  },
  {
   "cell_type": "code",
   "execution_count": null,
   "metadata": {},
   "outputs": [
    {
     "data": {
      "text/plain": [
       "CompletedProcess(args=['ffmpeg', '-i', '../data/dfdc_train_part_0/bfktkdugru.mp4', '-crf', '28', 'enc_bfktkdugru.mp4'], returncode=0, stdout=b'', stderr=b\"ffmpeg version 4.2.2 Copyright (c) 2000-2019 the FFmpeg developers\\n  built with Apple clang version 11.0.0 (clang-1100.0.33.16)\\n  configuration: --prefix=/usr/local/Cellar/ffmpeg/4.2.2_1 --enable-shared --enable-pthreads --enable-version3 --enable-avresample --cc=clang --host-cflags='-I/Library/Java/JavaVirtualMachines/adoptopenjdk-13.0.1.jdk/Contents/Home/include -I/Library/Java/JavaVirtualMachines/adoptopenjdk-13.0.1.jdk/Contents/Home/include/darwin -fno-stack-check' --host-ldflags= --enable-ffplay --enable-gnutls --enable-gpl --enable-libaom --enable-libbluray --enable-libmp3lame --enable-libopus --enable-librubberband --enable-libsnappy --enable-libtesseract --enable-libtheora --enable-libvidstab --enable-libvorbis --enable-libvpx --enable-libwebp --enable-libx264 --enable-libx265 --enable-libxvid --enable-lzma --enable-libfontconfig --enable-libfreetype --enable-frei0r --enable-libass --enable-libopencore-amrnb --enable-libopencore-amrwb --enable-libopenjpeg --enable-librtmp --enable-libspeex --enable-libsoxr --enable-videotoolbox --disable-libjack --disable-indev=jack\\n  libavutil      56. 31.100 / 56. 31.100\\n  libavcodec     58. 54.100 / 58. 54.100\\n  libavformat    58. 29.100 / 58. 29.100\\n  libavdevice    58.  8.100 / 58.  8.100\\n  libavfilter     7. 57.100 /  7. 57.100\\n  libavresample   4.  0.  0 /  4.  0.  0\\n  libswscale      5.  5.100 /  5.  5.100\\n  libswresample   3.  5.100 /  3.  5.100\\n  libpostproc    55.  5.100 / 55.  5.100\\nInput #0, mov,mp4,m4a,3gp,3g2,mj2, from '../data/dfdc_train_part_0/bfktkdugru.mp4':\\n  Metadata:\\n    major_brand     : isom\\n    minor_version   : 512\\n    compatible_brands: isomiso2avc1mp41\\n    encoder         : Lavf57.71.100\\n  Duration: 00:00:10.02, start: 0.000000, bitrate: 12744 kb/s\\n    Stream #0:0(und): Video: h264 (High) (avc1 / 0x31637661), yuv420p, 1080x1920 [SAR 1:1 DAR 9:16], 12683 kb/s, 29.97 fps, 29.97 tbr, 149843 tbn, 59.94 tbc (default)\\n    Metadata:\\n      handler_name    : VideoHandler\\n    Stream #0:1(und): Audio: aac (LC) (mp4a / 0x6134706D), 44100 Hz, mono, fltp, 69 kb/s (default)\\n    Metadata:\\n      handler_name    : SoundHandler\\nStream mapping:\\n  Stream #0:0 -> #0:0 (h264 (native) -> h264 (libx264))\\n  Stream #0:1 -> #0:1 (aac (native) -> aac (native))\\nPress [q] to stop, [?] for help\\n[libx264 @ 0x7fb9c2009e00] using SAR=1/1\\n[libx264 @ 0x7fb9c2009e00] using cpu capabilities: MMX2 SSE2Fast SSSE3 SSE4.2 AVX FMA3 BMI2 AVX2\\n[libx264 @ 0x7fb9c2009e00] profile High, level 4.0\\n[libx264 @ 0x7fb9c2009e00] 264 - core 155 r2917 0a84d98 - H.264/MPEG-4 AVC codec - Copyleft 2003-2018 - http://www.videolan.org/x264.html - options: cabac=1 ref=3 deblock=1:0:0 analyse=0x3:0x113 me=hex subme=7 psy=1 psy_rd=1.00:0.00 mixed_ref=1 me_range=16 chroma_me=1 trellis=1 8x8dct=1 cqm=0 deadzone=21,11 fast_pskip=1 chroma_qp_offset=-2 threads=6 lookahead_threads=1 sliced_threads=0 nr=0 decimate=1 interlaced=0 bluray_compat=0 constrained_intra=0 bframes=3 b_pyramid=2 b_adapt=1 b_bias=0 direct=1 weightb=1 open_gop=0 weightp=2 keyint=250 keyint_min=25 scenecut=40 intra_refresh=0 rc_lookahead=40 rc=crf mbtree=1 crf=28.0 qcomp=0.60 qpmin=0 qpmax=69 qpstep=4 ip_ratio=1.40 aq=1:1.00\\nOutput #0, mp4, to 'enc_bfktkdugru.mp4':\\n  Metadata:\\n    major_brand     : isom\\n    minor_version   : 512\\n    compatible_brands: isomiso2avc1mp41\\n    encoder         : Lavf58.29.100\\n    Stream #0:0(und): Video: h264 (libx264) (avc1 / 0x31637661), yuv420p, 1080x1920 [SAR 1:1 DAR 9:16], q=-1--1, 29.97 fps, 149843 tbn, 29.97 tbc (default)\\n    Metadata:\\n      handler_name    : VideoHandler\\n      encoder         : Lavc58.54.100 libx264\\n    Side data:\\n      cpb: bitrate max/min/avg: 0/0/0 buffer size: 0 vbv_delay: -1\\n    Stream #0:1(und): Audio: aac (LC) (mp4a / 0x6134706D), 44100 Hz, mono, fltp, 69 kb/s (default)\\n    Metadata:\\n      handler_name    : SoundHandler\\n      encoder         : Lavc58.54.100 aac\\nframe=   44 fps=0.0 q=0.0 size=       0kB time=00:00:01.55 bitrate=   0.2kbits/s speed=3.03x    \\rframe=   46 fps= 34 q=0.0 size=       0kB time=00:00:01.62 bitrate=   0.2kbits/s speed=1.21x    \\rframe=   55 fps= 28 q=34.0 size=       0kB time=00:00:01.92 bitrate=   0.2kbits/s speed=0.984x    \\rframe=   64 fps= 25 q=34.0 size=     256kB time=00:00:02.22 bitrate= 941.0kbits/s speed=0.888x    \\rframe=   71 fps= 22 q=34.0 size=     256kB time=00:00:02.46 bitrate= 852.2kbits/s speed=0.762x    \\rframe=   82 fps= 22 q=34.0 size=     512kB time=00:00:02.83 bitrate=1480.7kbits/s speed=0.745x    \\rframe=   89 fps= 21 q=34.0 size=     512kB time=00:00:03.06 bitrate=1368.6kbits/s speed=0.709x    \\rframe=   98 fps= 20 q=34.0 size=     768kB time=00:00:03.36 bitrate=1868.7kbits/s speed=0.695x    \\rframe=  107 fps= 20 q=34.0 size=    1024kB time=00:00:03.66 bitrate=2286.6kbits/s speed=0.676x    \\rframe=  115 fps= 19 q=34.0 size=    1024kB time=00:00:03.92 bitrate=2137.8kbits/s speed=0.652x    \\rframe=  123 fps= 18 q=34.0 size=    1280kB time=00:00:04.20 bitrate=2495.0kbits/s speed=0.631x    \\rframe=  132 fps= 18 q=34.0 size=    1536kB time=00:00:04.50 bitrate=2793.4kbits/s speed=0.627x    \\rframe=  137 fps= 18 q=34.0 size=    1536kB time=00:00:04.66 bitrate=2696.1kbits/s speed=0.599x    \\rframe=  144 fps= 17 q=34.0 size=    1792kB time=00:00:04.89 bitrate=2996.4kbits/s speed=0.584x    \\rframe=  150 fps= 17 q=34.0 size=    1792kB time=00:00:05.08 bitrate=2886.9kbits/s speed=0.568x    \\rframe=  160 fps= 17 q=34.0 size=    2048kB time=00:00:05.43 bitrate=3087.8kbits/s speed=0.575x    \\rframe=  167 fps= 16 q=34.0 size=    2048kB time=00:00:05.66 bitrate=2961.3kbits/s speed=0.558x    \\rframe=  177 fps= 17 q=34.0 size=    2304kB time=00:00:05.99 bitrate=3150.7kbits/s speed=0.561x    \\rframe=  186 fps= 16 q=34.0 size=    2560kB time=00:00:06.29 bitrate=3332.8kbits/s speed=0.556x    \\rframe=  194 fps= 16 q=34.0 size=    2816kB time=00:00:06.57 bitrate=3510.6kbits/s speed=0.546x    \\rframe=  202 fps= 16 q=34.0 size=    2816kB time=00:00:06.82 bitrate=3379.3kbits/s speed=0.543x    \\rframe=  212 fps= 16 q=34.0 size=    3072kB time=00:00:07.15 bitrate=3518.9kbits/s speed=0.543x    \\rframe=  220 fps= 16 q=34.0 size=    3328kB time=00:00:07.43 bitrate=3669.2kbits/s speed=0.543x    \\rframe=  227 fps= 16 q=34.0 size=    3328kB time=00:00:07.66 bitrate=3558.0kbits/s speed=0.538x    \\rframe=  238 fps= 16 q=34.0 size=    3584kB time=00:00:08.03 bitrate=3654.5kbits/s speed=0.542x    \\rframe=  247 fps= 16 q=34.0 size=    3840kB time=00:00:08.33 bitrate=3773.7kbits/s speed=0.544x    \\rframe=  256 fps= 16 q=31.0 size=    4096kB time=00:00:08.63 bitrate=3884.6kbits/s speed=0.545x    \\rframe=  266 fps= 16 q=34.0 size=    4352kB time=00:00:08.96 bitrate=3977.7kbits/s speed=0.545x    \\rframe=  277 fps= 16 q=34.0 size=    4608kB time=00:00:09.33 bitrate=4044.1kbits/s speed=0.55x    \\rframe=  284 fps= 16 q=34.0 size=    4608kB time=00:00:09.56 bitrate=3945.9kbits/s speed=0.547x    \\rframe=  290 fps= 16 q=34.0 size=    4864kB time=00:00:09.77 bitrate=4076.1kbits/s speed=0.542x    \\rframe=  300 fps= 16 q=34.0 size=    4864kB time=00:00:09.96 bitrate=4000.1kbits/s speed=0.537x    \\rframe=  300 fps= 14 q=-1.0 Lsize=    6088kB time=00:00:10.00 bitrate=4983.8kbits/s speed=0.48x    \\nvideo:5992kB audio:85kB subtitle:0kB other streams:0kB global headers:0kB muxing overhead: 0.195245%\\n[libx264 @ 0x7fb9c2009e00] frame I:10    Avg QP:27.40  size: 43619\\n[libx264 @ 0x7fb9c2009e00] frame P:85    Avg QP:30.00  size: 25537\\n[libx264 @ 0x7fb9c2009e00] frame B:205   Avg QP:30.35  size: 17209\\n[libx264 @ 0x7fb9c2009e00] consecutive B-frames:  8.0%  1.3%  4.0% 86.7%\\n[libx264 @ 0x7fb9c2009e00] mb I  I16..4:  6.7% 92.0%  1.3%\\n[libx264 @ 0x7fb9c2009e00] mb P  I16..4:  7.3% 28.0%  0.1%  P16..4: 50.2%  3.3%  1.3%  0.0%  0.0%    skip: 9.8%\\n[libx264 @ 0x7fb9c2009e00] mb B  I16..4:  1.1%  4.4%  0.0%  B16..8: 51.0%  3.8%  0.3%  direct: 5.3%  skip:34.1%  L0:52.5% L1:46.0% BI: 1.5%\\n[libx264 @ 0x7fb9c2009e00] 8x8 transform intra:81.9% inter:94.0%\\n[libx264 @ 0x7fb9c2009e00] coded y,uvDC,uvAC intra: 41.1% 57.4% 2.0% inter: 19.8% 41.4% 0.0%\\n[libx264 @ 0x7fb9c2009e00] i16 v,h,dc,p: 28% 19% 12% 41%\\n[libx264 @ 0x7fb9c2009e00] i8 v,h,dc,ddl,ddr,vr,hd,vl,hu: 19% 12% 29%  7%  8%  8%  6%  6%  5%\\n[libx264 @ 0x7fb9c2009e00] i4 v,h,dc,ddl,ddr,vr,hd,vl,hu: 35% 16% 14%  7%  8%  8%  5%  5%  3%\\n[libx264 @ 0x7fb9c2009e00] i8c dc,h,v,p: 71% 13% 15%  1%\\n[libx264 @ 0x7fb9c2009e00] Weighted P-Frames: Y:4.7% UV:0.0%\\n[libx264 @ 0x7fb9c2009e00] ref P L0: 49.7% 10.0% 24.2% 15.5%  0.6%\\n[libx264 @ 0x7fb9c2009e00] ref B L0: 73.3% 20.6%  6.1%\\n[libx264 @ 0x7fb9c2009e00] ref B L1: 87.4% 12.6%\\n[libx264 @ 0x7fb9c2009e00] kb/s:4902.56\\n[aac @ 0x7fb9c200b600] Qavg: 121.722\\n\")"
      ]
     },
     "execution_count": null,
     "metadata": {},
     "output_type": "execute_result"
    }
   ],
   "source": [
    "f = Path(f'enc_{fn.name}')\n",
    "if f.exists(): os.remove(f)\n",
    "run_ffmpeg(fpath_from=fn, fpath_to=f, crf=28)"
   ]
  },
  {
   "cell_type": "markdown",
   "metadata": {},
   "source": [
    "Double check the properties using `cv2`"
   ]
  },
  {
   "cell_type": "code",
   "execution_count": null,
   "metadata": {},
   "outputs": [
    {
     "data": {
      "text/plain": [
       "(300, (1920, 1080, 3))"
      ]
     },
     "execution_count": null,
     "metadata": {},
     "output_type": "execute_result"
    }
   ],
   "source": [
    "vcap = cv2.VideoCapture(str(f))\n",
    "vlen = int(vcap.get(cv2.CAP_PROP_FRAME_COUNT))\n",
    "ret, frame = vcap.read()\n",
    "vcap.release()\n",
    "vlen, frame.shape"
   ]
  },
  {
   "cell_type": "markdown",
   "metadata": {},
   "source": [
    "## Generate compressed sets"
   ]
  },
  {
   "cell_type": "markdown",
   "metadata": {},
   "source": [
    "Use this section to generate sets of compressed videos.  To keep things simple to begin with, for each directory of original videos, generate 3 compressed sets: one at `fps=15`, one at quarter the size, `scale=.5`, and one with poorer encoding quality, `crf=28`."
   ]
  },
  {
   "cell_type": "code",
   "execution_count": null,
   "metadata": {},
   "outputs": [],
   "source": [
    "SOURCE = Path('../data')"
   ]
  },
  {
   "cell_type": "code",
   "execution_count": null,
   "metadata": {},
   "outputs": [],
   "source": [
    "DFDC = Path('dfdc_train_part_0')"
   ]
  },
  {
   "cell_type": "code",
   "execution_count": null,
   "metadata": {},
   "outputs": [],
   "source": [
    "ENC_DICT = dict(fps15={'fps':15}, quartersize={'scale':.5}, crf28={'crf':28})"
   ]
  },
  {
   "cell_type": "code",
   "execution_count": null,
   "metadata": {},
   "outputs": [],
   "source": [
    "#export\n",
    "def origfake_exist(row):\n",
    "    fake_exists = row.fname.exists() \n",
    "    orig_exists = True if pd.isna(row.original) else row.original.exists()\n",
    "    return (fake_exists and orig_exists)\n",
    "\n",
    "def load_dfdc_json(path, dfdc, fpath=False, drop_missing=False, fill_real_na=False):\n",
    "    a = get_files(path/dfdc, extensions=['.json'])[0]\n",
    "    a = pd.read_json(a).T\n",
    "    a.reset_index(inplace=True)\n",
    "    a.rename({'index':'fname'}, axis=1, inplace=True)\n",
    "    if fpath or drop_missing:\n",
    "        a.fname = a.fname.apply(lambda o: path/dfdc/o)\n",
    "        a.original = a.original.apply(lambda o: np.nan if pd.isna(o) else path/dfdc/o)\n",
    "    if drop_missing: \n",
    "        exists = a.apply(origfake_exist, axis=1)\n",
    "        a = a[exists].reset_index(drop=True)\n",
    "    if fill_real_na:\n",
    "        ao = a[a.label=='REAL'].copy()\n",
    "        ao.drop('original', axis=1, inplace=True)\n",
    "        ao['original'] = ao.fname.copy()\n",
    "        a[a.label=='REAL'] = ao        \n",
    "    return a"
   ]
  },
  {
   "cell_type": "code",
   "execution_count": null,
   "metadata": {},
   "outputs": [],
   "source": [
    "vant = load_dfdc_json(SOURCE, DFDC, fpath=True, drop_missing=True,\n",
    "                      fill_real_na=True)"
   ]
  },
  {
   "cell_type": "code",
   "execution_count": null,
   "metadata": {},
   "outputs": [],
   "source": [
    "fnos = vant.original.unique()\n",
    "fnos = fnos.astype(str)\n",
    "fnos.sort()\n",
    "fnos = np.array([Path(o) for o in fnos])"
   ]
  },
  {
   "cell_type": "code",
   "execution_count": null,
   "metadata": {},
   "outputs": [],
   "source": [
    "# Run this to reduce number of original videos,\n",
    "# if disk space is an issue\n",
    "#idxs = torch.randperm(len(fnos))\n",
    "#idxs = idxs[:int(.1 * len(idxs))]\n",
    "fnos = fnos[:10]"
   ]
  },
  {
   "cell_type": "code",
   "execution_count": null,
   "metadata": {},
   "outputs": [],
   "source": [
    "#export\n",
    "def get_cvant_paper(vant:pd.DataFrame, fnos:list):\n",
    "    '''\n",
    "    Get compressed video annotation, `cvant`, according to \n",
    "    the DFDC paper.\n",
    "    vant: video annotation\n",
    "    fnos: iterable of original video names\n",
    "    '''\n",
    "    encs = list(ENC_DICT.keys()) + ['None']\n",
    "    idxs = torch.randperm(len(fnos))\n",
    "    chidxs = torch.chunk(idxs, len(encs))\n",
    "    vantps = []\n",
    "    for enc, idxs in zip(encs, chidxs):\n",
    "        vantp = vant.set_index('original').loc[fnos[idxs]]\n",
    "        vantp['enc'] = enc\n",
    "        vantp = vantp.reset_index()\n",
    "        vantps.append(vantp)\n",
    "    cvant = pd.concat(vantps)\n",
    "    return cvant"
   ]
  },
  {
   "cell_type": "code",
   "execution_count": null,
   "metadata": {},
   "outputs": [],
   "source": [
    "cvant = get_cvant_paper(vant, fnos)"
   ]
  },
  {
   "cell_type": "markdown",
   "metadata": {},
   "source": [
    "Define directory path to save the compressed videos."
   ]
  },
  {
   "cell_type": "code",
   "execution_count": null,
   "metadata": {},
   "outputs": [
    {
     "data": {
      "text/plain": [
       "PosixPath('../data/dfdc_train_part_0_cv')"
      ]
     },
     "execution_count": null,
     "metadata": {},
     "output_type": "execute_result"
    }
   ],
   "source": [
    "dir_out = SOURCE/f'{DFDC}_cv'\n",
    "dir_out"
   ]
  },
  {
   "cell_type": "code",
   "execution_count": null,
   "metadata": {},
   "outputs": [],
   "source": [
    "#export\n",
    "def compress_vids(cvant, dir_out='compressed_videos'):\n",
    "    '''\n",
    "    Compress videos, save them and the annotation.\n",
    "    '''\n",
    "    dir_out = Path(dir_out)\n",
    "    os.makedirs(dir_out, exist_ok=True)\n",
    "    cvant['fname_cv'] = cvant.fname.apply(lambda o: dir_out/o.name)\n",
    "    pb = progress_bar(list(cvant.iterrows()))\n",
    "    for _, r in pb:\n",
    "        if r.enc=='None': \n",
    "            shutil.copy(r.fname, r.fname_cv)\n",
    "        else:\n",
    "            run_ffmpeg(fpath_from=r.fname, fpath_to=r.fname_cv, **ENC_DICT[r.enc])\n",
    "        pb.comment = f'{r.fname.name} {r.enc}'\n",
    "    cvant.to_csv(dir_out/'metadata.csv', index=False)\n",
    "    return cvant"
   ]
  },
  {
   "cell_type": "markdown",
   "metadata": {},
   "source": [
    "**Remember to comment out the `@show_vid_info` to avoid lots of output printed in the next cell.**"
   ]
  },
  {
   "cell_type": "code",
   "execution_count": null,
   "metadata": {},
   "outputs": [
    {
     "data": {
      "text/html": [
       "\n",
       "    <div>\n",
       "        <style>\n",
       "            /* Turns off some styling */\n",
       "            progress {\n",
       "                /* gets rid of default border in Firefox and Opera. */\n",
       "                border: none;\n",
       "                /* Needs to be in here for Safari polyfill so background images work as expected. */\n",
       "                background-size: auto;\n",
       "            }\n",
       "            .progress-bar-interrupted, .progress-bar-interrupted::-webkit-progress-bar {\n",
       "                background: #F44336;\n",
       "            }\n",
       "        </style>\n",
       "      <progress value='105' class='' max='105', style='width:300px; height:20px; vertical-align: middle;'></progress>\n",
       "      100.00% [105/105 12:08<00:00 wsqjykletd.mp4 None]\n",
       "    </div>\n",
       "    "
      ],
      "text/plain": [
       "<IPython.core.display.HTML object>"
      ]
     },
     "metadata": {},
     "output_type": "display_data"
    }
   ],
   "source": [
    "cvant = compress_vids(cvant, dir_out)"
   ]
  },
  {
   "cell_type": "code",
   "execution_count": null,
   "metadata": {},
   "outputs": [
    {
     "data": {
      "text/plain": [
       "(105, 6)"
      ]
     },
     "execution_count": null,
     "metadata": {},
     "output_type": "execute_result"
    }
   ],
   "source": [
    "cvant.shape"
   ]
  },
  {
   "cell_type": "markdown",
   "metadata": {},
   "source": [
    "# -fin"
   ]
  },
  {
   "cell_type": "code",
   "execution_count": null,
   "metadata": {},
   "outputs": [],
   "source": [
    "from nbdev.export import *"
   ]
  },
  {
   "cell_type": "code",
   "execution_count": null,
   "metadata": {},
   "outputs": [
    {
     "name": "stdout",
     "output_type": "stream",
     "text": [
      "Converted 00_data.ipynb.\n",
      "Converted 00a_video_compression.ipynb.\n",
      "Converted 01_face_detection.ipynb.\n",
      "Converted 01a_faces_probs_examples.ipynb.\n",
      "Converted 01a_faces_probs_examples_hv.ipynb.\n",
      "Converted 02_fix_luminosity.ipynb.\n",
      "Converted 02a_create_faceimage_dataset.ipynb.\n",
      "Converted 02bis_Create_Dataset.ipynb.\n",
      "Converted 02c_faces_different_dfdc_zips.ipynb.\n",
      "Converted 03_models.ipynb.\n",
      "Converted 04_Baseline_Classification.ipynb.\n",
      "Converted 04_Classification.ipynb.\n",
      "Converted 04a_classification_videolist.ipynb.\n",
      "Converted 05_Class_Imbalance.ipynb.\n",
      "Converted 06_Focal_Loss.ipynb.\n",
      "Converted 07_full_classification.ipynb.\n",
      "This cell doesn't have an export destination and was ignored:\n",
      "e\n",
      "Converted 07a_classify_video_margin.ipynb.\n",
      "Converted 07b_classify_resize.ipynb.\n",
      "Converted 08_Validation.ipynb.\n",
      "Converted 09_Data_Augmentation.ipynb.\n",
      "Converted deepfake_submission.ipynb.\n",
      "Converted export_kernel_module.ipynb.\n",
      "Converted fake_original.ipynb.\n",
      "Converted organising_face_detection_results.ipynb.\n",
      "Converted test_submission.ipynb.\n"
     ]
    }
   ],
   "source": [
    "notebook2script()"
   ]
  },
  {
   "cell_type": "code",
   "execution_count": null,
   "metadata": {},
   "outputs": [],
   "source": []
  }
 ],
 "metadata": {
  "kernelspec": {
   "display_name": "Python 3",
   "language": "python",
   "name": "python3"
  }
 },
 "nbformat": 4,
 "nbformat_minor": 2
}
