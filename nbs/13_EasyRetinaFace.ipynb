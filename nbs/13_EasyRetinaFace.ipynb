{
 "cells": [
  {
   "cell_type": "markdown",
   "metadata": {},
   "source": [
    "# EasyRetinaFace"
   ]
  },
  {
   "cell_type": "markdown",
   "metadata": {},
   "source": [
    "Ported from JoshVarty's *face_detection/EasyRetinaFace.py*."
   ]
  },
  {
   "cell_type": "code",
   "execution_count": null,
   "metadata": {},
   "outputs": [],
   "source": [
    "#default_exp EasyRetinaFace"
   ]
  },
  {
   "cell_type": "code",
   "execution_count": null,
   "metadata": {},
   "outputs": [],
   "source": [
    "#export\n",
    "import numpy as np\n",
    "import torch\n",
    "from kgl_deepfake.pytorch_retinaface.models.retinaface import RetinaFace\n",
    "from kgl_deepfake.pytorch_retinaface.data import cfg_mnet, cfg_re50\n",
    "from kgl_deepfake.pytorch_retinaface.test_widerface import load_model\n",
    "from kgl_deepfake.pytorch_retinaface.layers.functions.prior_box import PriorBox\n",
    "from kgl_deepfake.pytorch_retinaface.utils.box_utils import decode, decode_landm\n",
    "from kgl_deepfake.pytorch_retinaface.utils.nms.py_cpu_nms import py_cpu_nms"
   ]
  },
  {
   "cell_type": "code",
   "execution_count": null,
   "metadata": {},
   "outputs": [],
   "source": [
    "#export\n",
    "class EasyRetinaFace:\n",
    "\n",
    "    def __init__(self, path='Pytorch_Retinaface/weights/Resnet50_Final.pth', cpu=True):\n",
    "        self.cfg = cfg_re50\n",
    "        self.cfg['pretrain'] = False  # Don't download pretrained ImageNet weights\n",
    "        self.net = RetinaFace(cfg=self.cfg, phase='test')\n",
    "        # Download weights from Google Drive. See repo for details: https://github.com/biubug6/Pytorch_Retinaface\n",
    "        self.net = load_model(self.net, path, cpu)\n",
    "        self.net = self.net.eval()\n",
    "        self.device = torch.device('cpu' if cpu else 'cuda')\n",
    "        self.net = self.net.to(self.device)\n",
    "        \n",
    "\n",
    "    def detect_on_multiple_frames(self, frames):\n",
    "        \"\"\"\n",
    "        Get detections from multiple frames.\n",
    "\n",
    "        NOTE: This does not run in parallel, it simply calls self.detect() sequentially\n",
    "        This is because with the default image size, we can't predict more than 2 images at a time. :(\n",
    "        \"\"\"\n",
    "\n",
    "        detections = []\n",
    "        for frame in frames:\n",
    "            current_detections = self.detect(frame)\n",
    "            detections.append(current_detections)\n",
    "\n",
    "        return detections\n",
    "\n",
    "    def detect(self, frame, scale_bbox=1):\n",
    "        \"\"\"\n",
    "        Get the detections for a single frame\n",
    "        \"\"\"\n",
    "        img = np.float32(frame)\n",
    "        target_size = 1600\n",
    "        max_size = 2150\n",
    "        im_shape = img.shape\n",
    "        im_size_min = np.min(im_shape[0:2])\n",
    "        im_size_max = np.max(im_shape[0:2])\n",
    "        resize = float(target_size) / float(im_size_min)\n",
    "\n",
    "        if np.round(resize * im_size_max) > max_size:\n",
    "            resize = float(max_size) / float(im_size_max)\n",
    "\n",
    "        # Only resize if the image is bigger than we can handle\n",
    "        resize = min(1.0, resize)\n",
    "        if resize != 1:\n",
    "            img = cv2.resize(img, None, None, fx=resize, fy=resize, interpolation=cv2.INTER_LINEAR)\n",
    "\n",
    "        im_height, im_width, _ = img.shape\n",
    "        scale = torch.Tensor([img.shape[1], img.shape[0], img.shape[1], img.shape[0]])\n",
    "        img -= (104, 117, 123)\n",
    "        img = img.transpose(2, 0, 1)\n",
    "        img = torch.from_numpy(img).unsqueeze(0)\n",
    "        img = img.to(self.device)\n",
    "        scale = scale.to(self.device)\n",
    "\n",
    "        loc, conf, landms = self.net(img)  # forward pass\n",
    "\n",
    "        priorbox = PriorBox(self.cfg, image_size=(im_height, im_width))\n",
    "        priors = priorbox.forward()\n",
    "        priors = priors.to(self.device)\n",
    "        prior_data = priors.data\n",
    "        boxes = decode(loc.data.squeeze(0), prior_data, self.cfg['variance'])\n",
    "        boxes = boxes * scale / resize\n",
    "        boxes = boxes.cpu().numpy()\n",
    "        scores = conf.squeeze(0).data.cpu().numpy()[:, 1]\n",
    "        landms = decode_landm(landms.data.squeeze(0), prior_data, self.cfg['variance'])\n",
    "        scale1 = torch.Tensor([img.shape[3], img.shape[2], img.shape[3], img.shape[2],\n",
    "                               img.shape[3], img.shape[2], img.shape[3], img.shape[2],\n",
    "                               img.shape[3], img.shape[2]])\n",
    "        scale1 = scale1.to(self.device)\n",
    "        landms = landms * scale1 / resize\n",
    "        landms = landms.cpu().numpy()\n",
    "\n",
    "        # ignore low scores\n",
    "        DEFAULT_CONFIDENCE_THRESH = 0.9\n",
    "        inds = np.where(scores > DEFAULT_CONFIDENCE_THRESH)[0]\n",
    "        boxes = boxes[inds]\n",
    "        landms = landms[inds]\n",
    "        scores = scores[inds]\n",
    "\n",
    "        # keep top-K before NMS\n",
    "        order = scores.argsort()[::-1]\n",
    "        # order = scores.argsort()[::-1][:args.top_k]\n",
    "        boxes = boxes[order]\n",
    "        landms = landms[order]\n",
    "        scores = scores[order]\n",
    "\n",
    "        # do NMS\n",
    "        DEFAULT_NMS_THRESH = 0.4\n",
    "        dets = np.hstack((boxes, scores[:, np.newaxis])).astype(np.float32, copy=False)\n",
    "        keep = py_cpu_nms(dets, DEFAULT_NMS_THRESH)\n",
    "        # keep = nms(dets, args.nms_threshold,force_cpu=args.cpu)\n",
    "        dets = dets[keep, :]\n",
    "        landms = landms[keep]\n",
    "\n",
    "        # keep top-K faster NMS\n",
    "        # dets = dets[:args.keep_top_k, :]\n",
    "        # landms = landms[:args.keep_top_k, :]\n",
    "\n",
    "        if scale_bbox != 1: \n",
    "            dets = self.scale_bbox(dets, (im_height, im_width), scale=scale_bbox)\n",
    "\n",
    "        return dets\n",
    "\n",
    "    def scale_bbox(self, dets, image_size, scale=1.):\n",
    "        '''\n",
    "        Scale RetinaFace's default bboxes' width and height.\n",
    "        '''\n",
    "        x_min, y_min, x_max, y_max = [dets[:,i] for i in range(4)]\n",
    "        center_y, center_x = (y_max + y_min) / 2, (x_min + x_max) / 2\n",
    "\n",
    "        width, height = x_max - x_min, y_max - y_min\n",
    "\n",
    "        height = height * scale   # increase height by 20%\n",
    "        width = width * scale     # increase width by 20%\n",
    "\n",
    "        y_min, y_max = center_y - (height / 2), center_y + (height / 2)\n",
    "        x_min, x_max = center_x - (width / 2), center_x + (width / 2)\n",
    "\n",
    "        imh, imw = image_size\n",
    "        y_min, y_max = [np.clip(o, a_min=0, a_max=imh) for o in (y_min, y_max)]\n",
    "        x_min, x_max = [np.clip(o, a_min=0, a_max=imw) for o in (x_min, x_max)]\n",
    "        \n",
    "        for i, o in enumerate([x_min, y_min, x_max, y_max]): dets[:,i] = o\n",
    "        return dets"
   ]
  },
  {
   "cell_type": "code",
   "execution_count": null,
   "metadata": {},
   "outputs": [
    {
     "name": "stdout",
     "output_type": "stream",
     "text": [
      "Loading pretrained model from Pytorch_Retinaface/weights/Resnet50_Final.pth\n",
      "remove prefix 'module.'\n",
      "Missing keys:0\n",
      "Unused checkpoint keys:0\n",
      "Used keys:456\n"
     ]
    }
   ],
   "source": [
    "detector = EasyRetinaFace()"
   ]
  },
  {
   "cell_type": "markdown",
   "metadata": {},
   "source": [
    "# - fin"
   ]
  },
  {
   "cell_type": "code",
   "execution_count": null,
   "metadata": {},
   "outputs": [],
   "source": []
  }
 ],
 "metadata": {
  "kernelspec": {
   "display_name": "Python 3",
   "language": "python",
   "name": "python3"
  }
 },
 "nbformat": 4,
 "nbformat_minor": 4
}
