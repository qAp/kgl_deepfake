{
 "cells": [
  {
   "cell_type": "markdown",
   "metadata": {},
   "source": [
    "# Look at some samples"
   ]
  },
  {
   "cell_type": "code",
   "execution_count": 188,
   "metadata": {},
   "outputs": [],
   "source": [
    "#default_exp nb_00"
   ]
  },
  {
   "cell_type": "code",
   "execution_count": 189,
   "metadata": {},
   "outputs": [],
   "source": [
    "#hide\n",
    "from nbdev.showdoc import *"
   ]
  },
  {
   "cell_type": "code",
   "execution_count": 196,
   "metadata": {},
   "outputs": [],
   "source": [
    "#export\n",
    "from fastai.vision import *"
   ]
  },
  {
   "cell_type": "code",
   "execution_count": 192,
   "metadata": {},
   "outputs": [],
   "source": [
    "SOURCE = Path('../data/dfdc_train_part_11/')"
   ]
  },
  {
   "cell_type": "markdown",
   "metadata": {},
   "source": [
    "### Videos"
   ]
  },
  {
   "cell_type": "code",
   "execution_count": 13,
   "metadata": {},
   "outputs": [
    {
     "data": {
      "text/plain": [
       "([PosixPath('../data/dfdc_train_part_11/xecgqkezbe.mp4'),\n",
       "  PosixPath('../data/dfdc_train_part_11/tuitlooreh.mp4'),\n",
       "  PosixPath('../data/dfdc_train_part_11/hswgjnccsw.mp4')],\n",
       " 2118)"
      ]
     },
     "execution_count": 13,
     "metadata": {},
     "output_type": "execute_result"
    }
   ],
   "source": [
    "fnames = get_files(SOURCE, extensions=['.mp4'])\n",
    "fnames[:3], len(fnames)"
   ]
  },
  {
   "cell_type": "code",
   "execution_count": 111,
   "metadata": {},
   "outputs": [],
   "source": [
    "#export\n",
    "from IPython.display import display, Video, HTML"
   ]
  },
  {
   "cell_type": "code",
   "execution_count": 112,
   "metadata": {},
   "outputs": [],
   "source": [
    "#export\n",
    "def html_vid(fname, **kwargs): return display(Video(fname, **kwargs))"
   ]
  },
  {
   "cell_type": "code",
   "execution_count": 184,
   "metadata": {},
   "outputs": [],
   "source": [
    "#export\n",
    "def html_vid(fname):\n",
    "    \"Return HTML for video.\"\n",
    "    return f'''\n",
    "    <video width=\"300\" height=\"250\" controls>\n",
    "    <source src=\"{fname}\" type=\"video/mp4\">\n",
    "    </video>\n",
    "    '''"
   ]
  },
  {
   "cell_type": "code",
   "execution_count": 140,
   "metadata": {},
   "outputs": [
    {
     "data": {
      "text/html": [
       "\n",
       "    <video width=\"300\" height=\"250\" controls>\n",
       "    <source src=\"../data/dfdc_train_part_11/yetmcgjpnp.mp4\" type=\"video/mp4\">\n",
       "    </video>\n",
       "    "
      ],
      "text/plain": [
       "<IPython.core.display.HTML object>"
      ]
     },
     "execution_count": 140,
     "metadata": {},
     "output_type": "execute_result"
    }
   ],
   "source": [
    "HTML(html_vid(fnames[9]))"
   ]
  },
  {
   "cell_type": "code",
   "execution_count": 185,
   "metadata": {},
   "outputs": [],
   "source": [
    "#export\n",
    "def html_titled_vid(fname, title):\n",
    "    \"Return HTML for titled video.\"\n",
    "    return f'<div><p>{title}</p><br>{html_vid(fname)}</div>'"
   ]
  },
  {
   "cell_type": "code",
   "execution_count": 183,
   "metadata": {},
   "outputs": [],
   "source": [
    "#export\n",
    "def html_vids(fnames, titles=None, ncols=3):\n",
    "    \"Return HTML for table of (titled) videos.\"\n",
    "    n = len(fnames)\n",
    "    if titles is None: titles = n * ['']\n",
    "    assert len(titles) == n\n",
    "    rs = []\n",
    "    for i in range(0, n, ncols):\n",
    "        fs, ts = fnames[i:i+ncols], titles[i:i+ncols]\n",
    "        xs = (html_titled_vid(f, t) for f,t in zip(fs, ts))\n",
    "        xs = (f'<td>{x}</td>' for x in xs)\n",
    "        r = f\"<tr>{''.join(xs)}</tr>\"\n",
    "        rs.append(r)\n",
    "    return f\"<table>{''.join(rs)}</table>\""
   ]
  },
  {
   "cell_type": "code",
   "execution_count": 207,
   "metadata": {},
   "outputs": [
    {
     "data": {
      "text/html": [
       "<table><tr><td><div><p>fake</p><br>\n",
       "    <video width=\"300\" height=\"250\" controls>\n",
       "    <source src=\"../data/dfdc_train_part_11/kmrzrpgrje.mp4\" type=\"video/mp4\">\n",
       "    </video>\n",
       "    </div></td><td><div><p>real</p><br>\n",
       "    <video width=\"300\" height=\"250\" controls>\n",
       "    <source src=\"../data/dfdc_train_part_11/abzelcbnya.mp4\" type=\"video/mp4\">\n",
       "    </video>\n",
       "    </div></td><td><div><p>fake</p><br>\n",
       "    <video width=\"300\" height=\"250\" controls>\n",
       "    <source src=\"../data/dfdc_train_part_11/jtcibopcdr.mp4\" type=\"video/mp4\">\n",
       "    </video>\n",
       "    </div></td></tr><tr><td><div><p>carrot</p><br>\n",
       "    <video width=\"300\" height=\"250\" controls>\n",
       "    <source src=\"../data/dfdc_train_part_11/faminorqkh.mp4\" type=\"video/mp4\">\n",
       "    </video>\n",
       "    </div></td><td><div><p>muffin</p><br>\n",
       "    <video width=\"300\" height=\"250\" controls>\n",
       "    <source src=\"../data/dfdc_train_part_11/sdndjbuuns.mp4\" type=\"video/mp4\">\n",
       "    </video>\n",
       "    </div></td></tr></table>"
      ],
      "text/plain": [
       "<IPython.core.display.HTML object>"
      ]
     },
     "execution_count": 207,
     "metadata": {},
     "output_type": "execute_result"
    }
   ],
   "source": [
    "HTML(html_vids(fnames[10:15], ['fake', 'real', 'fake', 'carrot', 'muffin'], ncols=3))"
   ]
  },
  {
   "cell_type": "markdown",
   "metadata": {
    "heading_collapsed": true
   },
   "source": [
    "### Annotations"
   ]
  },
  {
   "cell_type": "code",
   "execution_count": 19,
   "metadata": {
    "hidden": true
   },
   "outputs": [],
   "source": [
    "f = get_files(SOURCE, extensions=['.json'])[0]\n",
    "annots = json.load(open(f))"
   ]
  },
  {
   "cell_type": "markdown",
   "metadata": {
    "hidden": true
   },
   "source": [
    "Note that FAKE videos have the additional annotation field *original*, which indicates the original, real video from which the fake was generated, perhaps.  And that the original video is here in the same dataset."
   ]
  },
  {
   "cell_type": "code",
   "execution_count": 46,
   "metadata": {
    "hidden": true
   },
   "outputs": [
    {
     "data": {
      "text/plain": [
       "[{'label': 'REAL', 'split': 'train'},\n",
       " {'label': 'REAL', 'split': 'train'},\n",
       " {'label': 'REAL', 'split': 'train'}]"
      ]
     },
     "execution_count": 46,
     "metadata": {},
     "output_type": "execute_result"
    }
   ],
   "source": [
    "[v for _, v in annots.items() if v['label'] == 'REAL'][:3]"
   ]
  },
  {
   "cell_type": "code",
   "execution_count": 47,
   "metadata": {
    "hidden": true
   },
   "outputs": [
    {
     "data": {
      "text/plain": [
       "[{'label': 'FAKE', 'split': 'train', 'original': 'ztutsnlhtr.mp4'},\n",
       " {'label': 'FAKE', 'split': 'train', 'original': 'frczmdfzza.mp4'},\n",
       " {'label': 'FAKE', 'split': 'train', 'original': 'zesnphumru.mp4'}]"
      ]
     },
     "execution_count": 47,
     "metadata": {},
     "output_type": "execute_result"
    }
   ],
   "source": [
    "[v for _, v in annots.items() if v['label'] == 'FAKE'][:3]"
   ]
  },
  {
   "cell_type": "code",
   "execution_count": 203,
   "metadata": {
    "hidden": true
   },
   "outputs": [
    {
     "data": {
      "text/plain": [
       "(True, True)"
      ]
     },
     "execution_count": 203,
     "metadata": {},
     "output_type": "execute_result"
    }
   ],
   "source": [
    "SOURCE/'frczmdfzza.mp4' in fnames, SOURCE/'zesnphumru.mp4' in fnames"
   ]
  },
  {
   "cell_type": "markdown",
   "metadata": {
    "heading_collapsed": true
   },
   "source": [
    "# -fin"
   ]
  },
  {
   "cell_type": "code",
   "execution_count": 198,
   "metadata": {
    "hidden": true
   },
   "outputs": [],
   "source": [
    "from nbdev.export import *"
   ]
  },
  {
   "cell_type": "code",
   "execution_count": 204,
   "metadata": {
    "hidden": true
   },
   "outputs": [
    {
     "name": "stdout",
     "output_type": "stream",
     "text": [
      "Converted 00_lookatdata.ipynb.\n",
      "This cell doesn't have an export destination and was ignored:\n",
      "e\n",
      "This cell doesn't have an export destination and was ignored:\n",
      "e\n",
      "This cell doesn't have an export destination and was ignored:\n",
      "e\n",
      "This cell doesn't have an export destination and was ignored:\n",
      "e\n",
      "This cell doesn't have an export destination and was ignored:\n",
      "e\n",
      "Converted 01_face_recog.ipynb.\n"
     ]
    }
   ],
   "source": [
    "notebook2script()"
   ]
  },
  {
   "cell_type": "code",
   "execution_count": null,
   "metadata": {
    "hidden": true
   },
   "outputs": [],
   "source": []
  }
 ],
 "metadata": {
  "kernelspec": {
   "display_name": "Python 3",
   "language": "python",
   "name": "python3"
  },
  "language_info": {
   "codemirror_mode": {
    "name": "ipython",
    "version": 3
   },
   "file_extension": ".py",
   "mimetype": "text/x-python",
   "name": "python",
   "nbconvert_exporter": "python",
   "pygments_lexer": "ipython3",
   "version": "3.7.4"
  }
 },
 "nbformat": 4,
 "nbformat_minor": 2
}
