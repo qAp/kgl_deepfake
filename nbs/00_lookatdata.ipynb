{
 "cells": [
  {
   "cell_type": "markdown",
   "metadata": {},
   "source": [
    "# Look at some samples"
   ]
  },
  {
   "cell_type": "code",
   "execution_count": 208,
   "metadata": {},
   "outputs": [],
   "source": [
    "%reload_ext autoreload\n",
    "%autoreload 2"
   ]
  },
  {
   "cell_type": "code",
   "execution_count": 209,
   "metadata": {},
   "outputs": [],
   "source": [
    "#default_exp nb_00"
   ]
  },
  {
   "cell_type": "code",
   "execution_count": 210,
   "metadata": {},
   "outputs": [],
   "source": [
    "#hide\n",
    "from nbdev.showdoc import *"
   ]
  },
  {
   "cell_type": "code",
   "execution_count": 211,
   "metadata": {},
   "outputs": [],
   "source": [
    "#export\n",
    "from fastai.vision import *\n",
    "import pandas as pd"
   ]
  },
  {
   "cell_type": "code",
   "execution_count": 212,
   "metadata": {},
   "outputs": [],
   "source": [
    "SOURCE = Path('../data/dfdc_train_part_11/')"
   ]
  },
  {
   "cell_type": "markdown",
   "metadata": {},
   "source": [
    "### Videos"
   ]
  },
  {
   "cell_type": "code",
   "execution_count": 213,
   "metadata": {},
   "outputs": [
    {
     "data": {
      "text/plain": [
       "([PosixPath('../data/dfdc_train_part_11/xecgqkezbe.mp4'),\n",
       "  PosixPath('../data/dfdc_train_part_11/tuitlooreh.mp4'),\n",
       "  PosixPath('../data/dfdc_train_part_11/hswgjnccsw.mp4')],\n",
       " 2118)"
      ]
     },
     "execution_count": 213,
     "metadata": {},
     "output_type": "execute_result"
    }
   ],
   "source": [
    "fnames = get_files(SOURCE, extensions=['.mp4'])\n",
    "fnames[:3], len(fnames)"
   ]
  },
  {
   "cell_type": "code",
   "execution_count": 214,
   "metadata": {},
   "outputs": [],
   "source": [
    "#export\n",
    "from IPython.display import display, Video, HTML"
   ]
  },
  {
   "cell_type": "code",
   "execution_count": 215,
   "metadata": {},
   "outputs": [],
   "source": [
    "#export\n",
    "def html_vid(fname, **kwargs): return display(Video(fname, **kwargs))"
   ]
  },
  {
   "cell_type": "code",
   "execution_count": 216,
   "metadata": {},
   "outputs": [],
   "source": [
    "#export\n",
    "def html_vid(fname):\n",
    "    \"Return HTML for video.\"\n",
    "    return f'''\n",
    "    <video width=\"300\" height=\"250\" controls>\n",
    "    <source src=\"{fname}\" type=\"video/mp4\">\n",
    "    </video>\n",
    "    '''"
   ]
  },
  {
   "cell_type": "code",
   "execution_count": 217,
   "metadata": {},
   "outputs": [
    {
     "data": {
      "text/html": [
       "\n",
       "    <video width=\"300\" height=\"250\" controls>\n",
       "    <source src=\"../data/dfdc_train_part_11/yetmcgjpnp.mp4\" type=\"video/mp4\">\n",
       "    </video>\n",
       "    "
      ],
      "text/plain": [
       "<IPython.core.display.HTML object>"
      ]
     },
     "execution_count": 217,
     "metadata": {},
     "output_type": "execute_result"
    }
   ],
   "source": [
    "HTML(html_vid(fnames[9]))"
   ]
  },
  {
   "cell_type": "code",
   "execution_count": 218,
   "metadata": {},
   "outputs": [],
   "source": [
    "#export\n",
    "def html_titled_vid(fname, title):\n",
    "    \"Return HTML for titled video.\"\n",
    "    return f'<div><p>{title}</p><br>{html_vid(fname)}</div>'"
   ]
  },
  {
   "cell_type": "code",
   "execution_count": 219,
   "metadata": {},
   "outputs": [],
   "source": [
    "#export\n",
    "def html_vids(fnames, titles=None, ncols=3):\n",
    "    \"Return HTML for table of (titled) videos.\"\n",
    "    n = len(fnames)\n",
    "    if titles is None: titles = n * ['']\n",
    "    assert len(titles) == n\n",
    "    rs = []\n",
    "    for i in range(0, n, ncols):\n",
    "        fs, ts = fnames[i:i+ncols], titles[i:i+ncols]\n",
    "        xs = (html_titled_vid(f, t) for f,t in zip(fs, ts))\n",
    "        xs = (f'<td>{x}</td>' for x in xs)\n",
    "        r = f\"<tr>{''.join(xs)}</tr>\"\n",
    "        rs.append(r)\n",
    "    return f\"<table>{''.join(rs)}</table>\""
   ]
  },
  {
   "cell_type": "code",
   "execution_count": 220,
   "metadata": {},
   "outputs": [
    {
     "data": {
      "text/html": [
       "<table><tr><td><div><p>fake</p><br>\n",
       "    <video width=\"300\" height=\"250\" controls>\n",
       "    <source src=\"../data/dfdc_train_part_11/kmrzrpgrje.mp4\" type=\"video/mp4\">\n",
       "    </video>\n",
       "    </div></td><td><div><p>real</p><br>\n",
       "    <video width=\"300\" height=\"250\" controls>\n",
       "    <source src=\"../data/dfdc_train_part_11/abzelcbnya.mp4\" type=\"video/mp4\">\n",
       "    </video>\n",
       "    </div></td><td><div><p>fake</p><br>\n",
       "    <video width=\"300\" height=\"250\" controls>\n",
       "    <source src=\"../data/dfdc_train_part_11/jtcibopcdr.mp4\" type=\"video/mp4\">\n",
       "    </video>\n",
       "    </div></td></tr><tr><td><div><p>carrot</p><br>\n",
       "    <video width=\"300\" height=\"250\" controls>\n",
       "    <source src=\"../data/dfdc_train_part_11/faminorqkh.mp4\" type=\"video/mp4\">\n",
       "    </video>\n",
       "    </div></td><td><div><p>muffin</p><br>\n",
       "    <video width=\"300\" height=\"250\" controls>\n",
       "    <source src=\"../data/dfdc_train_part_11/sdndjbuuns.mp4\" type=\"video/mp4\">\n",
       "    </video>\n",
       "    </div></td></tr></table>"
      ],
      "text/plain": [
       "<IPython.core.display.HTML object>"
      ]
     },
     "execution_count": 220,
     "metadata": {},
     "output_type": "execute_result"
    }
   ],
   "source": [
    "HTML(html_vids(fnames[10:15], ['fake', 'real', 'fake', 'carrot', 'muffin'], ncols=3))"
   ]
  },
  {
   "cell_type": "markdown",
   "metadata": {},
   "source": [
    "### Annotations"
   ]
  },
  {
   "cell_type": "code",
   "execution_count": 221,
   "metadata": {},
   "outputs": [],
   "source": [
    "f = get_files(SOURCE, extensions=['.json'])[0]\n",
    "annots = pd.read_json(f).T"
   ]
  },
  {
   "cell_type": "markdown",
   "metadata": {},
   "source": [
    "Note that FAKE videos have the additional annotation field *original*, which indicates the original, real video from which the fake was generated, perhaps.  For real videos, this field is `NaN`."
   ]
  },
  {
   "cell_type": "code",
   "execution_count": 223,
   "metadata": {},
   "outputs": [
    {
     "data": {
      "text/html": [
       "<div>\n",
       "<style scoped>\n",
       "    .dataframe tbody tr th:only-of-type {\n",
       "        vertical-align: middle;\n",
       "    }\n",
       "\n",
       "    .dataframe tbody tr th {\n",
       "        vertical-align: top;\n",
       "    }\n",
       "\n",
       "    .dataframe thead th {\n",
       "        text-align: right;\n",
       "    }\n",
       "</style>\n",
       "<table border=\"1\" class=\"dataframe\">\n",
       "  <thead>\n",
       "    <tr style=\"text-align: right;\">\n",
       "      <th></th>\n",
       "      <th>label</th>\n",
       "      <th>split</th>\n",
       "      <th>original</th>\n",
       "    </tr>\n",
       "  </thead>\n",
       "  <tbody>\n",
       "    <tr>\n",
       "      <td>ztfjilznzu.mp4</td>\n",
       "      <td>REAL</td>\n",
       "      <td>train</td>\n",
       "      <td>NaN</td>\n",
       "    </tr>\n",
       "    <tr>\n",
       "      <td>xfrfdspnox.mp4</td>\n",
       "      <td>REAL</td>\n",
       "      <td>train</td>\n",
       "      <td>NaN</td>\n",
       "    </tr>\n",
       "    <tr>\n",
       "      <td>qifhccqwpi.mp4</td>\n",
       "      <td>REAL</td>\n",
       "      <td>train</td>\n",
       "      <td>NaN</td>\n",
       "    </tr>\n",
       "    <tr>\n",
       "      <td>rmpwnnxmye.mp4</td>\n",
       "      <td>REAL</td>\n",
       "      <td>train</td>\n",
       "      <td>NaN</td>\n",
       "    </tr>\n",
       "    <tr>\n",
       "      <td>tkofwngclr.mp4</td>\n",
       "      <td>REAL</td>\n",
       "      <td>train</td>\n",
       "      <td>NaN</td>\n",
       "    </tr>\n",
       "  </tbody>\n",
       "</table>\n",
       "</div>"
      ],
      "text/plain": [
       "               label  split original\n",
       "ztfjilznzu.mp4  REAL  train      NaN\n",
       "xfrfdspnox.mp4  REAL  train      NaN\n",
       "qifhccqwpi.mp4  REAL  train      NaN\n",
       "rmpwnnxmye.mp4  REAL  train      NaN\n",
       "tkofwngclr.mp4  REAL  train      NaN"
      ]
     },
     "execution_count": 223,
     "metadata": {},
     "output_type": "execute_result"
    }
   ],
   "source": [
    "annots[annots.label=='REAL'].head()"
   ]
  },
  {
   "cell_type": "code",
   "execution_count": 224,
   "metadata": {},
   "outputs": [
    {
     "data": {
      "text/html": [
       "<div>\n",
       "<style scoped>\n",
       "    .dataframe tbody tr th:only-of-type {\n",
       "        vertical-align: middle;\n",
       "    }\n",
       "\n",
       "    .dataframe tbody tr th {\n",
       "        vertical-align: top;\n",
       "    }\n",
       "\n",
       "    .dataframe thead th {\n",
       "        text-align: right;\n",
       "    }\n",
       "</style>\n",
       "<table border=\"1\" class=\"dataframe\">\n",
       "  <thead>\n",
       "    <tr style=\"text-align: right;\">\n",
       "      <th></th>\n",
       "      <th>label</th>\n",
       "      <th>split</th>\n",
       "      <th>original</th>\n",
       "    </tr>\n",
       "  </thead>\n",
       "  <tbody>\n",
       "    <tr>\n",
       "      <td>qgqsgtekwl.mp4</td>\n",
       "      <td>FAKE</td>\n",
       "      <td>train</td>\n",
       "      <td>ztutsnlhtr.mp4</td>\n",
       "    </tr>\n",
       "    <tr>\n",
       "      <td>bahpguunin.mp4</td>\n",
       "      <td>FAKE</td>\n",
       "      <td>train</td>\n",
       "      <td>frczmdfzza.mp4</td>\n",
       "    </tr>\n",
       "    <tr>\n",
       "      <td>qekttcqtpm.mp4</td>\n",
       "      <td>FAKE</td>\n",
       "      <td>train</td>\n",
       "      <td>zesnphumru.mp4</td>\n",
       "    </tr>\n",
       "    <tr>\n",
       "      <td>zxuqoykuqj.mp4</td>\n",
       "      <td>FAKE</td>\n",
       "      <td>train</td>\n",
       "      <td>dovdrtvmbx.mp4</td>\n",
       "    </tr>\n",
       "    <tr>\n",
       "      <td>sqqgqnolwf.mp4</td>\n",
       "      <td>FAKE</td>\n",
       "      <td>train</td>\n",
       "      <td>oimivjeigb.mp4</td>\n",
       "    </tr>\n",
       "  </tbody>\n",
       "</table>\n",
       "</div>"
      ],
      "text/plain": [
       "               label  split        original\n",
       "qgqsgtekwl.mp4  FAKE  train  ztutsnlhtr.mp4\n",
       "bahpguunin.mp4  FAKE  train  frczmdfzza.mp4\n",
       "qekttcqtpm.mp4  FAKE  train  zesnphumru.mp4\n",
       "zxuqoykuqj.mp4  FAKE  train  dovdrtvmbx.mp4\n",
       "sqqgqnolwf.mp4  FAKE  train  oimivjeigb.mp4"
      ]
     },
     "execution_count": 224,
     "metadata": {},
     "output_type": "execute_result"
    }
   ],
   "source": [
    "annots[annots.label=='FAKE'].head()"
   ]
  },
  {
   "cell_type": "markdown",
   "metadata": {},
   "source": [
    "This checks that all the fake videos' original video are also videos in this dataset."
   ]
  },
  {
   "cell_type": "code",
   "execution_count": 271,
   "metadata": {},
   "outputs": [],
   "source": [
    "assert set(annots.original[annots.original.notna()].unique())  - set(annots.index.unique()) == set()"
   ]
  },
  {
   "cell_type": "markdown",
   "metadata": {},
   "source": [
    "Display a few samples with their label."
   ]
  },
  {
   "cell_type": "code",
   "execution_count": 225,
   "metadata": {},
   "outputs": [],
   "source": [
    "sr, sf = annots[annots.label=='REAL'].sample(8), annots[annots.label=='FAKE'].sample(8)\n",
    "s = sr.append(sf)\n",
    "s.head()\n",
    "s['fname'] = pd.Series(s.index).apply(lambda o: SOURCE/o).values\n",
    "s = s.sample(s.shape[0])"
   ]
  },
  {
   "cell_type": "code",
   "execution_count": 228,
   "metadata": {},
   "outputs": [
    {
     "data": {
      "text/html": [
       "<table><tr><td><div><p>REAL</p><br>\n",
       "    <video width=\"300\" height=\"250\" controls>\n",
       "    <source src=\"../data/dfdc_train_part_11/qybjhljexi.mp4\" type=\"video/mp4\">\n",
       "    </video>\n",
       "    </div></td><td><div><p>REAL</p><br>\n",
       "    <video width=\"300\" height=\"250\" controls>\n",
       "    <source src=\"../data/dfdc_train_part_11/dqavjmidxr.mp4\" type=\"video/mp4\">\n",
       "    </video>\n",
       "    </div></td><td><div><p>FAKE</p><br>\n",
       "    <video width=\"300\" height=\"250\" controls>\n",
       "    <source src=\"../data/dfdc_train_part_11/owujdciifx.mp4\" type=\"video/mp4\">\n",
       "    </video>\n",
       "    </div></td></tr><tr><td><div><p>FAKE</p><br>\n",
       "    <video width=\"300\" height=\"250\" controls>\n",
       "    <source src=\"../data/dfdc_train_part_11/glqriykjsl.mp4\" type=\"video/mp4\">\n",
       "    </video>\n",
       "    </div></td><td><div><p>REAL</p><br>\n",
       "    <video width=\"300\" height=\"250\" controls>\n",
       "    <source src=\"../data/dfdc_train_part_11/ymxibekbia.mp4\" type=\"video/mp4\">\n",
       "    </video>\n",
       "    </div></td><td><div><p>FAKE</p><br>\n",
       "    <video width=\"300\" height=\"250\" controls>\n",
       "    <source src=\"../data/dfdc_train_part_11/fheejoaovv.mp4\" type=\"video/mp4\">\n",
       "    </video>\n",
       "    </div></td></tr><tr><td><div><p>REAL</p><br>\n",
       "    <video width=\"300\" height=\"250\" controls>\n",
       "    <source src=\"../data/dfdc_train_part_11/uyeiheygxk.mp4\" type=\"video/mp4\">\n",
       "    </video>\n",
       "    </div></td><td><div><p>REAL</p><br>\n",
       "    <video width=\"300\" height=\"250\" controls>\n",
       "    <source src=\"../data/dfdc_train_part_11/frczmdfzza.mp4\" type=\"video/mp4\">\n",
       "    </video>\n",
       "    </div></td><td><div><p>FAKE</p><br>\n",
       "    <video width=\"300\" height=\"250\" controls>\n",
       "    <source src=\"../data/dfdc_train_part_11/znycjndsxw.mp4\" type=\"video/mp4\">\n",
       "    </video>\n",
       "    </div></td></tr><tr><td><div><p>REAL</p><br>\n",
       "    <video width=\"300\" height=\"250\" controls>\n",
       "    <source src=\"../data/dfdc_train_part_11/wmglzfxxzp.mp4\" type=\"video/mp4\">\n",
       "    </video>\n",
       "    </div></td><td><div><p>FAKE</p><br>\n",
       "    <video width=\"300\" height=\"250\" controls>\n",
       "    <source src=\"../data/dfdc_train_part_11/rgqgssltna.mp4\" type=\"video/mp4\">\n",
       "    </video>\n",
       "    </div></td><td><div><p>REAL</p><br>\n",
       "    <video width=\"300\" height=\"250\" controls>\n",
       "    <source src=\"../data/dfdc_train_part_11/wjwgfkyjev.mp4\" type=\"video/mp4\">\n",
       "    </video>\n",
       "    </div></td></tr><tr><td><div><p>REAL</p><br>\n",
       "    <video width=\"300\" height=\"250\" controls>\n",
       "    <source src=\"../data/dfdc_train_part_11/hdhurbyciy.mp4\" type=\"video/mp4\">\n",
       "    </video>\n",
       "    </div></td><td><div><p>FAKE</p><br>\n",
       "    <video width=\"300\" height=\"250\" controls>\n",
       "    <source src=\"../data/dfdc_train_part_11/yqvjeiulqp.mp4\" type=\"video/mp4\">\n",
       "    </video>\n",
       "    </div></td><td><div><p>FAKE</p><br>\n",
       "    <video width=\"300\" height=\"250\" controls>\n",
       "    <source src=\"../data/dfdc_train_part_11/qgqsgtekwl.mp4\" type=\"video/mp4\">\n",
       "    </video>\n",
       "    </div></td></tr><tr><td><div><p>FAKE</p><br>\n",
       "    <video width=\"300\" height=\"250\" controls>\n",
       "    <source src=\"../data/dfdc_train_part_11/afbpbhunsi.mp4\" type=\"video/mp4\">\n",
       "    </video>\n",
       "    </div></td></tr></table>"
      ],
      "text/plain": [
       "<IPython.core.display.HTML object>"
      ]
     },
     "execution_count": 228,
     "metadata": {},
     "output_type": "execute_result"
    }
   ],
   "source": [
    "HTML(html_vids(s.fname, s.label))"
   ]
  },
  {
   "cell_type": "markdown",
   "metadata": {},
   "source": [
    "Display some fake videos next to their original video."
   ]
  },
  {
   "cell_type": "code",
   "execution_count": 278,
   "metadata": {},
   "outputs": [
    {
     "data": {
      "text/plain": [
       "array([ 4, 14,  5, 15,  6, 16])"
      ]
     },
     "execution_count": 278,
     "metadata": {},
     "output_type": "execute_result"
    }
   ],
   "source": [
    "a = np.array([4, 5, 6])\n",
    "b = np.array([14, 15, 16])\n",
    "np.stack([a, b], axis=1).reshape(-1)"
   ]
  },
  {
   "cell_type": "code",
   "execution_count": 284,
   "metadata": {},
   "outputs": [
    {
     "data": {
      "text/html": [
       "<table><tr><td><div><p></p><br>\n",
       "    <video width=\"300\" height=\"250\" controls>\n",
       "    <source src=\"../data/dfdc_train_part_11/izarampnzh.mp4\" type=\"video/mp4\">\n",
       "    </video>\n",
       "    </div></td><td><div><p></p><br>\n",
       "    <video width=\"300\" height=\"250\" controls>\n",
       "    <source src=\"../data/dfdc_train_part_11/ijgwwoupzf.mp4\" type=\"video/mp4\">\n",
       "    </video>\n",
       "    </div></td></tr><tr><td><div><p></p><br>\n",
       "    <video width=\"300\" height=\"250\" controls>\n",
       "    <source src=\"../data/dfdc_train_part_11/dgagpzefwb.mp4\" type=\"video/mp4\">\n",
       "    </video>\n",
       "    </div></td><td><div><p></p><br>\n",
       "    <video width=\"300\" height=\"250\" controls>\n",
       "    <source src=\"../data/dfdc_train_part_11/yeabzuilfx.mp4\" type=\"video/mp4\">\n",
       "    </video>\n",
       "    </div></td></tr><tr><td><div><p></p><br>\n",
       "    <video width=\"300\" height=\"250\" controls>\n",
       "    <source src=\"../data/dfdc_train_part_11/kmdxguxguc.mp4\" type=\"video/mp4\">\n",
       "    </video>\n",
       "    </div></td><td><div><p></p><br>\n",
       "    <video width=\"300\" height=\"250\" controls>\n",
       "    <source src=\"../data/dfdc_train_part_11/mtecfllphy.mp4\" type=\"video/mp4\">\n",
       "    </video>\n",
       "    </div></td></tr><tr><td><div><p></p><br>\n",
       "    <video width=\"300\" height=\"250\" controls>\n",
       "    <source src=\"../data/dfdc_train_part_11/lqsuysuorm.mp4\" type=\"video/mp4\">\n",
       "    </video>\n",
       "    </div></td><td><div><p></p><br>\n",
       "    <video width=\"300\" height=\"250\" controls>\n",
       "    <source src=\"../data/dfdc_train_part_11/ngdpqiorqa.mp4\" type=\"video/mp4\">\n",
       "    </video>\n",
       "    </div></td></tr><tr><td><div><p></p><br>\n",
       "    <video width=\"300\" height=\"250\" controls>\n",
       "    <source src=\"../data/dfdc_train_part_11/hygeirbptu.mp4\" type=\"video/mp4\">\n",
       "    </video>\n",
       "    </div></td><td><div><p></p><br>\n",
       "    <video width=\"300\" height=\"250\" controls>\n",
       "    <source src=\"../data/dfdc_train_part_11/zjhmmibena.mp4\" type=\"video/mp4\">\n",
       "    </video>\n",
       "    </div></td></tr></table>"
      ],
      "text/plain": [
       "<IPython.core.display.HTML object>"
      ]
     },
     "execution_count": 284,
     "metadata": {},
     "output_type": "execute_result"
    }
   ],
   "source": [
    "n = 5\n",
    "s = annots[annots.label == 'FAKE'].sample(n)\n",
    "rs, fs = s.index.values, s.original.values\n",
    "vids = np.stack([rs, fs], axis=1).reshape(-1)\n",
    "vids = [SOURCE/o for o in vids]\n",
    "HTML(html_vids(vids, ncols=2))"
   ]
  },
  {
   "cell_type": "code",
   "execution_count": null,
   "metadata": {},
   "outputs": [],
   "source": []
  },
  {
   "cell_type": "code",
   "execution_count": null,
   "metadata": {},
   "outputs": [],
   "source": []
  },
  {
   "cell_type": "code",
   "execution_count": null,
   "metadata": {},
   "outputs": [],
   "source": []
  },
  {
   "cell_type": "code",
   "execution_count": null,
   "metadata": {},
   "outputs": [],
   "source": []
  },
  {
   "cell_type": "code",
   "execution_count": null,
   "metadata": {},
   "outputs": [],
   "source": []
  },
  {
   "cell_type": "code",
   "execution_count": null,
   "metadata": {},
   "outputs": [],
   "source": []
  },
  {
   "cell_type": "markdown",
   "metadata": {
    "heading_collapsed": true
   },
   "source": [
    "# -fin"
   ]
  },
  {
   "cell_type": "code",
   "execution_count": 198,
   "metadata": {
    "hidden": true
   },
   "outputs": [],
   "source": [
    "from nbdev.export import *"
   ]
  },
  {
   "cell_type": "code",
   "execution_count": 204,
   "metadata": {
    "hidden": true
   },
   "outputs": [
    {
     "name": "stdout",
     "output_type": "stream",
     "text": [
      "Converted 00_lookatdata.ipynb.\n",
      "This cell doesn't have an export destination and was ignored:\n",
      "e\n",
      "This cell doesn't have an export destination and was ignored:\n",
      "e\n",
      "This cell doesn't have an export destination and was ignored:\n",
      "e\n",
      "This cell doesn't have an export destination and was ignored:\n",
      "e\n",
      "This cell doesn't have an export destination and was ignored:\n",
      "e\n",
      "Converted 01_face_recog.ipynb.\n"
     ]
    }
   ],
   "source": [
    "notebook2script()"
   ]
  },
  {
   "cell_type": "code",
   "execution_count": null,
   "metadata": {
    "hidden": true
   },
   "outputs": [],
   "source": []
  }
 ],
 "metadata": {
  "kernelspec": {
   "display_name": "Python 3",
   "language": "python",
   "name": "python3"
  },
  "language_info": {
   "codemirror_mode": {
    "name": "ipython",
    "version": 3
   },
   "file_extension": ".py",
   "mimetype": "text/x-python",
   "name": "python",
   "nbconvert_exporter": "python",
   "pygments_lexer": "ipython3",
   "version": "3.7.4"
  }
 },
 "nbformat": 4,
 "nbformat_minor": 2
}
