{
 "cells": [
  {
   "cell_type": "markdown",
   "metadata": {},
   "source": [
    "# Models"
   ]
  },
  {
   "cell_type": "code",
   "execution_count": null,
   "metadata": {},
   "outputs": [],
   "source": [
    "#default_exp models"
   ]
  },
  {
   "cell_type": "code",
   "execution_count": null,
   "metadata": {},
   "outputs": [],
   "source": [
    "#export\n",
    "from fastai.vision import *\n",
    "import torch.nn as nn\n",
    "import torch.nn.functional as F"
   ]
  },
  {
   "cell_type": "markdown",
   "metadata": {},
   "source": [
    "### MesoNet"
   ]
  },
  {
   "cell_type": "code",
   "execution_count": null,
   "metadata": {},
   "outputs": [],
   "source": [
    "#export\n",
    "# By Nathan Hubens.\n",
    "# Paper implementation does not use Adaptive Average Pooling. To get the exact same implementation, \n",
    "# comment the avg_pool and uncomment the final max_pool layer.\n",
    "class MesoNet(nn.Module):\n",
    "    def __init__(self):\n",
    "        super().__init__()\n",
    "          \n",
    "        self.conv1 = nn.Conv2d(3, 8, 3, 1,1) # 8 x 256 x 256\n",
    "        self.bn1 = nn.BatchNorm2d(8)\n",
    "        self.conv2 = nn.Conv2d(8, 8, 5, 1,2) # 8 x 128 x 128\n",
    "        self.bn2 = nn.BatchNorm2d(8)\n",
    "        self.conv3 = nn.Conv2d(8, 16, 5, 1,2) # 8 x 64 x 64\n",
    "        self.bn3 = nn.BatchNorm2d(16)\n",
    "        self.conv4 = nn.Conv2d(16,16,5,1,2) # 8 x 32 x 32\n",
    "        self.bn4 = nn.BatchNorm2d(16)\n",
    "        self.avg_pool = nn.AdaptiveAvgPool2d((8))\n",
    "        self.fc1 = nn.Linear(1024, 16)\n",
    "        self.fc2 = nn.Linear(16, 2)\n",
    "    \n",
    "    def forward(self, x):\n",
    "\n",
    "        x = F.relu(self.conv1(x))\n",
    "        x = self.bn1(x)\n",
    "        x = F.max_pool2d(x, 2, 2)\n",
    "        \n",
    "        x = F.relu(self.conv2(x))\n",
    "        x = self.bn2(x)\n",
    "        x = F.max_pool2d(x, 2, 2)\n",
    "        \n",
    "        x = F.relu(self.conv3(x))  \n",
    "        x = self.bn3(x)\n",
    "        x = F.max_pool2d(x, 2, 2)\n",
    "        \n",
    "        x = F.relu(self.conv4(x))\n",
    "        x = self.bn4(x)\n",
    "        #x = F.max_pool2d(x, 4, 4)\n",
    "        \n",
    "        x = self.avg_pool(x)\n",
    "\n",
    "        x = x.reshape(x.shape[0], -1)\n",
    "\n",
    "        x = F.dropout(x, 0.5)\n",
    "        x = F.relu(self.fc1(x))\n",
    "        x = F.dropout(x,0.5)\n",
    "        x = self.fc2(x)\n",
    "        return x"
   ]
  },
  {
   "cell_type": "markdown",
   "metadata": {},
   "source": [
    "# -fin"
   ]
  },
  {
   "cell_type": "code",
   "execution_count": null,
   "metadata": {},
   "outputs": [],
   "source": [
    "from nbdev.export import *"
   ]
  },
  {
   "cell_type": "code",
   "execution_count": null,
   "metadata": {},
   "outputs": [
    {
     "name": "stdout",
     "output_type": "stream",
     "text": [
      "Converted 00_data.ipynb.\n",
      "Converted 01_face_detection.ipynb.\n",
      "Converted 02_fix_luminosity.ipynb.\n",
      "Converted 02a_create_faceimage_dataset.ipynb.\n",
      "Converted 02bis_Create_Dataset.ipynb.\n",
      "Converted 02c_faces_different_dfdc_zips-Copy1.ipynb.\n",
      "Converted 02c_faces_different_dfdc_zips.ipynb.\n",
      "Converted 03_models.ipynb.\n",
      "Converted 04_Baseline_Classification.ipynb.\n",
      "Converted 04_Classification.ipynb.\n",
      "Converted 04a_classification_videolist.ipynb.\n",
      "Converted 05_Class_Imbalance.ipynb.\n",
      "Converted 06_Focal_Loss.ipynb.\n",
      "Converted 07_full_classification.ipynb.\n",
      "This cell doesn't have an export destination and was ignored:\n",
      "e\n",
      "Converted 07a_classify_video_margin.ipynb.\n",
      "Converted 07b_classify_resize.ipynb.\n",
      "Converted Untitled.ipynb.\n",
      "Converted deepfake_submission.ipynb.\n",
      "Converted export_kernel_module.ipynb.\n",
      "Converted test_submission.ipynb.\n"
     ]
    }
   ],
   "source": [
    "notebook2script()"
   ]
  },
  {
   "cell_type": "code",
   "execution_count": null,
   "metadata": {},
   "outputs": [],
   "source": []
  }
 ],
 "metadata": {
  "kernelspec": {
   "display_name": "Python 3",
   "language": "python",
   "name": "python3"
  }
 },
 "nbformat": 4,
 "nbformat_minor": 2
}
