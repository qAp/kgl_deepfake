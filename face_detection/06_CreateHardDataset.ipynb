{
 "cells": [
  {
   "cell_type": "markdown",
   "metadata": {},
   "source": [
    "## Create Hard Dataset"
   ]
  },
  {
   "cell_type": "markdown",
   "metadata": {},
   "source": [
    "I have manually curated 100 **FAKE** videos that I believe are fairly hard for a human to identify that there is a deepfake present in the video.\n",
    "\n",
    "Most of these videos contain a single person and are in a well-lit environment."
   ]
  },
  {
   "cell_type": "code",
   "execution_count": 25,
   "metadata": {},
   "outputs": [],
   "source": [
    "import os\n",
    "import cv2\n",
    "import glob\n",
    "import random\n",
    "\n",
    "import numpy as np\n",
    "import pandas as pd\n",
    "import matplotlib.pyplot as plt\n",
    "\n",
    "from PIL import Image\n",
    "from pathlib import Path\n",
    "from os import listdir\n",
    "from tqdm.notebook import tqdm\n",
    "\n",
    "from EasyBlazeFace import EasyBlazeFace\n",
    "from EasyRetinaFace import EasyRetinaFace"
   ]
  },
  {
   "cell_type": "code",
   "execution_count": 2,
   "metadata": {},
   "outputs": [],
   "source": [
    "# Join metadata files into single dataframe\n",
    "metadata_list = []\n",
    "\n",
    "for i in range(50):\n",
    "    folder = Path(\"../data/dfdc_train_part_\" + str(i))\n",
    "    metadata_file_path = folder/'metadata.json'\n",
    "    metadata = pd.read_json(metadata_file_path).T\n",
    "\n",
    "    metadata.reset_index(inplace=True)\n",
    "    metadata.rename({'index':'fname'}, axis=1, inplace=True)\n",
    "    \n",
    "    metadata['directory'] =  str(folder) \n",
    "    \n",
    "    metadata_list.append(metadata)\n",
    "    \n",
    "    \n",
    "all_metadata = pd.concat(metadata_list)"
   ]
  },
  {
   "cell_type": "code",
   "execution_count": 3,
   "metadata": {},
   "outputs": [
    {
     "data": {
      "text/html": [
       "<div>\n",
       "<style scoped>\n",
       "    .dataframe tbody tr th:only-of-type {\n",
       "        vertical-align: middle;\n",
       "    }\n",
       "\n",
       "    .dataframe tbody tr th {\n",
       "        vertical-align: top;\n",
       "    }\n",
       "\n",
       "    .dataframe thead th {\n",
       "        text-align: right;\n",
       "    }\n",
       "</style>\n",
       "<table border=\"1\" class=\"dataframe\">\n",
       "  <thead>\n",
       "    <tr style=\"text-align: right;\">\n",
       "      <th></th>\n",
       "      <th>fname</th>\n",
       "      <th>label</th>\n",
       "      <th>split</th>\n",
       "      <th>original</th>\n",
       "      <th>directory</th>\n",
       "    </tr>\n",
       "  </thead>\n",
       "  <tbody>\n",
       "    <tr>\n",
       "      <th>3129</th>\n",
       "      <td>pdooqxqfrm.mp4</td>\n",
       "      <td>FAKE</td>\n",
       "      <td>train</td>\n",
       "      <td>ikebomnsiq.mp4</td>\n",
       "      <td>../data/dfdc_train_part_49</td>\n",
       "    </tr>\n",
       "    <tr>\n",
       "      <th>3130</th>\n",
       "      <td>djjdcnhlma.mp4</td>\n",
       "      <td>FAKE</td>\n",
       "      <td>train</td>\n",
       "      <td>kudvvlgiff.mp4</td>\n",
       "      <td>../data/dfdc_train_part_49</td>\n",
       "    </tr>\n",
       "    <tr>\n",
       "      <th>3131</th>\n",
       "      <td>fgmbxfqoze.mp4</td>\n",
       "      <td>REAL</td>\n",
       "      <td>train</td>\n",
       "      <td>NaN</td>\n",
       "      <td>../data/dfdc_train_part_49</td>\n",
       "    </tr>\n",
       "    <tr>\n",
       "      <th>3132</th>\n",
       "      <td>cywebjaezn.mp4</td>\n",
       "      <td>REAL</td>\n",
       "      <td>train</td>\n",
       "      <td>NaN</td>\n",
       "      <td>../data/dfdc_train_part_49</td>\n",
       "    </tr>\n",
       "    <tr>\n",
       "      <th>3133</th>\n",
       "      <td>ohmkmcfxul.mp4</td>\n",
       "      <td>FAKE</td>\n",
       "      <td>train</td>\n",
       "      <td>hysmzkqsdl.mp4</td>\n",
       "      <td>../data/dfdc_train_part_49</td>\n",
       "    </tr>\n",
       "  </tbody>\n",
       "</table>\n",
       "</div>"
      ],
      "text/plain": [
       "               fname label  split        original                   directory\n",
       "3129  pdooqxqfrm.mp4  FAKE  train  ikebomnsiq.mp4  ../data/dfdc_train_part_49\n",
       "3130  djjdcnhlma.mp4  FAKE  train  kudvvlgiff.mp4  ../data/dfdc_train_part_49\n",
       "3131  fgmbxfqoze.mp4  REAL  train             NaN  ../data/dfdc_train_part_49\n",
       "3132  cywebjaezn.mp4  REAL  train             NaN  ../data/dfdc_train_part_49\n",
       "3133  ohmkmcfxul.mp4  FAKE  train  hysmzkqsdl.mp4  ../data/dfdc_train_part_49"
      ]
     },
     "execution_count": 3,
     "metadata": {},
     "output_type": "execute_result"
    }
   ],
   "source": [
    "all_metadata.tail()"
   ]
  },
  {
   "cell_type": "code",
   "execution_count": 15,
   "metadata": {},
   "outputs": [],
   "source": [
    "paths = [str(Path(f).name).replace('_FAKE', '') for f in (glob.glob(\"../data/hard_data/*.mp4\"))]"
   ]
  },
  {
   "cell_type": "code",
   "execution_count": 19,
   "metadata": {},
   "outputs": [
    {
     "data": {
      "text/plain": [
       "100"
      ]
     },
     "execution_count": 19,
     "metadata": {},
     "output_type": "execute_result"
    }
   ],
   "source": [
    "fake_files = ['aaiqsitvnd.mp4', 'afvlrevses.mp4', 'azqycoiiuk.mp4', 'aawkmrlilr.mp4', 'bjxzcaifpw.mp4',\n",
    "              'cjstqmiyud.mp4', 'ajxpaiqcee.mp4', 'yumeecupaw.mp4', 'bbbmfffsad.mp4', 'bbaeewtqei.mp4',\n",
    "               'aafcgzwvmy.mp4', 'dwqhiwmswx.mp4', 'cczisiwrmd.mp4', 'danyfkofxk.mp4', 'aetpnobkcv.mp4',\n",
    "               'agswjtuhss.mp4', 'ctjewcqxee.mp4', 'baxdvqglnu.mp4', 'houzrrfbqg.mp4', 'acfaxepklq.mp4',\n",
    "               'tfaxqkuhoh.mp4', 'cmoqplbifs.mp4', 'aihvsjluzl.mp4', 'aazkzzkbns.mp4', 'ahqausishe.mp4',\n",
    "               'atwmgvaauf.mp4', 'aafezqchru.mp4', 'aetbyrujti.mp4', 'dqqwmmwlbg.mp4', 'zuweqkkudv.mp4',\n",
    "               'cathvygbkb.mp4', 'bgkmgallha.mp4', 'alhsvhumdw.mp4', 'bbfewvawtu.mp4', 'dkrvorliqc.mp4',\n",
    "               'abkxlatant.mp4', 'ajnzuiktuo.mp4', 'bdbryopkaa.mp4', 'xnmmweqmdt.mp4', 'bvhzopqkek.mp4',\n",
    "               'aaqaifqrwn.mp4', 'bsprlfyyyc.mp4', 'agbfymrrhv.mp4', 'aiuvaldnqj.mp4', 'cmgmhevsmr.mp4',\n",
    "               'aabkwhhgwv.mp4', 'djjafmdtxy.mp4', 'zwwvpycsis.mp4', 'dmzbzcjsrg.mp4', 'efghsdmasb.mp4',\n",
    "               'coulkppulq.mp4', 'adtovspidj.mp4', 'arqhhrzzfe.mp4', 'cjetyhnwpr.mp4', 'akqjhilhtc.mp4',\n",
    "               'alddoocxqo.mp4', 'aahzjreawd.mp4', 'zvhdwittmk.mp4', 'avfoukjslp.mp4', 'abteztchqz.mp4',\n",
    "               'abfvpzjkwr.mp4', 'aakkdgsmvl.mp4', 'cdyoiiuszk.mp4', 'beshruwzkt.mp4', 'aakjukgjme.mp4',\n",
    "               'aqgkloqxld.mp4', 'hfkwogkzid.mp4', 'avocsaizhx.mp4', 'ammkabwonw.mp4', 'avcnyamvrb.mp4',\n",
    "               'anrlivgkfq.mp4', 'cnbtegsjlx.mp4', 'cbulmphxfg.mp4', 'acgyspwyqr.mp4', 'abhdaoikio.mp4',\n",
    "               'azivnorcbt.mp4', 'agsrndrnjg.mp4', 'aemldzfofe.mp4', 'aaeucwtkdx.mp4', 'cqnutosgsm.mp4',\n",
    "               'ackyrwxeew.mp4', 'aagundkpoh.mp4', 'bzqemivbgx.mp4', 'akaqyxcfep.mp4', 'bnbxarxyqk.mp4',\n",
    "               'dywkdfclzy.mp4', 'aqfeqkckjs.mp4', 'azpamhpoyy.mp4', 'aoclawrydd.mp4', 'ahpaydsovz.mp4',\n",
    "               'ahencqpiin.mp4', 'aaaoqepxnf.mp4', 'caqderfjql.mp4', 'aawhvztjdt.mp4', 'ayclhmjajg.mp4',\n",
    "               'bmjmjmbglm.mp4', 'bacnffbyky.mp4', 'abhgyltuqg.mp4', 'azylwizjmc.mp4', 'asgzesadhh.mp4']\n",
    "\n",
    "len(fake_files)"
   ]
  },
  {
   "cell_type": "markdown",
   "metadata": {},
   "source": [
    "We would like to build up a training dataset using these and other videos. We currently have 100 fake videos.\n",
    "\n",
    "We would like:\n",
    "\n",
    "- 100 Fake Videos\n",
    "- 100 Real Videos corresponding to the fake videos"
   ]
  },
  {
   "cell_type": "code",
   "execution_count": 20,
   "metadata": {},
   "outputs": [],
   "source": [
    "real_files = []\n",
    "\n",
    "for file in fake_files:\n",
    "    \n",
    "    row = all_metadata.loc[all_metadata['fname'] == file]\n",
    "    original = row['original'].iloc[0]\n",
    "    \n",
    "    real_files.append(original)"
   ]
  },
  {
   "cell_type": "code",
   "execution_count": 23,
   "metadata": {},
   "outputs": [
    {
     "data": {
      "text/plain": [
       "100"
      ]
     },
     "execution_count": 23,
     "metadata": {},
     "output_type": "execute_result"
    }
   ],
   "source": [
    "len(real_files)"
   ]
  },
  {
   "cell_type": "markdown",
   "metadata": {},
   "source": [
    "## Generate Image Dataset"
   ]
  },
  {
   "cell_type": "markdown",
   "metadata": {},
   "source": [
    "We want to take all of these videos, break them apart into frames and take some of the frames and create an image dataset with them."
   ]
  },
  {
   "cell_type": "code",
   "execution_count": 26,
   "metadata": {},
   "outputs": [],
   "source": [
    "def read_frame_as_size(video_path, size=(128, 128)):\n",
    "    capture = cv2.VideoCapture(str(video_path))\n",
    "    ret, frame = capture.read()\n",
    "    frame = cv2.cvtColor(frame, cv2.COLOR_BGR2RGB)\n",
    "    frame = cv2.resize(frame, size)\n",
    "    capture.release()\n",
    "    return frame\n",
    "\n",
    "\n",
    "def read_frame(video_path):\n",
    "    capture = cv2.VideoCapture(str(video_path))\n",
    "    ret, frame = capture.read()\n",
    "    frame = cv2.cvtColor(frame, cv2.COLOR_BGR2RGB)\n",
    "    capture.release()\n",
    "    return frame\n",
    "\n",
    "\n",
    "def read_all_frames(video_path):\n",
    "    capture = cv2.VideoCapture(str(video_path))\n",
    "    all_frames = []\n",
    "    ret = True\n",
    "    while True:\n",
    "        ret, frame = capture.read()\n",
    "        if ret:\n",
    "            frame = cv2.cvtColor(frame, cv2.COLOR_BGR2RGB)\n",
    "            all_frames.append(frame)\n",
    "        else:\n",
    "            break\n",
    "\n",
    "    capture.release()\n",
    "    return all_frames\n",
    "\n",
    "\n",
    "def read_random_frame(video_path):\n",
    "    \n",
    "    capture = cv2.VideoCapture(str(video_path))\n",
    "    frame_count = int(capture.get(cv2.CAP_PROP_FRAME_COUNT))    \n",
    "    random_frame = int(random.random() * frame_count)\n",
    "    # Set to read specific frame\n",
    "    capture.set(cv2.CAP_PROP_POS_FRAMES, random_frame)\n",
    "    ret, frame = capture.read()\n",
    "    frame = cv2.cvtColor(frame, cv2.COLOR_BGR2RGB)\n",
    "    capture.release()\n",
    "    return frame"
   ]
  },
  {
   "cell_type": "code",
   "execution_count": 27,
   "metadata": {},
   "outputs": [
    {
     "name": "stdout",
     "output_type": "stream",
     "text": [
      "Loading pretrained model from Pytorch_Retinaface/weights/Resnet50_Final.pth\n",
      "remove prefix 'module.'\n",
      "Missing keys:0\n",
      "Unused checkpoint keys:0\n",
      "Used keys:456\n"
     ]
    }
   ],
   "source": [
    "retinaFace = EasyRetinaFace()"
   ]
  },
  {
   "cell_type": "code",
   "execution_count": 41,
   "metadata": {},
   "outputs": [],
   "source": [
    "def create_images_from_videos(files, suffix, folder='train', num_frames=10):\n",
    "    for file in tqdm(files):\n",
    "        row = all_metadata.loc[all_metadata['fname'] == file].iloc[0]\n",
    "\n",
    "        video_path = row['directory'] + \"/\" + row['fname']\n",
    "        \n",
    "        for i in range(num_frames):\n",
    "            random_frame = read_random_frame(video_path)\n",
    "\n",
    "            # Face Detection\n",
    "            detections = retinaFace.detect(random_frame)\n",
    "\n",
    "            if len(detections) > 0:\n",
    "                x_min, y_min, x_max, y_max, prob = detections[0]\n",
    "\n",
    "                #Crop the face\n",
    "                raw_crop = random_frame[int(y_min):int(y_max), int(x_min):int(x_max)]\n",
    "\n",
    "                #Save to disk\n",
    "                im = Image.fromarray(raw_crop)\n",
    "                im.save(\"../data/\" + folder + \"/\" + row['fname'] + \"_\" + str(i) + \"_\" + suffix +\".png\")    \n",
    "            else:\n",
    "                print(\"Couldn't find image for\", video_path)"
   ]
  },
  {
   "cell_type": "code",
   "execution_count": 38,
   "metadata": {},
   "outputs": [
    {
     "data": {
      "text/plain": [
       "(100, 100)"
      ]
     },
     "execution_count": 38,
     "metadata": {},
     "output_type": "execute_result"
    }
   ],
   "source": [
    "len(fake_files), len(real_files)"
   ]
  },
  {
   "cell_type": "code",
   "execution_count": 39,
   "metadata": {},
   "outputs": [],
   "source": [
    "train_fake_files = fake_files[:80]\n",
    "train_real_files = real_files[:80]\n",
    "\n",
    "val_fake_files = fake_files[80:]\n",
    "val_real_files = real_files[80:]"
   ]
  },
  {
   "cell_type": "code",
   "execution_count": 40,
   "metadata": {},
   "outputs": [
    {
     "data": {
      "application/vnd.jupyter.widget-view+json": {
       "model_id": "2c8b859001fc40068b2a8e011167f89f",
       "version_major": 2,
       "version_minor": 0
      },
      "text/plain": [
       "HBox(children=(FloatProgress(value=0.0, max=80.0), HTML(value='')))"
      ]
     },
     "metadata": {},
     "output_type": "display_data"
    },
    {
     "name": "stdout",
     "output_type": "stream",
     "text": [
      "../data/dfdc_train_part_36/aaiqsitvnd.mp4\n",
      "../data/dfdc_train_part_46/afvlrevses.mp4\n",
      "../data/dfdc_train_part_3/azqycoiiuk.mp4\n",
      "../data/dfdc_train_part_41/aawkmrlilr.mp4\n",
      "../data/dfdc_train_part_45/bjxzcaifpw.mp4\n",
      "../data/dfdc_train_part_35/cjstqmiyud.mp4\n",
      "../data/dfdc_train_part_2/ajxpaiqcee.mp4\n",
      "../data/dfdc_train_part_48/yumeecupaw.mp4\n",
      "../data/dfdc_train_part_29/bbbmfffsad.mp4\n",
      "../data/dfdc_train_part_2/bbaeewtqei.mp4\n",
      "../data/dfdc_train_part_31/aafcgzwvmy.mp4\n",
      "../data/dfdc_train_part_26/dwqhiwmswx.mp4\n",
      "../data/dfdc_train_part_7/cczisiwrmd.mp4\n",
      "../data/dfdc_train_part_32/danyfkofxk.mp4\n",
      "../data/dfdc_train_part_47/aetpnobkcv.mp4\n",
      "../data/dfdc_train_part_44/agswjtuhss.mp4\n",
      "../data/dfdc_train_part_2/ctjewcqxee.mp4\n",
      "../data/dfdc_train_part_43/baxdvqglnu.mp4\n",
      "../data/dfdc_train_part_2/houzrrfbqg.mp4\n",
      "../data/dfdc_train_part_48/acfaxepklq.mp4\n",
      "../data/dfdc_train_part_7/tfaxqkuhoh.mp4\n",
      "../data/dfdc_train_part_38/cmoqplbifs.mp4\n",
      "../data/dfdc_train_part_32/aihvsjluzl.mp4\n",
      "../data/dfdc_train_part_46/aazkzzkbns.mp4\n",
      "../data/dfdc_train_part_40/ahqausishe.mp4\n",
      "../data/dfdc_train_part_43/atwmgvaauf.mp4\n",
      "../data/dfdc_train_part_3/aafezqchru.mp4\n",
      "../data/dfdc_train_part_33/aetbyrujti.mp4\n",
      "../data/dfdc_train_part_2/dqqwmmwlbg.mp4\n",
      "../data/dfdc_train_part_9/zuweqkkudv.mp4\n",
      "../data/dfdc_train_part_41/cathvygbkb.mp4\n",
      "../data/dfdc_train_part_35/bgkmgallha.mp4\n",
      "../data/dfdc_train_part_29/alhsvhumdw.mp4\n",
      "../data/dfdc_train_part_33/bbfewvawtu.mp4\n",
      "../data/dfdc_train_part_28/dkrvorliqc.mp4\n",
      "../data/dfdc_train_part_36/abkxlatant.mp4\n",
      "../data/dfdc_train_part_38/ajnzuiktuo.mp4\n",
      "../data/dfdc_train_part_49/bdbryopkaa.mp4\n",
      "../data/dfdc_train_part_4/xnmmweqmdt.mp4\n",
      "../data/dfdc_train_part_33/bvhzopqkek.mp4\n",
      "../data/dfdc_train_part_0/aaqaifqrwn.mp4\n",
      "../data/dfdc_train_part_36/bsprlfyyyc.mp4\n",
      "../data/dfdc_train_part_6/agbfymrrhv.mp4\n",
      "../data/dfdc_train_part_30/aiuvaldnqj.mp4\n",
      "../data/dfdc_train_part_44/cmgmhevsmr.mp4\n",
      "../data/dfdc_train_part_7/aabkwhhgwv.mp4\n",
      "../data/dfdc_train_part_42/djjafmdtxy.mp4\n",
      "../data/dfdc_train_part_6/zwwvpycsis.mp4\n",
      "../data/dfdc_train_part_45/dmzbzcjsrg.mp4\n",
      "../data/dfdc_train_part_26/efghsdmasb.mp4\n",
      "../data/dfdc_train_part_30/coulkppulq.mp4\n",
      "../data/dfdc_train_part_34/adtovspidj.mp4\n",
      "../data/dfdc_train_part_42/arqhhrzzfe.mp4\n",
      "../data/dfdc_train_part_9/cjetyhnwpr.mp4\n",
      "../data/dfdc_train_part_35/akqjhilhtc.mp4\n",
      "../data/dfdc_train_part_49/alddoocxqo.mp4\n",
      "../data/dfdc_train_part_42/aahzjreawd.mp4\n",
      "../data/dfdc_train_part_48/zvhdwittmk.mp4\n",
      "../data/dfdc_train_part_37/avfoukjslp.mp4\n",
      "../data/dfdc_train_part_49/abteztchqz.mp4\n",
      "../data/dfdc_train_part_4/abfvpzjkwr.mp4\n",
      "../data/dfdc_train_part_5/aakkdgsmvl.mp4\n",
      "../data/dfdc_train_part_46/cdyoiiuszk.mp4\n",
      "../data/dfdc_train_part_3/beshruwzkt.mp4\n",
      "../data/dfdc_train_part_47/aakjukgjme.mp4\n",
      "../data/dfdc_train_part_8/aqgkloqxld.mp4\n",
      "../data/dfdc_train_part_4/hfkwogkzid.mp4\n",
      "../data/dfdc_train_part_33/avocsaizhx.mp4\n",
      "../data/dfdc_train_part_8/ammkabwonw.mp4\n",
      "../data/dfdc_train_part_9/avcnyamvrb.mp4\n",
      "../data/dfdc_train_part_46/anrlivgkfq.mp4\n",
      "../data/dfdc_train_part_45/cnbtegsjlx.mp4\n",
      "../data/dfdc_train_part_31/cbulmphxfg.mp4\n",
      "../data/dfdc_train_part_49/acgyspwyqr.mp4\n",
      "../data/dfdc_train_part_40/abhdaoikio.mp4\n",
      "../data/dfdc_train_part_4/azivnorcbt.mp4\n",
      "../data/dfdc_train_part_7/agsrndrnjg.mp4\n",
      "../data/dfdc_train_part_34/aemldzfofe.mp4\n",
      "../data/dfdc_train_part_45/aaeucwtkdx.mp4\n",
      "../data/dfdc_train_part_43/cqnutosgsm.mp4\n",
      "\n"
     ]
    },
    {
     "data": {
      "application/vnd.jupyter.widget-view+json": {
       "model_id": "55fbc272ffd9431db6f503dd2301318a",
       "version_major": 2,
       "version_minor": 0
      },
      "text/plain": [
       "HBox(children=(FloatProgress(value=0.0, max=80.0), HTML(value='')))"
      ]
     },
     "metadata": {},
     "output_type": "display_data"
    },
    {
     "name": "stdout",
     "output_type": "stream",
     "text": [
      "../data/dfdc_train_part_36/frehtgxiln.mp4\n",
      "../data/dfdc_train_part_46/knbodjyiew.mp4\n",
      "../data/dfdc_train_part_3/nxylqxbxnz.mp4\n",
      "../data/dfdc_train_part_41/ekbcrbtmmc.mp4\n",
      "../data/dfdc_train_part_45/fwisndrpzm.mp4\n",
      "../data/dfdc_train_part_35/tfddwvpqxx.mp4\n",
      "../data/dfdc_train_part_2/ztyvglkcsf.mp4\n",
      "../data/dfdc_train_part_48/rmldoykgzt.mp4\n",
      "../data/dfdc_train_part_29/quyzfrphft.mp4\n",
      "../data/dfdc_train_part_2/rfukeoxpqu.mp4\n",
      "../data/dfdc_train_part_31/nebevwudhr.mp4\n",
      "../data/dfdc_train_part_26/tvdlpqwnzl.mp4\n",
      "../data/dfdc_train_part_7/hkplvhwibp.mp4\n",
      "../data/dfdc_train_part_32/rzorqxynsl.mp4\n",
      "../data/dfdc_train_part_47/pldgpdtzwo.mp4\n",
      "../data/dfdc_train_part_44/cabhgzgpba.mp4\n",
      "../data/dfdc_train_part_2/abmjszfycr.mp4\n",
      "../data/dfdc_train_part_43/zcjrdqfnsa.mp4\n",
      "../data/dfdc_train_part_2/dmmvuaikkv.mp4\n",
      "../data/dfdc_train_part_48/nthlmvjxac.mp4\n",
      "../data/dfdc_train_part_7/vxoaanowge.mp4\n",
      "../data/dfdc_train_part_38/uvnefxyqsy.mp4\n",
      "../data/dfdc_train_part_32/vvqserbnug.mp4\n",
      "../data/dfdc_train_part_46/mcehvkoidm.mp4\n",
      "../data/dfdc_train_part_40/csplgefkgx.mp4\n",
      "../data/dfdc_train_part_43/mycsljsdmu.mp4\n",
      "../data/dfdc_train_part_3/pczqsicacb.mp4\n",
      "../data/dfdc_train_part_33/jlopwajaju.mp4\n",
      "../data/dfdc_train_part_2/oaguiggjyv.mp4\n",
      "../data/dfdc_train_part_9/dhsoozhsoz.mp4\n",
      "../data/dfdc_train_part_41/guiupvmbnj.mp4\n",
      "../data/dfdc_train_part_35/bybafebasv.mp4\n",
      "../data/dfdc_train_part_29/lbppsmfyvw.mp4\n",
      "../data/dfdc_train_part_33/tvwrmhszkm.mp4\n",
      "../data/dfdc_train_part_28/hcswybumab.mp4\n",
      "../data/dfdc_train_part_36/mafvibesfg.mp4\n",
      "../data/dfdc_train_part_38/rptgltzwek.mp4\n",
      "../data/dfdc_train_part_49/cbqdpfnktj.mp4\n",
      "../data/dfdc_train_part_4/mlhjazstxo.mp4\n",
      "../data/dfdc_train_part_33/fgysdsfehq.mp4\n",
      "../data/dfdc_train_part_0/xugmhbetrw.mp4\n",
      "../data/dfdc_train_part_36/roqkadbbap.mp4\n",
      "../data/dfdc_train_part_6/xekyvykhqr.mp4\n",
      "../data/dfdc_train_part_30/nzjytxaetf.mp4\n",
      "../data/dfdc_train_part_44/kfqragdykf.mp4\n",
      "../data/dfdc_train_part_7/dyolakhvvw.mp4\n",
      "../data/dfdc_train_part_42/zjlmvoawrd.mp4\n",
      "../data/dfdc_train_part_6/cczdxtweqv.mp4\n",
      "../data/dfdc_train_part_45/imsacxixmv.mp4\n",
      "../data/dfdc_train_part_26/miofchbvht.mp4\n",
      "../data/dfdc_train_part_30/xoupnramxr.mp4\n",
      "../data/dfdc_train_part_34/plbtpvjmae.mp4\n",
      "../data/dfdc_train_part_42/ebofoaidos.mp4\n",
      "../data/dfdc_train_part_9/zjzumoazqv.mp4\n",
      "../data/dfdc_train_part_35/pkwdokzcvg.mp4\n",
      "../data/dfdc_train_part_49/jvmdzcrakg.mp4\n",
      "../data/dfdc_train_part_42/sqlipvvjgu.mp4\n",
      "../data/dfdc_train_part_48/fmljdvhwtj.mp4\n",
      "../data/dfdc_train_part_37/wrnfrclvdo.mp4\n",
      "../data/dfdc_train_part_49/ubydbjxdmr.mp4\n",
      "../data/dfdc_train_part_4/aqjwkkbklt.mp4\n",
      "../data/dfdc_train_part_5/bmljrhlhta.mp4\n",
      "../data/dfdc_train_part_46/vuixqctwxz.mp4\n",
      "../data/dfdc_train_part_3/yokjmkzsbx.mp4\n",
      "../data/dfdc_train_part_47/bmnpqrwnex.mp4\n",
      "../data/dfdc_train_part_8/uoywrrhasp.mp4\n",
      "../data/dfdc_train_part_4/aszdwxqtnb.mp4\n",
      "../data/dfdc_train_part_33/opcgkcuiwk.mp4\n",
      "../data/dfdc_train_part_8/mxkcmlofoh.mp4\n",
      "../data/dfdc_train_part_9/jaetnqgktl.mp4\n",
      "../data/dfdc_train_part_46/ghyxplmidg.mp4\n",
      "../data/dfdc_train_part_45/cmyvjmgldk.mp4\n",
      "../data/dfdc_train_part_31/wqoihdhglu.mp4\n",
      "../data/dfdc_train_part_49/uvuioxigps.mp4\n",
      "../data/dfdc_train_part_40/efmtxmmbfk.mp4\n",
      "../data/dfdc_train_part_4/opwqlxzcaf.mp4\n",
      "../data/dfdc_train_part_7/uzlkfyluxj.mp4\n",
      "../data/dfdc_train_part_34/glefulamyk.mp4\n",
      "../data/dfdc_train_part_45/rslxpafeir.mp4\n",
      "../data/dfdc_train_part_43/ibgylexamz.mp4\n",
      "\n"
     ]
    }
   ],
   "source": [
    "# Make training files\n",
    "os.makedirs('../data/train', exist_ok=True)\n",
    "\n",
    "create_images_from_videos(train_fake_files, suffix=\"FAKE\", folder=\"train\", num_frames=10)\n",
    "create_images_from_videos(train_real_files, suffix=\"REAL\", folder=\"train\", num_frames=10)"
   ]
  },
  {
   "cell_type": "code",
   "execution_count": 42,
   "metadata": {},
   "outputs": [
    {
     "data": {
      "application/vnd.jupyter.widget-view+json": {
       "model_id": "3519884d55fe43fd976662887f3c9b49",
       "version_major": 2,
       "version_minor": 0
      },
      "text/plain": [
       "HBox(children=(FloatProgress(value=0.0, max=20.0), HTML(value='')))"
      ]
     },
     "metadata": {},
     "output_type": "display_data"
    },
    {
     "name": "stdout",
     "output_type": "stream",
     "text": [
      "\n"
     ]
    },
    {
     "data": {
      "application/vnd.jupyter.widget-view+json": {
       "model_id": "b544e5e49db24083ab419fdb8f5efee1",
       "version_major": 2,
       "version_minor": 0
      },
      "text/plain": [
       "HBox(children=(FloatProgress(value=0.0, max=20.0), HTML(value='')))"
      ]
     },
     "metadata": {},
     "output_type": "display_data"
    },
    {
     "name": "stdout",
     "output_type": "stream",
     "text": [
      "\n"
     ]
    }
   ],
   "source": [
    "# Make validation files\n",
    "os.makedirs('../data/val', exist_ok=True)\n",
    "create_images_from_videos(val_fake_files, suffix=\"FAKE\", folder=\"val\", num_frames=10)\n",
    "create_images_from_videos(val_real_files, suffix=\"REAL\", folder=\"val\", num_frames=10)"
   ]
  }
 ],
 "metadata": {
  "kernelspec": {
   "display_name": "Python (dl)",
   "language": "python",
   "name": "dl"
  },
  "language_info": {
   "codemirror_mode": {
    "name": "ipython",
    "version": 3
   },
   "file_extension": ".py",
   "mimetype": "text/x-python",
   "name": "python",
   "nbconvert_exporter": "python",
   "pygments_lexer": "ipython3",
   "version": "3.7.6"
  }
 },
 "nbformat": 4,
 "nbformat_minor": 4
}
