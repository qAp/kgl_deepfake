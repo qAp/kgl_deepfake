{
 "cells": [
  {
   "cell_type": "markdown",
   "metadata": {},
   "source": [
    "## Create Easy Dataset"
   ]
  },
  {
   "cell_type": "markdown",
   "metadata": {},
   "source": [
    "I have manually curated 100 **FAKE** videos in which I believe it is trivially easy for a human to identify that there is a deepfake present in the video.\n",
    "\n",
    "Most of these videos contain one person in a well-lit environment."
   ]
  },
  {
   "cell_type": "code",
   "execution_count": 1,
   "metadata": {},
   "outputs": [],
   "source": [
    "import os\n",
    "import cv2\n",
    "\n",
    "import numpy as np\n",
    "import pandas as pd\n",
    "import matplotlib.pyplot as plt\n",
    "\n",
    "from PIL import Image\n",
    "from pathlib import Path\n",
    "from os import listdir\n",
    "from tqdm.notebook import tqdm\n",
    "\n",
    "from EasyBlazeFace import EasyBlazeFace\n",
    "from EasyRetinaFace import EasyRetinaFace"
   ]
  },
  {
   "cell_type": "markdown",
   "metadata": {},
   "source": [
    "Since we're working with files across all directories, let's join all the metadata file together."
   ]
  },
  {
   "cell_type": "code",
   "execution_count": 2,
   "metadata": {},
   "outputs": [],
   "source": [
    "# Join metadata files into single dataframe\n",
    "metadata_list = []\n",
    "\n",
    "for i in range(50):\n",
    "    folder = Path(\"../data/dfdc_train_part_\" + str(i))\n",
    "    metadata_file_path = folder/'metadata.json'\n",
    "    metadata = pd.read_json(metadata_file_path).T\n",
    "\n",
    "    metadata.reset_index(inplace=True)\n",
    "    metadata.rename({'index':'fname'}, axis=1, inplace=True)\n",
    "    \n",
    "    metadata['directory'] =  str(folder) \n",
    "    \n",
    "    metadata_list.append(metadata)\n",
    "    \n",
    "    \n",
    "all_metadata = pd.concat(metadata_list)"
   ]
  },
  {
   "cell_type": "code",
   "execution_count": 3,
   "metadata": {},
   "outputs": [
    {
     "data": {
      "text/html": [
       "<div>\n",
       "<style scoped>\n",
       "    .dataframe tbody tr th:only-of-type {\n",
       "        vertical-align: middle;\n",
       "    }\n",
       "\n",
       "    .dataframe tbody tr th {\n",
       "        vertical-align: top;\n",
       "    }\n",
       "\n",
       "    .dataframe thead th {\n",
       "        text-align: right;\n",
       "    }\n",
       "</style>\n",
       "<table border=\"1\" class=\"dataframe\">\n",
       "  <thead>\n",
       "    <tr style=\"text-align: right;\">\n",
       "      <th></th>\n",
       "      <th>fname</th>\n",
       "      <th>label</th>\n",
       "      <th>split</th>\n",
       "      <th>original</th>\n",
       "      <th>directory</th>\n",
       "    </tr>\n",
       "  </thead>\n",
       "  <tbody>\n",
       "    <tr>\n",
       "      <th>3129</th>\n",
       "      <td>pdooqxqfrm.mp4</td>\n",
       "      <td>FAKE</td>\n",
       "      <td>train</td>\n",
       "      <td>ikebomnsiq.mp4</td>\n",
       "      <td>../data/dfdc_train_part_49</td>\n",
       "    </tr>\n",
       "    <tr>\n",
       "      <th>3130</th>\n",
       "      <td>djjdcnhlma.mp4</td>\n",
       "      <td>FAKE</td>\n",
       "      <td>train</td>\n",
       "      <td>kudvvlgiff.mp4</td>\n",
       "      <td>../data/dfdc_train_part_49</td>\n",
       "    </tr>\n",
       "    <tr>\n",
       "      <th>3131</th>\n",
       "      <td>fgmbxfqoze.mp4</td>\n",
       "      <td>REAL</td>\n",
       "      <td>train</td>\n",
       "      <td>NaN</td>\n",
       "      <td>../data/dfdc_train_part_49</td>\n",
       "    </tr>\n",
       "    <tr>\n",
       "      <th>3132</th>\n",
       "      <td>cywebjaezn.mp4</td>\n",
       "      <td>REAL</td>\n",
       "      <td>train</td>\n",
       "      <td>NaN</td>\n",
       "      <td>../data/dfdc_train_part_49</td>\n",
       "    </tr>\n",
       "    <tr>\n",
       "      <th>3133</th>\n",
       "      <td>ohmkmcfxul.mp4</td>\n",
       "      <td>FAKE</td>\n",
       "      <td>train</td>\n",
       "      <td>hysmzkqsdl.mp4</td>\n",
       "      <td>../data/dfdc_train_part_49</td>\n",
       "    </tr>\n",
       "  </tbody>\n",
       "</table>\n",
       "</div>"
      ],
      "text/plain": [
       "               fname label  split        original                   directory\n",
       "3129  pdooqxqfrm.mp4  FAKE  train  ikebomnsiq.mp4  ../data/dfdc_train_part_49\n",
       "3130  djjdcnhlma.mp4  FAKE  train  kudvvlgiff.mp4  ../data/dfdc_train_part_49\n",
       "3131  fgmbxfqoze.mp4  REAL  train             NaN  ../data/dfdc_train_part_49\n",
       "3132  cywebjaezn.mp4  REAL  train             NaN  ../data/dfdc_train_part_49\n",
       "3133  ohmkmcfxul.mp4  FAKE  train  hysmzkqsdl.mp4  ../data/dfdc_train_part_49"
      ]
     },
     "execution_count": 3,
     "metadata": {},
     "output_type": "execute_result"
    }
   ],
   "source": [
    "all_metadata.tail()"
   ]
  },
  {
   "cell_type": "code",
   "execution_count": 4,
   "metadata": {},
   "outputs": [
    {
     "data": {
      "text/plain": [
       "100"
      ]
     },
     "execution_count": 4,
     "metadata": {},
     "output_type": "execute_result"
    }
   ],
   "source": [
    "# A list of easy FAKE videos from folders 0 to 19\n",
    "fake_files = ['avwwbtbtqr.mp4', 'atosiqqljt.mp4', 'adcbeqixvb.mp4', 'copybkdfji.mp4', 'bokwfrmeyv.mp4', 'eqmokglwxl.mp4',\n",
    "          'iceyyvssxc.mp4', 'aofuhtnouj.mp4', 'asjzklsxgb.mp4', 'cfgcngmdjn.mp4', 'agikkrfetn.mp4', 'bnhjdjlszu.mp4',\n",
    "          'fdhmvpdhmg.mp4', 'jhnrzqlhxk.mp4', 'addyjceutz.mp4', 'mzccvujkfo.mp4', 'abbazlhmhz.mp4', 'agrzhzapku.mp4',\n",
    "          'afrgmowivl.mp4', 'brrdxgrikt.mp4', 'aadlvezwah.mp4', 'drvtugrrjx.mp4', 'rlkygewnwi.mp4', 'golmvrouze.mp4',\n",
    "          'ahbroumuqx.mp4', 'afcxyiwatf.mp4', 'asngnptgeu.mp4', 'bynggtiynv.mp4', 'fviqzhbyfd.mp4', 'aatzuimcwr.mp4',\n",
    "          'feyilafcbb.mp4', 'aysxspqqdm.mp4', 'bvmplbmqde.mp4', 'blbcnohsup.mp4', 'elxxsfuyhl.mp4', 'fukhunlqmn.mp4',\n",
    "          'iilrffkxoh.mp4', 'abssjquwjy.mp4', 'ezlehpbfya.mp4', 'aebgvmafzx.mp4', 'aasjtiyjip.mp4', 'deagrwoqak.mp4',\n",
    "          'ccqrbbudlr.mp4', 'bsctqevgne.mp4', 'sbmfakhsez.mp4', 'asifdtncje.mp4', 'bnzlmqqdyh.mp4', 'gvekjxzsik.mp4',\n",
    "          'hogmvuuhhl.mp4', 'bxdbfogqbx.mp4', 'azlwgfnjpi.mp4', 'fknonbqgdm.mp4', 'iipackcsoi.mp4', 'rbfbzjmxot.mp4',\n",
    "          'bgxvtdyush.mp4', 'acsnnvnvhy.mp4', 'dgkdcvnhrr.mp4', 'abvmydmmpd.mp4', 'utjwjpkidv.mp4', 'fbenvdzzqa.mp4',\n",
    "          'acpaumltcm.mp4', 'dhprsxhlmn.mp4', 'ipblyaohlp.mp4', 'blplivuqcr.mp4', 'aknnjyuypy.mp4', 'eduebqhpua.mp4',\n",
    "          'dpygtovvqe.mp4', 'bflarmyzne.mp4', 'adarbftbnt.mp4', 'bqgreinner.mp4', 'clzyspsagz.mp4', 'hkfecpjiua.mp4',\n",
    "          'dtrasqdgid.mp4', 'fargvrswxy.mp4', 'flnyxtghwk.mp4', 'dlrfpvskey.mp4', 'fpakfdhuqh.mp4', 'gmcpavifht.mp4',\n",
    "          'fkzmdpmcbc.mp4', 'lzrzihalqz.mp4', 'fhxomiwsov.mp4', 'ibelgqucrk.mp4', 'ahthfectji.mp4', 'amsqbtaqxr.mp4',\n",
    "          'ccjorzzmdo.mp4', 'bqrqsamrah.mp4', 'gsvlvvaliu.mp4', 'gglukbwbin.mp4', 'aisumjkudv.mp4', 'bgpnbmjuqq.mp4',\n",
    "          'jeivlervlc.mp4', 'aauhqwwncp.mp4', 'blggyzbach.mp4', 'cpsttjlkme.mp4', 'hsagxqxhni.mp4', 'hvgwvloonr.mp4',\n",
    "          'aaagqkcdis.mp4', 'ajiwnpctlh.mp4', 'axfekcjvqk.mp4', 'abjvfvhtnp.mp4']\n",
    "len(fake_files)"
   ]
  },
  {
   "cell_type": "markdown",
   "metadata": {},
   "source": [
    "We would like to build up a training dataset using these and other videos. We currently have 100 fake videos.\n",
    "\n",
    "We would like:\n",
    "\n",
    "- 100 Fake Videos\n",
    "- 100 Real Videos corresponding to the fake videos"
   ]
  },
  {
   "cell_type": "code",
   "execution_count": 5,
   "metadata": {},
   "outputs": [],
   "source": [
    "real_files = []\n",
    "\n",
    "for file in fake_files:\n",
    "    \n",
    "    row = all_metadata.loc[all_metadata['fname'] == file]\n",
    "    original = row['original'].iloc[0]\n",
    "    \n",
    "    real_files.append(original)"
   ]
  },
  {
   "cell_type": "code",
   "execution_count": 6,
   "metadata": {},
   "outputs": [
    {
     "data": {
      "text/plain": [
       "100"
      ]
     },
     "execution_count": 6,
     "metadata": {},
     "output_type": "execute_result"
    }
   ],
   "source": [
    "len(real_files)"
   ]
  },
  {
   "cell_type": "markdown",
   "metadata": {},
   "source": [
    "## Generate Image Dataset"
   ]
  },
  {
   "cell_type": "markdown",
   "metadata": {},
   "source": [
    "We want to take all of these videos, break them apart into frames and take some of the frames and create an image dataset with them."
   ]
  },
  {
   "cell_type": "code",
   "execution_count": 7,
   "metadata": {},
   "outputs": [],
   "source": [
    "import random"
   ]
  },
  {
   "cell_type": "code",
   "execution_count": 8,
   "metadata": {},
   "outputs": [],
   "source": [
    "def read_frame_as_size(video_path, size=(128, 128)):\n",
    "    capture = cv2.VideoCapture(str(video_path))\n",
    "    ret, frame = capture.read()\n",
    "    frame = cv2.cvtColor(frame, cv2.COLOR_BGR2RGB)\n",
    "    frame = cv2.resize(frame, size)\n",
    "    capture.release()\n",
    "    return frame\n",
    "\n",
    "\n",
    "def read_frame(video_path):\n",
    "    capture = cv2.VideoCapture(str(video_path))\n",
    "    ret, frame = capture.read()\n",
    "    frame = cv2.cvtColor(frame, cv2.COLOR_BGR2RGB)\n",
    "    capture.release()\n",
    "    return frame\n",
    "\n",
    "\n",
    "def read_all_frames(video_path):\n",
    "    capture = cv2.VideoCapture(str(video_path))\n",
    "    all_frames = []\n",
    "    ret = True\n",
    "    while True:\n",
    "        ret, frame = capture.read()\n",
    "        if ret:\n",
    "            frame = cv2.cvtColor(frame, cv2.COLOR_BGR2RGB)\n",
    "            all_frames.append(frame)\n",
    "        else:\n",
    "            break\n",
    "\n",
    "    capture.release()\n",
    "    return all_frames\n",
    "\n",
    "\n",
    "def read_random_frame(video_path):\n",
    "    \n",
    "    capture = cv2.VideoCapture(str(video_path))\n",
    "    frame_count = int(capture.get(cv2.CAP_PROP_FRAME_COUNT))    \n",
    "    random_frame = int(random.random() * frame_count)\n",
    "    # Set to read specific frame\n",
    "    capture.set(cv2.CAP_PROP_POS_FRAMES, random_frame)\n",
    "    ret, frame = capture.read()\n",
    "    frame = cv2.cvtColor(frame, cv2.COLOR_BGR2RGB)\n",
    "    capture.release()\n",
    "    return frame"
   ]
  },
  {
   "cell_type": "code",
   "execution_count": 9,
   "metadata": {},
   "outputs": [
    {
     "name": "stdout",
     "output_type": "stream",
     "text": [
      "Loading pretrained model from Pytorch_Retinaface/weights/Resnet50_Final.pth\n",
      "remove prefix 'module.'\n",
      "Missing keys:0\n",
      "Unused checkpoint keys:0\n",
      "Used keys:456\n"
     ]
    }
   ],
   "source": [
    "blazeface = EasyRetinaFace()"
   ]
  },
  {
   "cell_type": "code",
   "execution_count": 10,
   "metadata": {},
   "outputs": [],
   "source": [
    "def create_images_from_videos(files, suffix, folder='train', num_frames=10):\n",
    "    for file in tqdm(files):\n",
    "        row = all_metadata.loc[all_metadata['fname'] == file].iloc[0]\n",
    "\n",
    "        video_path = row['directory'] + \"/\" + row['fname']\n",
    "        \n",
    "        \n",
    "        for i in range(num_frames):\n",
    "            random_frame = read_random_frame(video_path)\n",
    "\n",
    "            # Face Detection\n",
    "            detections = blazeface.detect(random_frame)\n",
    "\n",
    "            if len(detections) > 0:\n",
    "                x_min, y_min, x_max, y_max, prob = detections[0]\n",
    "\n",
    "                #Crop the face\n",
    "                raw_crop = random_frame[int(y_min):int(y_max), int(x_min):int(x_max)]\n",
    "\n",
    "                #Save to disk\n",
    "                im = Image.fromarray(raw_crop)\n",
    "                im.save(\"../data/\" + folder + \"/\" + row['fname'] + \"_\" + str(i) + \"_\" + suffix +\".png\")    \n",
    "            else:\n",
    "                print(\"Couldn't find image for\", video_path)"
   ]
  },
  {
   "cell_type": "code",
   "execution_count": 11,
   "metadata": {},
   "outputs": [
    {
     "data": {
      "text/plain": [
       "(100, 100)"
      ]
     },
     "execution_count": 11,
     "metadata": {},
     "output_type": "execute_result"
    }
   ],
   "source": [
    "len(fake_files), len(real_files)"
   ]
  },
  {
   "cell_type": "code",
   "execution_count": 12,
   "metadata": {},
   "outputs": [],
   "source": [
    "train_fake_files = fake_files[:80]\n",
    "train_real_files = real_files[:80]\n",
    "\n",
    "val_fake_files = fake_files[80:]\n",
    "val_real_files = real_files[80:]"
   ]
  },
  {
   "cell_type": "code",
   "execution_count": 13,
   "metadata": {},
   "outputs": [
    {
     "data": {
      "application/vnd.jupyter.widget-view+json": {
       "model_id": "3dbbce41a79141ceacddd9ec5d6b5196",
       "version_major": 2,
       "version_minor": 0
      },
      "text/plain": [
       "HBox(children=(FloatProgress(value=0.0, max=80.0), HTML(value='')))"
      ]
     },
     "metadata": {},
     "output_type": "display_data"
    },
    {
     "name": "stdout",
     "output_type": "stream",
     "text": [
      "Couldn't find image for ../data/dfdc_train_part_18/asifdtncje.mp4\n",
      "Couldn't find image for ../data/dfdc_train_part_8/fargvrswxy.mp4\n",
      "Couldn't find image for ../data/dfdc_train_part_8/fargvrswxy.mp4\n",
      "Couldn't find image for ../data/dfdc_train_part_8/fargvrswxy.mp4\n",
      "Couldn't find image for ../data/dfdc_train_part_8/fargvrswxy.mp4\n",
      "Couldn't find image for ../data/dfdc_train_part_8/fargvrswxy.mp4\n",
      "\n"
     ]
    },
    {
     "data": {
      "application/vnd.jupyter.widget-view+json": {
       "model_id": "c37c8010b5da40b880e2a15e57f0ee2c",
       "version_major": 2,
       "version_minor": 0
      },
      "text/plain": [
       "HBox(children=(FloatProgress(value=0.0, max=80.0), HTML(value='')))"
      ]
     },
     "metadata": {},
     "output_type": "display_data"
    },
    {
     "name": "stdout",
     "output_type": "stream",
     "text": [
      "\n"
     ]
    },
    {
     "data": {
      "application/vnd.jupyter.widget-view+json": {
       "model_id": "26f65760033d405fa9072f57a146c147",
       "version_major": 2,
       "version_minor": 0
      },
      "text/plain": [
       "HBox(children=(FloatProgress(value=0.0, max=80.0), HTML(value='')))"
      ]
     },
     "metadata": {},
     "output_type": "display_data"
    },
    {
     "name": "stdout",
     "output_type": "stream",
     "text": [
      "Couldn't find image for ../data/dfdc_train_part_18/asifdtncje.mp4\n",
      "Couldn't find image for ../data/dfdc_train_part_8/fargvrswxy.mp4\n",
      "Couldn't find image for ../data/dfdc_train_part_8/fargvrswxy.mp4\n",
      "Couldn't find image for ../data/dfdc_train_part_8/fargvrswxy.mp4\n",
      "\n"
     ]
    },
    {
     "data": {
      "application/vnd.jupyter.widget-view+json": {
       "model_id": "b2aea485eece4382ac6cd6726f160f10",
       "version_major": 2,
       "version_minor": 0
      },
      "text/plain": [
       "HBox(children=(FloatProgress(value=0.0, max=80.0), HTML(value='')))"
      ]
     },
     "metadata": {},
     "output_type": "display_data"
    },
    {
     "name": "stdout",
     "output_type": "stream",
     "text": [
      "\n"
     ]
    }
   ],
   "source": [
    "# Make training files\n",
    "os.makedirs('../data/train', exist_ok=True)\n",
    "\n",
    "create_images_from_videos(train_fake_files, suffix=\"FAKE\", folder=\"train\", num_frames=10)\n",
    "create_images_from_videos(train_real_files, suffix=\"REAL\", folder=\"train\", num_frames=10)\n",
    "\n"
   ]
  },
  {
   "cell_type": "code",
   "execution_count": 14,
   "metadata": {},
   "outputs": [
    {
     "data": {
      "application/vnd.jupyter.widget-view+json": {
       "model_id": "01670ce0d6ef473cb78a515deffbb2dc",
       "version_major": 2,
       "version_minor": 0
      },
      "text/plain": [
       "HBox(children=(FloatProgress(value=0.0, max=20.0), HTML(value='')))"
      ]
     },
     "metadata": {},
     "output_type": "display_data"
    },
    {
     "name": "stdout",
     "output_type": "stream",
     "text": [
      "Couldn't find image for ../data/dfdc_train_part_6/ahthfectji.mp4\n",
      "Couldn't find image for ../data/dfdc_train_part_6/ahthfectji.mp4\n",
      "\n"
     ]
    },
    {
     "data": {
      "application/vnd.jupyter.widget-view+json": {
       "model_id": "6539d3489ad14de295cf0434d7cb7e87",
       "version_major": 2,
       "version_minor": 0
      },
      "text/plain": [
       "HBox(children=(FloatProgress(value=0.0, max=20.0), HTML(value='')))"
      ]
     },
     "metadata": {},
     "output_type": "display_data"
    },
    {
     "name": "stdout",
     "output_type": "stream",
     "text": [
      "\n"
     ]
    }
   ],
   "source": [
    "# Make validation files\n",
    "os.makedirs('../data/val', exist_ok=True)\n",
    "create_images_from_videos(val_fake_files, suffix=\"FAKE\", folder=\"val\", num_frames=10)\n",
    "create_images_from_videos(val_real_files, suffix=\"REAL\", folder=\"val\", num_frames=10)"
   ]
  },
  {
   "cell_type": "markdown",
   "metadata": {},
   "source": [
    "Great, so now we have a dataset we can use!"
   ]
  }
 ],
 "metadata": {
  "kernelspec": {
   "display_name": "Python (dl)",
   "language": "python",
   "name": "dl"
  },
  "language_info": {
   "codemirror_mode": {
    "name": "ipython",
    "version": 3
   },
   "file_extension": ".py",
   "mimetype": "text/x-python",
   "name": "python",
   "nbconvert_exporter": "python",
   "pygments_lexer": "ipython3",
   "version": "3.7.6"
  }
 },
 "nbformat": 4,
 "nbformat_minor": 4
}
