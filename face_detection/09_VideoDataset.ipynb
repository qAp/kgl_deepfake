{
 "cells": [
  {
   "cell_type": "markdown",
   "metadata": {},
   "source": [
    "## Video Dataset"
   ]
  },
  {
   "cell_type": "markdown",
   "metadata": {},
   "source": [
    "Up until this point we have been training models on single frames from a video. Let's try training them on multiple frames instead.\n",
    "\n",
    "To start, we'll take all of the videos in `HardDeepFakes` and create 4 frame subsets of them."
   ]
  },
  {
   "cell_type": "code",
   "execution_count": 1,
   "metadata": {},
   "outputs": [],
   "source": [
    "import os\n",
    "import glob\n",
    "import torch\n",
    "\n",
    "from pathlib import Path\n",
    "import numpy as np\n",
    "import torch.nn.functional as F\n",
    "import fastai\n",
    "from fastai.vision import *\n",
    "from fastai.basics import *\n",
    "from utils import read_random_sequential_frames, plot_detections\n",
    "from tqdm.notebook import tqdm\n",
    "\n",
    "import matplotlib.pyplot as plt\n",
    "\n",
    "from EasyBlazeFace import EasyBlazeFace"
   ]
  },
  {
   "cell_type": "code",
   "execution_count": 2,
   "metadata": {},
   "outputs": [],
   "source": [
    "# Video location\n",
    "hard_data = Path('../data/hard_data')\n",
    "easy_data = Path('../data/easy_data')\n",
    "hard_videos = [Path(f) for f in glob.glob('../data/hard_data/*.mp4')]\n",
    "easy_videos = [Path(f) for f in glob.glob('../data/easy_data/*.mp4')]\n",
    "\n",
    "# 4-Frame Image Location\n",
    "hard_data_four_frames = Path('../data/hard_data_four_frames')\n",
    "easy_data_four_frames = Path('../data/easy_data_four_frames')\n",
    "os.makedirs(hard_data_four_frames, exist_ok=True)\n",
    "os.makedirs(easy_data_four_frames, exist_ok=True)"
   ]
  },
  {
   "cell_type": "code",
   "execution_count": 22,
   "metadata": {},
   "outputs": [],
   "source": [
    "# Join metadata files into single dataframe\n",
    "metadata_list = []\n",
    "\n",
    "for i in range(50):\n",
    "    folder = Path(\"../data/dfdc_train_part_\" + str(i))\n",
    "    metadata_file_path = folder/'metadata.json'\n",
    "    metadata = pd.read_json(metadata_file_path).T\n",
    "\n",
    "    metadata.reset_index(inplace=True)\n",
    "    metadata.rename({'index':'fname'}, axis=1, inplace=True)\n",
    "    \n",
    "    metadata['directory'] =  str(folder) \n",
    "    \n",
    "    metadata_list.append(metadata)\n",
    "    \n",
    "    \n",
    "all_metadata = pd.concat(metadata_list)"
   ]
  },
  {
   "cell_type": "code",
   "execution_count": 23,
   "metadata": {},
   "outputs": [
    {
     "data": {
      "text/plain": [
       "100"
      ]
     },
     "execution_count": 23,
     "metadata": {},
     "output_type": "execute_result"
    }
   ],
   "source": [
    "fake_files = ['aaiqsitvnd.mp4', 'afvlrevses.mp4', 'azqycoiiuk.mp4', 'aawkmrlilr.mp4', 'bjxzcaifpw.mp4',\n",
    "              'cjstqmiyud.mp4', 'ajxpaiqcee.mp4', 'yumeecupaw.mp4', 'bbbmfffsad.mp4', 'bbaeewtqei.mp4',\n",
    "               'aafcgzwvmy.mp4', 'dwqhiwmswx.mp4', 'cczisiwrmd.mp4', 'danyfkofxk.mp4', 'aetpnobkcv.mp4',\n",
    "               'agswjtuhss.mp4', 'ctjewcqxee.mp4', 'baxdvqglnu.mp4', 'houzrrfbqg.mp4', 'acfaxepklq.mp4',\n",
    "               'tfaxqkuhoh.mp4', 'cmoqplbifs.mp4', 'aihvsjluzl.mp4', 'aazkzzkbns.mp4', 'ahqausishe.mp4',\n",
    "               'atwmgvaauf.mp4', 'aafezqchru.mp4', 'aetbyrujti.mp4', 'dqqwmmwlbg.mp4', 'zuweqkkudv.mp4',\n",
    "               'cathvygbkb.mp4', 'bgkmgallha.mp4', 'alhsvhumdw.mp4', 'bbfewvawtu.mp4', 'dkrvorliqc.mp4',\n",
    "               'abkxlatant.mp4', 'ajnzuiktuo.mp4', 'bdbryopkaa.mp4', 'xnmmweqmdt.mp4', 'bvhzopqkek.mp4',\n",
    "               'aaqaifqrwn.mp4', 'bsprlfyyyc.mp4', 'agbfymrrhv.mp4', 'aiuvaldnqj.mp4', 'cmgmhevsmr.mp4',\n",
    "               'aabkwhhgwv.mp4', 'djjafmdtxy.mp4', 'zwwvpycsis.mp4', 'dmzbzcjsrg.mp4', 'efghsdmasb.mp4',\n",
    "               'coulkppulq.mp4', 'adtovspidj.mp4', 'arqhhrzzfe.mp4', 'cjetyhnwpr.mp4', 'akqjhilhtc.mp4',\n",
    "               'alddoocxqo.mp4', 'aahzjreawd.mp4', 'zvhdwittmk.mp4', 'avfoukjslp.mp4', 'abteztchqz.mp4',\n",
    "               'abfvpzjkwr.mp4', 'aakkdgsmvl.mp4', 'cdyoiiuszk.mp4', 'beshruwzkt.mp4', 'aakjukgjme.mp4',\n",
    "               'aqgkloqxld.mp4', 'hfkwogkzid.mp4', 'avocsaizhx.mp4', 'ammkabwonw.mp4', 'avcnyamvrb.mp4',\n",
    "               'anrlivgkfq.mp4', 'cnbtegsjlx.mp4', 'cbulmphxfg.mp4', 'acgyspwyqr.mp4', 'abhdaoikio.mp4',\n",
    "               'azivnorcbt.mp4', 'agsrndrnjg.mp4', 'aemldzfofe.mp4', 'aaeucwtkdx.mp4', 'cqnutosgsm.mp4',\n",
    "               'ackyrwxeew.mp4', 'aagundkpoh.mp4', 'bzqemivbgx.mp4', 'akaqyxcfep.mp4', 'bnbxarxyqk.mp4',\n",
    "               'dywkdfclzy.mp4', 'aqfeqkckjs.mp4', 'azpamhpoyy.mp4', 'aoclawrydd.mp4', 'ahpaydsovz.mp4',\n",
    "               'ahencqpiin.mp4', 'aaaoqepxnf.mp4', 'caqderfjql.mp4', 'aawhvztjdt.mp4', 'ayclhmjajg.mp4',\n",
    "               'bmjmjmbglm.mp4', 'bacnffbyky.mp4', 'abhgyltuqg.mp4', 'azylwizjmc.mp4', 'asgzesadhh.mp4']\n",
    "\n",
    "len(fake_files)"
   ]
  },
  {
   "cell_type": "code",
   "execution_count": 25,
   "metadata": {},
   "outputs": [
    {
     "data": {
      "text/plain": [
       "100"
      ]
     },
     "execution_count": 25,
     "metadata": {},
     "output_type": "execute_result"
    }
   ],
   "source": [
    "real_files = []\n",
    "\n",
    "for file in fake_files:\n",
    "    \n",
    "    row = all_metadata.loc[all_metadata['fname'] == file]\n",
    "    original = row['original'].iloc[0]\n",
    "    \n",
    "    real_files.append(original)\n",
    "    \n",
    "len(real_files)"
   ]
  },
  {
   "cell_type": "code",
   "execution_count": 26,
   "metadata": {},
   "outputs": [],
   "source": [
    "train_fake_files = fake_files[:80]\n",
    "train_real_files = real_files[:80]\n",
    "\n",
    "val_fake_files = fake_files[80:]\n",
    "val_real_files = real_files[80:]"
   ]
  },
  {
   "cell_type": "code",
   "execution_count": 3,
   "metadata": {},
   "outputs": [],
   "source": [
    "detector = EasyBlazeFace()"
   ]
  },
  {
   "cell_type": "code",
   "execution_count": 32,
   "metadata": {},
   "outputs": [],
   "source": [
    "def get_faces_from_multiple_frames(path, num_frames=10):\n",
    "    \"\"\"\n",
    "    Given the path to a video (.mp4) read `num_frames` sequential random frames\n",
    "    and return any faces found within the frames.\n",
    "    \"\"\"\n",
    "    \n",
    "    frames = read_random_sequential_frames(path, num_frames=num_frames)\n",
    "          \n",
    "    # Get a set of detections for these frames\n",
    "    detections_for_frames = detector.detect_on_multiple_frames(frames)\n",
    "    \n",
    "    if len(detections_for_frames) == 0:\n",
    "        return []\n",
    "    \n",
    "    # A list of the detections for each face in the video.\n",
    "    # Each face has one set of coordinates that contains ALL of the bounding boxes from every frame.\n",
    "    largest_detections = []\n",
    "\n",
    "    # Get detections for the first frame\n",
    "    firstFrameDetections = detections_for_frames[0]\n",
    "    for x_min, y_min, x_max, y_max, _  in firstFrameDetections:\n",
    "        largest_detections.append([x_min, y_min, x_max, y_max])\n",
    "        \n",
    "       \n",
    "    for detections in detections_for_frames[1:]:\n",
    "    \n",
    "        # TODO: Generalize for videos with multiple people\n",
    "        only_detection = detections[0]\n",
    "        x_min, y_min, x_max, y_max, _ = only_detection\n",
    "\n",
    "        # TODO: Generalize for videos with multiple people\n",
    "        current_largest_detection = largest_detections[0]\n",
    "        current_x_min, current_y_min, current_x_max, current_y_max = current_largest_detection\n",
    "\n",
    "        # Expand the bounding box if neccessary to include this one\n",
    "        current_x_min = min(x_min, current_x_min)\n",
    "        current_y_min = min(y_min, current_y_min)\n",
    "        current_x_max = max(x_max, current_x_max)\n",
    "        current_y_max = max(y_max, current_y_max)\n",
    "\n",
    "        # TODO: Generalize for videos with multiple people\n",
    "        largest_detections[0] = [current_x_min, current_y_min, current_x_max, current_y_max]\n",
    "        \n",
    "    # Now that we have a set of detections, apply them against the frames and \n",
    "    # return only the portions of the frames that contain the face\n",
    "    faces = []\n",
    "    for x_min, y_min, x_max, y_max in largest_detections:\n",
    "        # Get only the face from the frames\n",
    "        face_frames = frames[:, int(y_min):int(y_max), int(x_min):int(x_max)]\n",
    "        faces.append(face_frames)\n",
    "    \n",
    "    return faces"
   ]
  },
  {
   "cell_type": "code",
   "execution_count": 38,
   "metadata": {
    "scrolled": true
   },
   "outputs": [],
   "source": [
    "def create_frames_from_videos(files, suffix, folder='train', num_frames=10):\n",
    "\n",
    "    for file in tqdm(files):\n",
    "        \n",
    "        row = all_metadata.loc[all_metadata['fname'] == file].iloc[0]\n",
    "        video_path = row['directory'] + \"/\" + row['fname']\n",
    "        \n",
    "        # Get faces from frames\n",
    "        #print(video_path)\n",
    "        faces = get_faces_from_multiple_frames(video_path, num_frames=num_frames)\n",
    "\n",
    "        if len(faces) == 0:\n",
    "            print(\"NOTHING FOR:\", video_path)\n",
    "            continue\n",
    "\n",
    "        # TODO: Generalize for videos with multiple people\n",
    "        faces = faces[0]\n",
    "\n",
    "        #plt.imshow(faces[0])\n",
    "        #plt.show()\n",
    "\n",
    "        # Save as .npy file    \n",
    "        save_path = \"../data/\" + folder + \"/\" + row['fname'] + \"_\" + suffix + \".npy\"    \n",
    "        np.save(save_path, faces)"
   ]
  },
  {
   "cell_type": "code",
   "execution_count": 39,
   "metadata": {},
   "outputs": [
    {
     "data": {
      "application/vnd.jupyter.widget-view+json": {
       "model_id": "616ff0c7248841c5a4411b6224a8171e",
       "version_major": 2,
       "version_minor": 0
      },
      "text/plain": [
       "HBox(children=(FloatProgress(value=0.0, max=80.0), HTML(value='')))"
      ]
     },
     "metadata": {},
     "output_type": "display_data"
    },
    {
     "name": "stdout",
     "output_type": "stream",
     "text": [
      "NOTHING FOR: ../data/dfdc_train_part_2/bbaeewtqei.mp4\n",
      "NOTHING FOR: ../data/dfdc_train_part_31/aafcgzwvmy.mp4\n",
      "NOTHING FOR: ../data/dfdc_train_part_2/houzrrfbqg.mp4\n",
      "NOTHING FOR: ../data/dfdc_train_part_29/alhsvhumdw.mp4\n",
      "NOTHING FOR: ../data/dfdc_train_part_4/xnmmweqmdt.mp4\n",
      "NOTHING FOR: ../data/dfdc_train_part_30/aiuvaldnqj.mp4\n",
      "NOTHING FOR: ../data/dfdc_train_part_26/efghsdmasb.mp4\n",
      "NOTHING FOR: ../data/dfdc_train_part_34/adtovspidj.mp4\n",
      "NOTHING FOR: ../data/dfdc_train_part_34/aemldzfofe.mp4\n",
      "NOTHING FOR: ../data/dfdc_train_part_43/cqnutosgsm.mp4\n",
      "\n"
     ]
    },
    {
     "data": {
      "application/vnd.jupyter.widget-view+json": {
       "model_id": "55b20bdbcf7b44b79857563a5a3d6b49",
       "version_major": 2,
       "version_minor": 0
      },
      "text/plain": [
       "HBox(children=(FloatProgress(value=0.0, max=80.0), HTML(value='')))"
      ]
     },
     "metadata": {},
     "output_type": "display_data"
    },
    {
     "name": "stdout",
     "output_type": "stream",
     "text": [
      "NOTHING FOR: ../data/dfdc_train_part_2/rfukeoxpqu.mp4\n",
      "NOTHING FOR: ../data/dfdc_train_part_31/nebevwudhr.mp4\n",
      "NOTHING FOR: ../data/dfdc_train_part_2/dmmvuaikkv.mp4\n",
      "NOTHING FOR: ../data/dfdc_train_part_29/lbppsmfyvw.mp4\n",
      "NOTHING FOR: ../data/dfdc_train_part_4/mlhjazstxo.mp4\n",
      "NOTHING FOR: ../data/dfdc_train_part_30/nzjytxaetf.mp4\n",
      "NOTHING FOR: ../data/dfdc_train_part_45/imsacxixmv.mp4\n",
      "NOTHING FOR: ../data/dfdc_train_part_26/miofchbvht.mp4\n",
      "NOTHING FOR: ../data/dfdc_train_part_34/plbtpvjmae.mp4\n",
      "NOTHING FOR: ../data/dfdc_train_part_49/ubydbjxdmr.mp4\n",
      "NOTHING FOR: ../data/dfdc_train_part_45/cmyvjmgldk.mp4\n",
      "NOTHING FOR: ../data/dfdc_train_part_34/glefulamyk.mp4\n",
      "NOTHING FOR: ../data/dfdc_train_part_43/ibgylexamz.mp4\n",
      "\n"
     ]
    }
   ],
   "source": [
    "# Make training files\n",
    "os.makedirs('../data/train', exist_ok=True)\n",
    "\n",
    "create_frames_from_videos(train_fake_files, suffix=\"FAKE\", folder=\"train\", num_frames=10)\n",
    "create_frames_from_videos(train_real_files, suffix=\"REAL\", folder=\"train\", num_frames=10)"
   ]
  },
  {
   "cell_type": "code",
   "execution_count": 41,
   "metadata": {},
   "outputs": [
    {
     "data": {
      "application/vnd.jupyter.widget-view+json": {
       "model_id": "35cddfb255c944068ed2799c0e88da3c",
       "version_major": 2,
       "version_minor": 0
      },
      "text/plain": [
       "HBox(children=(FloatProgress(value=0.0, max=20.0), HTML(value='')))"
      ]
     },
     "metadata": {},
     "output_type": "display_data"
    },
    {
     "name": "stdout",
     "output_type": "stream",
     "text": [
      "NOTHING FOR: ../data/dfdc_train_part_47/aqfeqkckjs.mp4\n",
      "NOTHING FOR: ../data/dfdc_train_part_37/azpamhpoyy.mp4\n",
      "NOTHING FOR: ../data/dfdc_train_part_34/abhgyltuqg.mp4\n",
      "NOTHING FOR: ../data/dfdc_train_part_37/azylwizjmc.mp4\n",
      "\n"
     ]
    },
    {
     "data": {
      "application/vnd.jupyter.widget-view+json": {
       "model_id": "b341bbc670f8471a869ac0e491039a91",
       "version_major": 2,
       "version_minor": 0
      },
      "text/plain": [
       "HBox(children=(FloatProgress(value=0.0, max=20.0), HTML(value='')))"
      ]
     },
     "metadata": {},
     "output_type": "display_data"
    },
    {
     "name": "stdout",
     "output_type": "stream",
     "text": [
      "NOTHING FOR: ../data/dfdc_train_part_37/kcusmosymx.mp4\n",
      "NOTHING FOR: ../data/dfdc_train_part_34/mhhcsyiobk.mp4\n",
      "NOTHING FOR: ../data/dfdc_train_part_37/piwcgqxvml.mp4\n",
      "\n"
     ]
    }
   ],
   "source": [
    "# Make validation files\n",
    "os.makedirs('../data/val', exist_ok=True)\n",
    "create_frames_from_videos(val_fake_files, suffix=\"FAKE\", folder=\"val\", num_frames=10)\n",
    "create_frames_from_videos(val_real_files, suffix=\"REAL\", folder=\"val\", num_frames=10)"
   ]
  }
 ],
 "metadata": {
  "kernelspec": {
   "display_name": "Python (dl)",
   "language": "python",
   "name": "dl"
  },
  "language_info": {
   "codemirror_mode": {
    "name": "ipython",
    "version": 3
   },
   "file_extension": ".py",
   "mimetype": "text/x-python",
   "name": "python",
   "nbconvert_exporter": "python",
   "pygments_lexer": "ipython3",
   "version": "3.7.6"
  }
 },
 "nbformat": 4,
 "nbformat_minor": 4
}
