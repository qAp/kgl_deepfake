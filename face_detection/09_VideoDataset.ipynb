{
 "cells": [
  {
   "cell_type": "markdown",
   "metadata": {},
   "source": [
    "## Video Dataset"
   ]
  },
  {
   "cell_type": "markdown",
   "metadata": {},
   "source": [
    "Up until this point we have been training models on single frames from a video. Let's try training them on multiple frames instead.\n",
    "\n",
    "To start, we'll take all of the videos in `HardDeepFakes` and create 4 frame subsets of them."
   ]
  },
  {
   "cell_type": "code",
   "execution_count": 1,
   "metadata": {},
   "outputs": [],
   "source": [
    "import os\n",
    "import glob\n",
    "import torch\n",
    "\n",
    "from pathlib import Path\n",
    "import numpy as np\n",
    "import torch.nn.functional as F\n",
    "import fastai\n",
    "from fastai.vision import *\n",
    "from fastai.basics import *\n",
    "from video_utils import read_random_sequential_frames, plot_detections, load_all_metadata\n",
    "from video_utils import read_frames\n",
    "from tqdm.notebook import tqdm\n",
    "\n",
    "import matplotlib.pyplot as plt\n",
    "\n",
    "from EasyBlazeFace import EasyBlazeFace\n",
    "from EasyRetinaFace import EasyRetinaFace"
   ]
  },
  {
   "cell_type": "code",
   "execution_count": 2,
   "metadata": {},
   "outputs": [
    {
     "data": {
      "application/vnd.jupyter.widget-view+json": {
       "model_id": "8ace9ceb86cf4bdaadd1b2985cd37fc7",
       "version_major": 2,
       "version_minor": 0
      },
      "text/plain": [
       "HBox(children=(FloatProgress(value=0.0, max=50.0), HTML(value='')))"
      ]
     },
     "metadata": {},
     "output_type": "display_data"
    },
    {
     "name": "stdout",
     "output_type": "stream",
     "text": [
      "\n"
     ]
    }
   ],
   "source": [
    "all_metadata = load_all_metadata()"
   ]
  },
  {
   "cell_type": "code",
   "execution_count": 15,
   "metadata": {},
   "outputs": [],
   "source": [
    "def get_faces_from_multiple_frames(detector, path, num_frames=10):\n",
    "    \"\"\"\n",
    "    Given the path to a video (.mp4) read `num_frames` sequential random frames\n",
    "    and return any faces found within the frames.\n",
    "    \"\"\"\n",
    "    \n",
    "    frames = read_frames(path, start=0, end=num_frames)\n",
    "          \n",
    "    # Get a set of detections for these frames\n",
    "    detections_for_frames = detector.get_detections_with_multiple_crops(frames)\n",
    "    \n",
    "    detections_for_frames = [x for x in detections_for_frames if len(x) != 0]\n",
    "\n",
    "    if len(detections_for_frames) == 0:\n",
    "        return []\n",
    "    \n",
    "    frame_height, frame_width, _ = frames[0].shape\n",
    "    \n",
    "    \n",
    "    # A list of the detections for each face in the video.\n",
    "    # Each face has one set of coordinates that contains ALL of the bounding boxes from every frame.\n",
    "    largest_detections = []\n",
    "\n",
    "    # Get detections for the first frame\n",
    "    firstFrameDetections = detections_for_frames[0]\n",
    "    \n",
    "    for x_min, y_min, x_max, y_max, _  in firstFrameDetections:\n",
    "        largest_detections.append([x_min, y_min, x_max, y_max])\n",
    "        \n",
    "    for detections in detections_for_frames[1:]:\n",
    "        \n",
    "        # If there are any detections that indicate multiple people, ignore this video\n",
    "        if len(detections) != 1:\n",
    "            return []\n",
    "    \n",
    "        only_detection = detections[0]\n",
    "        x_min, y_min, x_max, y_max, _ = only_detection\n",
    "\n",
    "        # TODO: Generalize for videos with multiple people\n",
    "        current_largest_detection = largest_detections[0]\n",
    "        current_x_min, current_y_min, current_x_max, current_y_max = current_largest_detection\n",
    "\n",
    "        # Expand the bounding box if neccessary to include this one\n",
    "        current_x_min = min(x_min, current_x_min)\n",
    "        current_y_min = min(y_min, current_y_min)\n",
    "        current_x_max = max(x_max, current_x_max)\n",
    "        current_y_max = max(y_max, current_y_max)\n",
    "        \n",
    "        # Make sure dets are within the frame\n",
    "        current_x_min = max(current_x_min, 0)\n",
    "        current_y_min = max(current_y_min, 0)\n",
    "        current_x_max = min(current_x_max, frame_width)\n",
    "        current_y_max = min(current_y_max, frame_height)\n",
    "        \n",
    "        largest_detections[0] = [current_x_min, current_y_min, current_x_max, current_y_max]\n",
    "        \n",
    "    # Now that we have a set of detections, apply them against the frames and \n",
    "    # return only the portions of the frames that contain the face\n",
    "    faces = []\n",
    "    for x_min, y_min, x_max, y_max in largest_detections:\n",
    "        # Get only the face from the frames\n",
    "        face_frames = frames[:, int(y_min):int(y_max), int(x_min):int(x_max)]\n",
    "        faces.append(face_frames)\n",
    "        \n",
    "\n",
    "    return faces"
   ]
  },
  {
   "cell_type": "code",
   "execution_count": 16,
   "metadata": {
    "scrolled": true
   },
   "outputs": [],
   "source": [
    "def create_frames_from_videos(df, folder='train', num_frames=10):\n",
    "    \n",
    "    no_good = []\n",
    "    \n",
    "    easyBlazeFace = EasyBlazeFace()\n",
    "\n",
    "    for i, row in tqdm(df.iterrows()):\n",
    "        try:\n",
    "            video_path = row['directory'] + \"/\" + row['fname']\n",
    "            suffix = row['label']\n",
    "\n",
    "            # Get detections from video with BlazeFace by default\n",
    "            faces = get_faces_from_multiple_frames(easyBlazeFace, video_path, num_frames=num_frames)\n",
    "\n",
    "            if len(faces) == 0:\n",
    "                no_good.append(video_path)\n",
    "                if len(no_good) % 500 == 0:\n",
    "                    print(\"No faces: {}\".format(len(no_good)))\n",
    "                continue\n",
    "\n",
    "            # Assume a single person\n",
    "            faces = faces[0]\n",
    "\n",
    "            # Stack frames along channel dimension\n",
    "            #(n, h, w, c) -> (n * c, h, w)\n",
    "            faces = np.concatenate([f.squeeze() for f in faces], axis=-1)\n",
    "\n",
    "            # Save as .npy file    \n",
    "            save_path = \"../data/\" + folder + \"/\" + row['fname'] + \"_\"  + suffix + \".npy\"    \n",
    "            np.save(save_path, faces)\n",
    "        except Exception as e: \n",
    "            print(\"ERROR\")\n",
    "            print(row['fname'])\n",
    "            print(e)\n",
    "            print()"
   ]
  },
  {
   "cell_type": "code",
   "execution_count": null,
   "metadata": {},
   "outputs": [],
   "source": [
    "# Make training files\n",
    "os.makedirs('../data/train', exist_ok=True)\n",
    "\n",
    "train = pd.read_csv('../data/cropped_faces/train.csv')\n",
    "\n",
    "create_frames_from_videos(train, folder=\"train\", num_frames=16)"
   ]
  },
  {
   "cell_type": "code",
   "execution_count": null,
   "metadata": {},
   "outputs": [],
   "source": [
    "# Make training files\n",
    "os.makedirs('../data/valid', exist_ok=True)\n",
    "\n",
    "valid = pd.read_csv('../data/cropped_faces/valid.csv')\n",
    "\n",
    "create_frames_from_videos(valid, folder=\"valid\", num_frames=16)"
   ]
  },
  {
   "cell_type": "code",
   "execution_count": 11,
   "metadata": {
    "scrolled": false
   },
   "outputs": [
    {
     "name": "stdout",
     "output_type": "stream",
     "text": [
      "Loading pretrained model from Pytorch_Retinaface/weights/Resnet50_Final.pth\n",
      "remove prefix 'module.'\n",
      "Missing keys:0\n",
      "Unused checkpoint keys:0\n",
      "Used keys:456\n"
     ]
    },
    {
     "data": {
      "application/vnd.jupyter.widget-view+json": {
       "model_id": "6ed500d4b790441a863b79c86cb6914e",
       "version_major": 2,
       "version_minor": 0
      },
      "text/plain": [
       "HBox(children=(FloatProgress(value=0.0, max=80.0), HTML(value='')))"
      ]
     },
     "metadata": {},
     "output_type": "display_data"
    },
    {
     "name": "stdout",
     "output_type": "stream",
     "text": [
      "\n"
     ]
    },
    {
     "ename": "KeyboardInterrupt",
     "evalue": "",
     "output_type": "error",
     "traceback": [
      "\u001b[0;31m---------------------------------------------------------------------------\u001b[0m",
      "\u001b[0;31mKeyboardInterrupt\u001b[0m                         Traceback (most recent call last)",
      "\u001b[0;32m<ipython-input-11-549243def30c>\u001b[0m in \u001b[0;36m<module>\u001b[0;34m\u001b[0m\n\u001b[1;32m      2\u001b[0m \u001b[0mos\u001b[0m\u001b[0;34m.\u001b[0m\u001b[0mmakedirs\u001b[0m\u001b[0;34m(\u001b[0m\u001b[0;34m'../data/train'\u001b[0m\u001b[0;34m,\u001b[0m \u001b[0mexist_ok\u001b[0m\u001b[0;34m=\u001b[0m\u001b[0;32mTrue\u001b[0m\u001b[0;34m)\u001b[0m\u001b[0;34m\u001b[0m\u001b[0;34m\u001b[0m\u001b[0m\n\u001b[1;32m      3\u001b[0m \u001b[0;34m\u001b[0m\u001b[0m\n\u001b[0;32m----> 4\u001b[0;31m \u001b[0mcreate_frames_from_videos\u001b[0m\u001b[0;34m(\u001b[0m\u001b[0mtrain_fake_files\u001b[0m\u001b[0;34m,\u001b[0m \u001b[0msuffix\u001b[0m\u001b[0;34m=\u001b[0m\u001b[0;34m\"FAKE\"\u001b[0m\u001b[0;34m,\u001b[0m \u001b[0mfolder\u001b[0m\u001b[0;34m=\u001b[0m\u001b[0;34m\"train\"\u001b[0m\u001b[0;34m,\u001b[0m \u001b[0mnum_frames\u001b[0m\u001b[0;34m=\u001b[0m\u001b[0;36m16\u001b[0m\u001b[0;34m)\u001b[0m\u001b[0;34m\u001b[0m\u001b[0;34m\u001b[0m\u001b[0m\n\u001b[0m\u001b[1;32m      5\u001b[0m \u001b[0mcreate_frames_from_videos\u001b[0m\u001b[0;34m(\u001b[0m\u001b[0mtrain_real_files\u001b[0m\u001b[0;34m,\u001b[0m \u001b[0msuffix\u001b[0m\u001b[0;34m=\u001b[0m\u001b[0;34m\"REAL\"\u001b[0m\u001b[0;34m,\u001b[0m \u001b[0mfolder\u001b[0m\u001b[0;34m=\u001b[0m\u001b[0;34m\"train\"\u001b[0m\u001b[0;34m,\u001b[0m \u001b[0mnum_frames\u001b[0m\u001b[0;34m=\u001b[0m\u001b[0;36m16\u001b[0m\u001b[0;34m)\u001b[0m\u001b[0;34m\u001b[0m\u001b[0;34m\u001b[0m\u001b[0m\n",
      "\u001b[0;32m<ipython-input-9-8629008f31de>\u001b[0m in \u001b[0;36mcreate_frames_from_videos\u001b[0;34m(files, suffix, folder, num_frames)\u001b[0m\n\u001b[1;32m     14\u001b[0m \u001b[0;34m\u001b[0m\u001b[0m\n\u001b[1;32m     15\u001b[0m                 \u001b[0;31m# Get detections from video with BlazeFace by default\u001b[0m\u001b[0;34m\u001b[0m\u001b[0;34m\u001b[0m\u001b[0;34m\u001b[0m\u001b[0m\n\u001b[0;32m---> 16\u001b[0;31m                 \u001b[0mfaces\u001b[0m \u001b[0;34m=\u001b[0m \u001b[0mget_faces_from_multiple_frames\u001b[0m\u001b[0;34m(\u001b[0m\u001b[0measyBlazeFace\u001b[0m\u001b[0;34m,\u001b[0m \u001b[0mvideo_path\u001b[0m\u001b[0;34m,\u001b[0m \u001b[0mnum_frames\u001b[0m\u001b[0;34m=\u001b[0m\u001b[0mnum_frames\u001b[0m\u001b[0;34m)\u001b[0m\u001b[0;34m\u001b[0m\u001b[0;34m\u001b[0m\u001b[0m\n\u001b[0m\u001b[1;32m     17\u001b[0m \u001b[0;34m\u001b[0m\u001b[0m\n\u001b[1;32m     18\u001b[0m                 \u001b[0;32mif\u001b[0m \u001b[0mlen\u001b[0m\u001b[0;34m(\u001b[0m\u001b[0mfaces\u001b[0m\u001b[0;34m)\u001b[0m \u001b[0;34m==\u001b[0m \u001b[0;36m0\u001b[0m\u001b[0;34m:\u001b[0m\u001b[0;34m\u001b[0m\u001b[0;34m\u001b[0m\u001b[0m\n",
      "\u001b[0;32m<ipython-input-8-36183031e4bc>\u001b[0m in \u001b[0;36mget_faces_from_multiple_frames\u001b[0;34m(detector, path, num_frames)\u001b[0m\n\u001b[1;32m      8\u001b[0m \u001b[0;34m\u001b[0m\u001b[0m\n\u001b[1;32m      9\u001b[0m     \u001b[0;31m# Get a set of detections for these frames\u001b[0m\u001b[0;34m\u001b[0m\u001b[0;34m\u001b[0m\u001b[0;34m\u001b[0m\u001b[0m\n\u001b[0;32m---> 10\u001b[0;31m     \u001b[0mdetections_for_frames\u001b[0m \u001b[0;34m=\u001b[0m \u001b[0mdetector\u001b[0m\u001b[0;34m.\u001b[0m\u001b[0mdetect_on_multiple_frames\u001b[0m\u001b[0;34m(\u001b[0m\u001b[0mframes\u001b[0m\u001b[0;34m)\u001b[0m\u001b[0;34m\u001b[0m\u001b[0;34m\u001b[0m\u001b[0m\n\u001b[0m\u001b[1;32m     11\u001b[0m \u001b[0;34m\u001b[0m\u001b[0m\n\u001b[1;32m     12\u001b[0m     \u001b[0;32mif\u001b[0m \u001b[0mlen\u001b[0m\u001b[0;34m(\u001b[0m\u001b[0mdetections_for_frames\u001b[0m\u001b[0;34m)\u001b[0m \u001b[0;34m==\u001b[0m \u001b[0;36m0\u001b[0m\u001b[0;34m:\u001b[0m\u001b[0;34m\u001b[0m\u001b[0;34m\u001b[0m\u001b[0m\n",
      "\u001b[0;32m~/git/kgl_deepfake/face_detection/EasyBlazeFace.py\u001b[0m in \u001b[0;36mdetect_on_multiple_frames\u001b[0;34m(self, frames)\u001b[0m\n\u001b[1;32m    436\u001b[0m \u001b[0;34m\u001b[0m\u001b[0m\n\u001b[1;32m    437\u001b[0m         \u001b[0;32mfor\u001b[0m \u001b[0mframe\u001b[0m\u001b[0;34m,\u001b[0m \u001b[0mdetections\u001b[0m \u001b[0;32min\u001b[0m \u001b[0mzip\u001b[0m\u001b[0;34m(\u001b[0m\u001b[0mframes\u001b[0m\u001b[0;34m,\u001b[0m \u001b[0mbatch_detections\u001b[0m\u001b[0;34m)\u001b[0m\u001b[0;34m:\u001b[0m\u001b[0;34m\u001b[0m\u001b[0;34m\u001b[0m\u001b[0m\n\u001b[0;32m--> 438\u001b[0;31m             \u001b[0mformatted_detections\u001b[0m \u001b[0;34m=\u001b[0m \u001b[0mEasyBlazeFace\u001b[0m\u001b[0;34m.\u001b[0m\u001b[0m_format_detections\u001b[0m\u001b[0;34m(\u001b[0m\u001b[0mdetections\u001b[0m\u001b[0;34m,\u001b[0m \u001b[0mframe\u001b[0m\u001b[0;34m.\u001b[0m\u001b[0mshape\u001b[0m\u001b[0;34m[\u001b[0m\u001b[0;36m0\u001b[0m\u001b[0;34m]\u001b[0m\u001b[0;34m,\u001b[0m \u001b[0mframe\u001b[0m\u001b[0;34m.\u001b[0m\u001b[0mshape\u001b[0m\u001b[0;34m[\u001b[0m\u001b[0;36m1\u001b[0m\u001b[0;34m]\u001b[0m\u001b[0;34m)\u001b[0m\u001b[0;34m\u001b[0m\u001b[0;34m\u001b[0m\u001b[0m\n\u001b[0m\u001b[1;32m    439\u001b[0m \u001b[0;34m\u001b[0m\u001b[0m\n\u001b[1;32m    440\u001b[0m             \u001b[0;31m# NOTE: Only add the detections if there are any\u001b[0m\u001b[0;34m\u001b[0m\u001b[0;34m\u001b[0m\u001b[0;34m\u001b[0m\u001b[0m\n",
      "\u001b[0;32m~/git/kgl_deepfake/face_detection/EasyBlazeFace.py\u001b[0m in \u001b[0;36m_format_detections\u001b[0;34m(detections, frame_height, frame_width, num_frames)\u001b[0m\n\u001b[1;32m    473\u001b[0m \u001b[0;34m\u001b[0m\u001b[0m\n\u001b[1;32m    474\u001b[0m             \u001b[0mheight\u001b[0m \u001b[0;34m=\u001b[0m \u001b[0;34m(\u001b[0m\u001b[0;36m1\u001b[0m \u001b[0;34m/\u001b[0m \u001b[0mheight_ratio\u001b[0m\u001b[0;34m)\u001b[0m \u001b[0;34m*\u001b[0m \u001b[0mheight\u001b[0m    \u001b[0;31m# undo the original height change\u001b[0m\u001b[0;34m\u001b[0m\u001b[0;34m\u001b[0m\u001b[0m\n\u001b[0;32m--> 475\u001b[0;31m             \u001b[0mwidth\u001b[0m \u001b[0;34m=\u001b[0m \u001b[0;34m(\u001b[0m\u001b[0;36m1\u001b[0m \u001b[0;34m/\u001b[0m \u001b[0mwidth_ratio\u001b[0m\u001b[0;34m)\u001b[0m \u001b[0;34m*\u001b[0m \u001b[0mwidth\u001b[0m       \u001b[0;31m# undo the original width change\u001b[0m\u001b[0;34m\u001b[0m\u001b[0;34m\u001b[0m\u001b[0m\n\u001b[0m\u001b[1;32m    476\u001b[0m \u001b[0;34m\u001b[0m\u001b[0m\n\u001b[1;32m    477\u001b[0m             \u001b[0mheight\u001b[0m \u001b[0;34m=\u001b[0m \u001b[0mheight\u001b[0m \u001b[0;34m*\u001b[0m \u001b[0;36m1.2\u001b[0m                   \u001b[0;31m# increase height by 20%\u001b[0m\u001b[0;34m\u001b[0m\u001b[0;34m\u001b[0m\u001b[0m\n",
      "\u001b[0;31mKeyboardInterrupt\u001b[0m: "
     ]
    }
   ],
   "source": [
    "# Make training files\n",
    "os.makedirs('../data/train', exist_ok=True)\n",
    "\n",
    "create_frames_from_videos(train_fake_files, suffix=\"FAKE\", folder=\"train\", num_frames=16)\n",
    "create_frames_from_videos(train_real_files, suffix=\"REAL\", folder=\"train\", num_frames=16)"
   ]
  },
  {
   "cell_type": "code",
   "execution_count": 9,
   "metadata": {},
   "outputs": [
    {
     "name": "stdout",
     "output_type": "stream",
     "text": [
      "Loading pretrained model from Pytorch_Retinaface/weights/Resnet50_Final.pth\n",
      "remove prefix 'module.'\n",
      "Missing keys:0\n",
      "Unused checkpoint keys:0\n",
      "Used keys:456\n"
     ]
    },
    {
     "data": {
      "application/vnd.jupyter.widget-view+json": {
       "model_id": "345346b6136c4efd967bacd36dba2f4e",
       "version_major": 2,
       "version_minor": 0
      },
      "text/plain": [
       "HBox(children=(FloatProgress(value=0.0, max=20.0), HTML(value='')))"
      ]
     },
     "metadata": {},
     "output_type": "display_data"
    },
    {
     "name": "stdout",
     "output_type": "stream",
     "text": [
      "\n",
      "Loading pretrained model from Pytorch_Retinaface/weights/Resnet50_Final.pth\n",
      "remove prefix 'module.'\n",
      "Missing keys:0\n",
      "Unused checkpoint keys:0\n",
      "Used keys:456\n"
     ]
    },
    {
     "data": {
      "application/vnd.jupyter.widget-view+json": {
       "model_id": "056a3e75917d4f538d145b1c88344c37",
       "version_major": 2,
       "version_minor": 0
      },
      "text/plain": [
       "HBox(children=(FloatProgress(value=0.0, max=20.0), HTML(value='')))"
      ]
     },
     "metadata": {},
     "output_type": "display_data"
    },
    {
     "name": "stdout",
     "output_type": "stream",
     "text": [
      "\n"
     ]
    }
   ],
   "source": [
    "# Make validation files\n",
    "os.makedirs('../data/val', exist_ok=True)\n",
    "create_frames_from_videos(val_fake_files, suffix=\"FAKE\", folder=\"val\", num_frames=16)\n",
    "create_frames_from_videos(val_real_files, suffix=\"REAL\", folder=\"val\", num_frames=16)"
   ]
  },
  {
   "cell_type": "code",
   "execution_count": null,
   "metadata": {},
   "outputs": [],
   "source": []
  }
 ],
 "metadata": {
  "kernelspec": {
   "display_name": "Python (dl)",
   "language": "python",
   "name": "dl"
  },
  "language_info": {
   "codemirror_mode": {
    "name": "ipython",
    "version": 3
   },
   "file_extension": ".py",
   "mimetype": "text/x-python",
   "name": "python",
   "nbconvert_exporter": "python",
   "pygments_lexer": "ipython3",
   "version": "3.7.6"
  }
 },
 "nbformat": 4,
 "nbformat_minor": 4
}
