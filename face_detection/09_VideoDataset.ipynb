{
 "cells": [
  {
   "cell_type": "markdown",
   "metadata": {},
   "source": [
    "## Video Dataset"
   ]
  },
  {
   "cell_type": "markdown",
   "metadata": {},
   "source": [
    "Up until this point we have been training models on single frames from a video. Let's try training them on multiple frames instead.\n",
    "\n",
    "To start, we'll take all of the videos in `HardDeepFakes` and create 4 frame subsets of them."
   ]
  },
  {
   "cell_type": "code",
   "execution_count": 1,
   "metadata": {},
   "outputs": [],
   "source": [
    "import os\n",
    "import glob\n",
    "import torch\n",
    "\n",
    "from pathlib import Path\n",
    "import numpy as np\n",
    "import torch.nn.functional as F\n",
    "import fastai\n",
    "from fastai.vision import *\n",
    "from fastai.basics import *\n",
    "from video_utils import read_random_sequential_frames, plot_detections, load_all_metadata\n",
    "from video_utils import read_frames\n",
    "from tqdm.notebook import tqdm\n",
    "\n",
    "import matplotlib.pyplot as plt\n",
    "\n",
    "from EasyBlazeFace import EasyBlazeFace\n",
    "from EasyRetinaFace import EasyRetinaFace"
   ]
  },
  {
   "cell_type": "code",
   "execution_count": 2,
   "metadata": {},
   "outputs": [
    {
     "data": {
      "application/vnd.jupyter.widget-view+json": {
       "model_id": "8ace9ceb86cf4bdaadd1b2985cd37fc7",
       "version_major": 2,
       "version_minor": 0
      },
      "text/plain": [
       "HBox(children=(FloatProgress(value=0.0, max=50.0), HTML(value='')))"
      ]
     },
     "metadata": {},
     "output_type": "display_data"
    },
    {
     "name": "stdout",
     "output_type": "stream",
     "text": [
      "\n"
     ]
    }
   ],
   "source": [
    "all_metadata = load_all_metadata()"
   ]
  },
  {
   "cell_type": "code",
   "execution_count": 15,
   "metadata": {},
   "outputs": [],
   "source": [
    "def get_faces_from_multiple_frames(detector, path, num_frames=10):\n",
    "    \"\"\"\n",
    "    Given the path to a video (.mp4) read `num_frames` sequential random frames\n",
    "    and return any faces found within the frames.\n",
    "    \"\"\"\n",
    "    \n",
    "    frames = read_frames(path, start=0, end=num_frames)\n",
    "          \n",
    "    # Get a set of detections for these frames\n",
    "    detections_for_frames = detector.get_detections_with_multiple_crops(frames)\n",
    "    \n",
    "    detections_for_frames = [x for x in detections_for_frames if len(x) != 0]\n",
    "\n",
    "    if len(detections_for_frames) == 0:\n",
    "        return []\n",
    "    \n",
    "    frame_height, frame_width, _ = frames[0].shape\n",
    "    \n",
    "    \n",
    "    # A list of the detections for each face in the video.\n",
    "    # Each face has one set of coordinates that contains ALL of the bounding boxes from every frame.\n",
    "    largest_detections = []\n",
    "\n",
    "    # Get detections for the first frame\n",
    "    firstFrameDetections = detections_for_frames[0]\n",
    "    \n",
    "    for x_min, y_min, x_max, y_max, _  in firstFrameDetections:\n",
    "        largest_detections.append([x_min, y_min, x_max, y_max])\n",
    "        \n",
    "    for detections in detections_for_frames[1:]:\n",
    "        \n",
    "        # If there are any detections that indicate multiple people, ignore this video\n",
    "        if len(detections) != 1:\n",
    "            return []\n",
    "    \n",
    "        only_detection = detections[0]\n",
    "        x_min, y_min, x_max, y_max, _ = only_detection\n",
    "\n",
    "        # TODO: Generalize for videos with multiple people\n",
    "        current_largest_detection = largest_detections[0]\n",
    "        current_x_min, current_y_min, current_x_max, current_y_max = current_largest_detection\n",
    "\n",
    "        # Expand the bounding box if neccessary to include this one\n",
    "        current_x_min = min(x_min, current_x_min)\n",
    "        current_y_min = min(y_min, current_y_min)\n",
    "        current_x_max = max(x_max, current_x_max)\n",
    "        current_y_max = max(y_max, current_y_max)\n",
    "        \n",
    "        # Make sure dets are within the frame\n",
    "        current_x_min = max(current_x_min, 0)\n",
    "        current_y_min = max(current_y_min, 0)\n",
    "        current_x_max = min(current_x_max, frame_width)\n",
    "        current_y_max = min(current_y_max, frame_height)\n",
    "        \n",
    "        largest_detections[0] = [current_x_min, current_y_min, current_x_max, current_y_max]\n",
    "        \n",
    "    # Now that we have a set of detections, apply them against the frames and \n",
    "    # return only the portions of the frames that contain the face\n",
    "    faces = []\n",
    "    for x_min, y_min, x_max, y_max in largest_detections:\n",
    "        # Get only the face from the frames\n",
    "        face_frames = frames[:, int(y_min):int(y_max), int(x_min):int(x_max)]\n",
    "        faces.append(face_frames)\n",
    "        \n",
    "\n",
    "    return faces"
   ]
  },
  {
   "cell_type": "code",
   "execution_count": 16,
   "metadata": {
    "scrolled": true
   },
   "outputs": [],
   "source": [
    "def create_frames_from_videos(df, folder='train', num_frames=10):\n",
    "    \n",
    "    no_good = []\n",
    "    \n",
    "    easyBlazeFace = EasyBlazeFace()\n",
    "\n",
    "    for i, row in tqdm(df.iterrows()):\n",
    "        try:\n",
    "            video_path = row['directory'] + \"/\" + row['fname']\n",
    "            suffix = row['label']\n",
    "\n",
    "            # Get detections from video with BlazeFace by default\n",
    "            faces = get_faces_from_multiple_frames(easyBlazeFace, video_path, num_frames=num_frames)\n",
    "\n",
    "            if len(faces) == 0:\n",
    "                no_good.append(video_path)\n",
    "                if len(no_good) % 500 == 0:\n",
    "                    print(\"No faces: {}\".format(len(no_good)))\n",
    "                continue\n",
    "\n",
    "            # Assume a single person\n",
    "            faces = faces[0]\n",
    "\n",
    "            # Stack frames along channel dimension\n",
    "            #(n, h, w, c) -> (n * c, h, w)\n",
    "            faces = np.concatenate([f.squeeze() for f in faces], axis=-1)\n",
    "\n",
    "            # Save as .npy file    \n",
    "            save_path = \"../data/\" + folder + \"/\" + row['fname'] + \"_\"  + suffix + \".npy\"    \n",
    "            np.save(save_path, faces)\n",
    "        except Exception as e: \n",
    "            print(\"ERROR\")\n",
    "            print(row['fname'])\n",
    "            print(e)\n",
    "            print()"
   ]
  },
  {
   "cell_type": "code",
   "execution_count": null,
   "metadata": {},
   "outputs": [],
   "source": [
    "# Make training files\n",
    "os.makedirs('../data/train', exist_ok=True)\n",
    "\n",
    "train = pd.read_csv('../data/cropped_faces/train.csv')\n",
    "\n",
    "create_frames_from_videos(train, folder=\"train\", num_frames=16)"
   ]
  },
  {
   "cell_type": "code",
   "execution_count": null,
   "metadata": {},
   "outputs": [],
   "source": [
    "# Make training files\n",
    "os.makedirs('../data/valid', exist_ok=True)\n",
    "\n",
    "valid = pd.read_csv('../data/cropped_faces/valid.csv')\n",
    "\n",
    "create_frames_from_videos(valid, folder=\"valid\", num_frames=16)"
   ]
  }
 ],
 "metadata": {
  "kernelspec": {
   "display_name": "Python (dl)",
   "language": "python",
   "name": "dl"
  },
  "language_info": {
   "codemirror_mode": {
    "name": "ipython",
    "version": 3
   },
   "file_extension": ".py",
   "mimetype": "text/x-python",
   "name": "python",
   "nbconvert_exporter": "python",
   "pygments_lexer": "ipython3",
   "version": "3.7.6"
  }
 },
 "nbformat": 4,
 "nbformat_minor": 4
}
